{
 "cells": [
  {
   "cell_type": "markdown",
   "id": "f22bf4ef",
   "metadata": {},
   "source": [
    "# List Methods\n",
    "Python has a set of built-in methods that you can use on lists.\n",
    "\n",
    "* `append()`\tAdds an element at the end of the list\n",
    "*`clear()`\tRemoves all the elements from the list\n",
    "* `copy()`\tReturns a copy of the list\n",
    "* `count()`\tReturns the number of elements with the specified value\n",
    "* `extend()`\tAdd the elements of a list (or any iterable), to the end of the current list\n",
    "* `index()`\tReturns the index of the first element with the specified value\n",
    "* `insert()`\tAdds an element at the specified position\n",
    "* `pop()`\tRemoves the element at the specified position\n",
    "* `remove()`\tRemoves the item with the specified value\n",
    "* `reverse()`\tReverses the order of the list\n",
    "* `sort()`\tSorts the list\n",
    "\n",
    "## Example\n",
    "\n",
    "> Adds an element at the end of the list"
   ]
  },
  {
   "cell_type": "code",
   "execution_count": 1,
   "id": "24439e36",
   "metadata": {},
   "outputs": [
    {
     "data": {
      "text/plain": [
       "['apple', 'banana', 'cherry', 'orange']"
      ]
     },
     "execution_count": 1,
     "metadata": {},
     "output_type": "execute_result"
    }
   ],
   "source": [
    "fruits = ['apple', 'banana', 'cherry']\n",
    "fruits.append(\"orange\")\n",
    "print(fruits)"
   ]
  },
  {
   "cell_type": "code",
   "execution_count": 10,
   "id": "94dca1e2",
   "metadata": {},
   "outputs": [
    {
     "name": "stdout",
     "output_type": "stream",
     "text": [
      "['farid', 'ali', True, 100, 'text']\n"
     ]
    }
   ],
   "source": [
    "name = ['farid', 'ali']\n",
    "name.append(True)\n",
    "name.append(100)\n",
    "name.append('text')\n",
    "print(name)"
   ]
  },
  {
   "cell_type": "code",
   "execution_count": 11,
   "id": "53a119fe",
   "metadata": {},
   "outputs": [
    {
     "name": "stdout",
     "output_type": "stream",
     "text": [
      "['apple', 'banana', 'cherry', ['Ford', 'BMW', 'Volvo']]\n"
     ]
    }
   ],
   "source": [
    "a = [\"apple\", \"banana\", \"cherry\"]\n",
    "b = [\"Ford\", \"BMW\", \"Volvo\"]\n",
    "a.append(b)\n",
    "print(a)"
   ]
  },
  {
   "cell_type": "code",
   "execution_count": 5,
   "id": "b3194d5d",
   "metadata": {},
   "outputs": [
    {
     "name": "stdout",
     "output_type": "stream",
     "text": [
      "[[1, 2, 3], [4, 5, 6]]\n",
      "2\n",
      "3\n"
     ]
    }
   ],
   "source": [
    "num = [[1,2,3], [4, 5, 6]]\n",
    "print(num)\n",
    "print(len(num))\n",
    "print(num[0][2])"
   ]
  },
  {
   "cell_type": "code",
   "execution_count": null,
   "id": "27012744",
   "metadata": {},
   "outputs": [],
   "source": [
    "num"
   ]
  },
  {
   "cell_type": "code",
   "execution_count": 13,
   "id": "30315551",
   "metadata": {},
   "outputs": [
    {
     "name": "stdout",
     "output_type": "stream",
     "text": [
      "['ali', 'farid', 'babak', 'neda']\n"
     ]
    }
   ],
   "source": [
    "name = ['farid', 'babak', 'neda']\n",
    "name.insert(0, 'ali')\n",
    "print(name)"
   ]
  },
  {
   "cell_type": "code",
   "execution_count": 14,
   "id": "708e7272",
   "metadata": {},
   "outputs": [
    {
     "name": "stdout",
     "output_type": "stream",
     "text": [
      "[2, 3, 4, 5, 6, 7, 8, 9, 10, 11, 'Add', 12, 13, 14, 15, 16, 17, 18, 19, 20, 21, 22, 23, 24, 25, 26, 27, 28, 29, 30, 31, 32, 33, 34, 35, 36, 37, 38, 39, 40, 41, 42, 43, 44, 45, 46, 47, 48, 49, 50, 51, 52, 53, 54, 55, 56, 57, 58, 59, 60, 61, 62, 63, 64, 65, 66, 67, 68, 69, 70, 71, 72, 73, 74, 75, 76, 77, 78, 79, 80, 81, 82, 83, 84, 85, 86, 87, 88, 89, 90, 91, 92, 93, 94, 95, 96, 97, 98, 99]\n"
     ]
    }
   ],
   "source": [
    "number = list(range(2,100))\n",
    "number.insert(10, 'Add')\n",
    "print(number)"
   ]
  },
  {
   "cell_type": "code",
   "execution_count": 3,
   "id": "77782036",
   "metadata": {},
   "outputs": [
    {
     "name": "stdout",
     "output_type": "stream",
     "text": [
      "[]\n",
      "[12, 'farid', True]\n"
     ]
    }
   ],
   "source": [
    "x = []\n",
    "print(x)\n",
    "x.append(12)\n",
    "x.append('farid')\n",
    "x.append(True)\n",
    "print(x)"
   ]
  },
  {
   "cell_type": "markdown",
   "id": "a7ea7051",
   "metadata": {},
   "source": [
    "## `insert()` \n",
    "> Adds an element at the specified position\n",
    "\n",
    "## Example"
   ]
  },
  {
   "cell_type": "code",
   "execution_count": 7,
   "id": "041ee117",
   "metadata": {},
   "outputs": [
    {
     "name": "stdout",
     "output_type": "stream",
     "text": [
      "['apple', 'orange', 'banana', 'cherry']\n"
     ]
    }
   ],
   "source": [
    "fruits = ['apple', 'banana', 'cherry']\n",
    "\n",
    "fruits.insert(1, \"orange\")\n",
    "print(fruits)"
   ]
  },
  {
   "cell_type": "markdown",
   "id": "2f9fd254",
   "metadata": {},
   "source": [
    "## `pop()`\n",
    "> Removes the element at the specified position\n",
    "\n",
    "## Example"
   ]
  },
  {
   "cell_type": "code",
   "execution_count": 21,
   "id": "b62b15dd",
   "metadata": {},
   "outputs": [
    {
     "name": "stdout",
     "output_type": "stream",
     "text": [
      "['apple', 'banana', 'cherry']\n",
      "['apple', 'cherry']\n"
     ]
    }
   ],
   "source": [
    "fruits = ['apple', 'banana', 'cherry']\n",
    "print(fruits)\n",
    "fruits.pop(1)\n",
    "print(fruits)"
   ]
  },
  {
   "cell_type": "markdown",
   "id": "6a74d9ae",
   "metadata": {},
   "source": [
    "## `remove()`\n",
    "\n",
    "> Removes the item with the specified value\n",
    "\n",
    "## Example"
   ]
  },
  {
   "cell_type": "code",
   "execution_count": 6,
   "id": "3d111223",
   "metadata": {},
   "outputs": [
    {
     "name": "stdout",
     "output_type": "stream",
     "text": [
      "['apple', 'cherry']\n"
     ]
    }
   ],
   "source": [
    "fruits = ['apple', 'banana', 'cherry']\n",
    "\n",
    "fruits.remove(\"banana\")\n",
    "print(fruits)"
   ]
  },
  {
   "cell_type": "code",
   "execution_count": 22,
   "id": "3c63a24d",
   "metadata": {},
   "outputs": [
    {
     "name": "stdout",
     "output_type": "stream",
     "text": [
      "['ali', 'reza', True, 1, 3, 4]\n"
     ]
    }
   ],
   "source": [
    "name = ['ali', 'reza', True, 1, 2, 3, 4]\n",
    "name.remove(2)\n",
    "print(name)"
   ]
  },
  {
   "cell_type": "markdown",
   "id": "54e965e1",
   "metadata": {},
   "source": [
    "## `sort()`\n",
    "\n",
    "> Sort the list\n",
    "\n",
    "## Example\n"
   ]
  },
  {
   "cell_type": "code",
   "execution_count": 27,
   "id": "4a4d14c8",
   "metadata": {},
   "outputs": [
    {
     "name": "stdout",
     "output_type": "stream",
     "text": [
      "['BMW', 'Bmrd', 'Volvo']\n"
     ]
    }
   ],
   "source": [
    "cars = ['Bmrd', 'BMW', 'Volvo']\n",
    "\n",
    "cars.sort()\n",
    "print(cars)"
   ]
  },
  {
   "cell_type": "code",
   "execution_count": 30,
   "id": "cf29ab81",
   "metadata": {},
   "outputs": [
    {
     "name": "stdout",
     "output_type": "stream",
     "text": [
      "[34, 23, 14, 12, 10, 2, 1]\n"
     ]
    }
   ],
   "source": [
    "number = [10, 34, 2, 14, 1, 12, 23]\n",
    "\n",
    "number.sort(reverse=True)\n",
    "# number.reverse()\n",
    "\n",
    "print(number)"
   ]
  },
  {
   "cell_type": "code",
   "execution_count": 37,
   "id": "c7f0780b",
   "metadata": {},
   "outputs": [
    {
     "name": "stdout",
     "output_type": "stream",
     "text": [
      "farid\n",
      "['Reza', 'ali', 'babak']\n"
     ]
    }
   ],
   "source": [
    "name = ['farid', 'ali', 'babak']\n",
    "print(name[0])\n",
    "name[0] = 'reza'\n",
    "name[0]= 'Reza'\n",
    "print(name)"
   ]
  },
  {
   "cell_type": "code",
   "execution_count": 59,
   "id": "412d307d",
   "metadata": {},
   "outputs": [
    {
     "name": "stdout",
     "output_type": "stream",
     "text": [
      "farid\n",
      "neda\n",
      "ali\n",
      "['farid', 'ali', 'neda']\n"
     ]
    }
   ],
   "source": [
    "name = ['farid', 'ali', 'neda']\n",
    "x, y, z = name\n",
    "print(x)\n",
    "print(z)\n",
    "print(y)\n",
    "print(name)"
   ]
  },
  {
   "cell_type": "code",
   "execution_count": 64,
   "id": "d045319a",
   "metadata": {},
   "outputs": [
    {
     "name": "stdout",
     "output_type": "stream",
     "text": [
      "0\n",
      "1 2 3 4 5 6 7 8 9 10 11 12 13 14 15 16 17 18 19 20 21 22 23 24 25 26 27 28 29 30 31 32 33 34 35 36 37 38 39 40 41 42 43 44 45 46 47 48 49 50 51 52 53 54 55 56 57 58 59 60 61 62 63 64 65 66 67 68 69 70 71 72 73 74 75 76 77 78 79 80 81 82 83 84 85 86 87 88 89 90 91 92 93 94 95 96 97 98\n",
      "99\n"
     ]
    }
   ],
   "source": [
    "num = list(range(100))\n",
    "x, *y, z = num\n",
    "print(x)\n",
    "print(*y)\n",
    "print(z)"
   ]
  },
  {
   "cell_type": "markdown",
   "id": "f173024e",
   "metadata": {},
   "source": [
    "## Boolean Values\n",
    "* In programming you often need to know if an expression is `True` or `False`.\n",
    "\n",
    "* You can evaluate any expression in Python, and get one of two answers, `True` or `False`.\n",
    "\n",
    "* When you `compare` two values, the expression is evaluated and Python returns the `Boolean` answer:\n",
    "\n",
    "## Example"
   ]
  },
  {
   "cell_type": "code",
   "execution_count": 9,
   "id": "1c263772",
   "metadata": {},
   "outputs": [
    {
     "name": "stdout",
     "output_type": "stream",
     "text": [
      "True\n",
      "False\n",
      "False\n"
     ]
    }
   ],
   "source": [
    "print(10 > 9)\n",
    "print(10 == 9)\n",
    "print(10 < 9)"
   ]
  },
  {
   "cell_type": "markdown",
   "id": "e673504b",
   "metadata": {},
   "source": [
    "## Python Tuples\n",
    "\n",
    "* Tuples are used to store multiple items in a single variable.\n",
    "\n",
    "* `Tuple` is one of 4 `built-in data types` in Python used to store collections of data, the other 3 are `List`, `Set`, and `Dictionary`, all with different qualities and usage.\n",
    "\n",
    "* A `tuple` is a collection which is ordered and unchangeable.\n",
    "\n",
    "* `Tuples` are written with round brackets."
   ]
  },
  {
   "cell_type": "code",
   "execution_count": 41,
   "id": "642e2289",
   "metadata": {},
   "outputs": [
    {
     "name": "stdout",
     "output_type": "stream",
     "text": [
      "('apple',)\n",
      "<class 'tuple'>\n"
     ]
    }
   ],
   "source": [
    "fruits= (\"apple\",)\n",
    "print(fruits)\n",
    "print(type(fruits))"
   ]
  },
  {
   "cell_type": "markdown",
   "id": "011a5d0b",
   "metadata": {},
   "source": [
    "## Tuple Length\n",
    "To determine how many items a tuple has, use the `len()` function:\n",
    "\n",
    "## Example"
   ]
  },
  {
   "cell_type": "code",
   "execution_count": 11,
   "id": "3a9da990",
   "metadata": {},
   "outputs": [
    {
     "name": "stdout",
     "output_type": "stream",
     "text": [
      "<class 'tuple'>\n"
     ]
    }
   ],
   "source": [
    "point1=(12,)\n",
    "print(type(point1))"
   ]
  },
  {
   "cell_type": "code",
   "execution_count": 47,
   "id": "a5c8b1a3",
   "metadata": {},
   "outputs": [
    {
     "name": "stdout",
     "output_type": "stream",
     "text": [
      "12\n",
      "('apple', 'banana', 'cherry', 1, 2, 3, 3, 3, 3, 3, 3, 3)\n",
      "('cherry', 1, 2, 3, 3, 3, 3, 3, 3, 3)\n"
     ]
    }
   ],
   "source": [
    "thistuple = (\"apple\", \"banana\", \"cherry\", 1, 2, 3, 3, 3, 3, 3, 3, 3)\n",
    "print(len(thistuple))\n",
    "print(thistuple)\n",
    "print(thistuple[2::1])"
   ]
  },
  {
   "cell_type": "code",
   "execution_count": 51,
   "id": "2dcd32b6",
   "metadata": {},
   "outputs": [
    {
     "name": "stdout",
     "output_type": "stream",
     "text": [
      "('ali', 'babak', 'reza')\n"
     ]
    }
   ],
   "source": [
    "name = ('farid', 'babak', 'reza')\n",
    "name = list(name)\n",
    "name[0] = 'ali'\n",
    "name = tuple(name)\n",
    "print(name)"
   ]
  },
  {
   "cell_type": "markdown",
   "id": "18255c5c",
   "metadata": {},
   "source": [
    "## Create Tuple With One Item\n",
    "> To create a `tuple` with only one item, you have to add a `comma` after the item, otherwise Python will not recognize it as a tuple.\n",
    "\n",
    "## Example"
   ]
  },
  {
   "cell_type": "code",
   "execution_count": 13,
   "id": "b95e925b",
   "metadata": {},
   "outputs": [
    {
     "name": "stdout",
     "output_type": "stream",
     "text": [
      "<class 'tuple'>\n",
      "<class 'str'>\n"
     ]
    }
   ],
   "source": [
    "thistuple = (\"apple\",)\n",
    "print(type(thistuple))\n",
    "\n",
    "#NOT a tuple\n",
    "thistuple = (\"apple\")\n",
    "print(type(thistuple))"
   ]
  },
  {
   "cell_type": "markdown",
   "id": "bff5c2d5",
   "metadata": {},
   "source": [
    "## Access Tuple Items\n",
    "> You can access `tuple` items by referring to the index number, inside square brackets"
   ]
  },
  {
   "cell_type": "code",
   "execution_count": 14,
   "id": "4d7071c6",
   "metadata": {},
   "outputs": [
    {
     "name": "stdout",
     "output_type": "stream",
     "text": [
      "banana\n"
     ]
    }
   ],
   "source": [
    "thistuple = (\"apple\", \"banana\", \"cherry\")\n",
    "print(thistuple[1])"
   ]
  },
  {
   "cell_type": "code",
   "execution_count": 15,
   "id": "b71e2b42",
   "metadata": {},
   "outputs": [
    {
     "name": "stdout",
     "output_type": "stream",
     "text": [
      "('cherry', 'orange', 'kiwi')\n"
     ]
    }
   ],
   "source": [
    "thistuple = (\"apple\", \"banana\", \"cherry\", \"orange\", \"kiwi\", \"melon\", \"mango\")\n",
    "print(thistuple[2:5])"
   ]
  },
  {
   "cell_type": "code",
   "execution_count": 16,
   "id": "f0dbd5a6",
   "metadata": {},
   "outputs": [
    {
     "name": "stdout",
     "output_type": "stream",
     "text": [
      "('cherry', 'orange', 'kiwi', 'melon', 'mango')\n"
     ]
    }
   ],
   "source": [
    "thistuple = (\"apple\", \"banana\", \"cherry\", \"orange\", \"kiwi\", \"melon\", \"mango\")\n",
    "print(thistuple[2:])"
   ]
  },
  {
   "cell_type": "markdown",
   "id": "bb396ae7",
   "metadata": {},
   "source": [
    "## Change Tuple Values\n",
    "* Once a `tuple` is created, you cannot change its values. `Tuples` are unchangeable, or `immutable` as it also is called.\n",
    "\n",
    "* But there is a workaround. You can `convert` the tuple into a list, change the list, and convert the list back into a tuple.\n",
    "\n",
    "## Example"
   ]
  },
  {
   "cell_type": "code",
   "execution_count": 17,
   "id": "7dd92ca4",
   "metadata": {},
   "outputs": [
    {
     "name": "stdout",
     "output_type": "stream",
     "text": [
      "('apple', 'kiwi', 'cherry')\n"
     ]
    }
   ],
   "source": [
    "x = (\"apple\", \"banana\", \"cherry\")\n",
    "y = list(x)\n",
    "y[1] = \"kiwi\"\n",
    "x = tuple(y)\n",
    "\n",
    "print(x)"
   ]
  },
  {
   "cell_type": "markdown",
   "id": "a0e0cba5",
   "metadata": {},
   "source": [
    "## Add Items\n",
    "Since tuples are immutable, they do not have a built-in `append()` method, but there are other ways to add items to a tuple.\n",
    "\n",
    "1. **Convert into a list**: Just like the workaround for changing a `tuple`, you can convert it into a list, add your item(s), and convert it back into a `tuple`.\n",
    "\n",
    "## Example"
   ]
  },
  {
   "cell_type": "code",
   "execution_count": 18,
   "id": "6e23918c",
   "metadata": {},
   "outputs": [
    {
     "name": "stdout",
     "output_type": "stream",
     "text": [
      "('apple', 'banana', 'cherry', 'orange')\n"
     ]
    }
   ],
   "source": [
    "thistuple = (\"apple\", \"banana\", \"cherry\")\n",
    "y = list(thistuple)\n",
    "y.append(\"orange\")\n",
    "thistuple = tuple(y)\n",
    "print(thistuple)"
   ]
  },
  {
   "cell_type": "markdown",
   "id": "aa990adc",
   "metadata": {},
   "source": [
    "## Tuple Methods\n",
    "Python has two built-in methods that you can use on tuples.\n",
    "\n",
    "* `count()`\tReturns the number of times a specified value occurs in a tuple\n",
    "* `index()`\tSearches the tuple for a specified value and returns the position of where it was found\n",
    "\n",
    "## Example"
   ]
  },
  {
   "cell_type": "code",
   "execution_count": 54,
   "id": "fb5643a5",
   "metadata": {},
   "outputs": [
    {
     "name": "stdout",
     "output_type": "stream",
     "text": [
      "2\n"
     ]
    }
   ],
   "source": [
    "thistuple = (1, 3, 7, 8, 7, 5, 4, 6, 8, 5)\n",
    "\n",
    "x = thistuple.count(8)\n",
    "\n",
    "print(x)"
   ]
  },
  {
   "cell_type": "code",
   "execution_count": 57,
   "id": "7cbc256b",
   "metadata": {},
   "outputs": [
    {
     "name": "stdout",
     "output_type": "stream",
     "text": [
      "2\n"
     ]
    }
   ],
   "source": [
    "name = (1, 3, 7, 'farid', 7, 5, 4, 6, 8, 5)\n",
    "print(name.index(7))"
   ]
  },
  {
   "cell_type": "code",
   "execution_count": 81,
   "id": "eca22867",
   "metadata": {},
   "outputs": [
    {
     "name": "stdout",
     "output_type": "stream",
     "text": [
      "Enter a char and number of time?\n",
      "&,4\n",
      "&&&&\n",
      "&  &\n",
      "&  &\n",
      "&&&&\n"
     ]
    }
   ],
   "source": [
    "c, n = input('Enter a char and number of time?\\n').split(',')\n",
    "n = int(n)\n",
    "char = c * n\n",
    "space = ' ' * (n-2)\n",
    "new_space = f'{c}{space}{c}\\n'\n",
    "result = f'{char}\\n{new_space*(n-2)}{char}'\n",
    "print(result)\n"
   ]
  },
  {
   "cell_type": "code",
   "execution_count": 95,
   "id": "4353f33e",
   "metadata": {},
   "outputs": [
    {
     "name": "stdout",
     "output_type": "stream",
     "text": [
      "Pleas enter a char and number of time\n",
      "* 9\n",
      "*********\n",
      "*       *\n",
      "*       *\n",
      "*       *\n",
      "*       *\n",
      "*       *\n",
      "*       *\n",
      "*       *\n",
      "*********\n"
     ]
    }
   ],
   "source": [
    "c, x = input('Pleas enter a char and number of time\\n').split()\n",
    "x=int(x)\n",
    "char = c * x\n",
    "space = (x-2)*' '\n",
    "new_space = f'{c}{space}{c}\\n'\n",
    "result = f'{char}\\n{new_space*(x-2)}{char}' \n",
    "print(result)"
   ]
  },
  {
   "cell_type": "code",
   "execution_count": null,
   "id": "3093ed79",
   "metadata": {},
   "outputs": [],
   "source": [
    "import random\n",
    "print('WELCOME TO \\\"ROCK \\\" ,  \\\"PAPER \\\" , \\\"SCISSORS \\\" \\n')\n",
    "\n",
    "\n",
    "\n",
    "\n",
    "gam_is_on = True\n",
    "\n",
    "while gam_is_on:\n",
    "    choice = input(\n",
    "     'What do you want to choose????\\n type \\\"1\\\" for \\\"ROCK ✊\\\"  , \\\"2\\\" for \\\"PAPER ✋\\\" , \\\"3\\\" for \\\"SCISSORS ✌\\\" \\n')\n",
    "    your_choose = int(choice)\n",
    "    ai_choose = random.randint(1, 3)\n",
    "    if your_choose == 1 and ai_choose == 3:\n",
    "        print('YOU CHOOSE : ROCK ✊')\n",
    "        print('AI CHOOSE : SCISSORS ✌')\n",
    "        print('YOU WIN 🥳!!!')\n",
    "    elif your_choose == 2 and ai_choose == 1:\n",
    "        print('YOU CHOOSE : PAPER ✋')\n",
    "        print('AI CHOOSE : ROCK ✊')\n",
    "        print('YOU WIN 🥳!!!')\n",
    "    elif your_choose == 3 and ai_choose == 2:\n",
    "        print('YOU CHOOSE : SCISSORS ✌')\n",
    "        print('AI CHOOSE : PAPER ✋')\n",
    "        print('YOU WIN 🥳!!!')\n",
    "    elif your_choose == 3 and ai_choose == 1:\n",
    "        print('YOU CHOOSE : SCISSORS ✌')\n",
    "        print('AI CHOOSE : ROCK ✊')\n",
    "        print('YOU LOSS 😩!!!')\n",
    "    elif your_choose == 1 and ai_choose == 2:\n",
    "        print('YOU CHOOSE : ROCK ✊')\n",
    "        print('AI CHOOSE : PAPER ✋')\n",
    "        print('YOU LOSS 😩!!!')\n",
    "    elif your_choose == 2 and ai_choose == 3:\n",
    "        print('YOU CHOOSE : PAPER ✋')\n",
    "        print('AI CHOOSE : SCISSORS ✌')\n",
    "        print('YOU LOSS 😩!!!')\n",
    "    elif your_choose == 1 and ai_choose == 1:\n",
    "        print('YOU CHOOSE : ROCK ✊')\n",
    "        print('AI CHOOSE : ROCK ✊')\n",
    "        print('DRAW 😕!!!')\n",
    "    elif your_choose == 2 and ai_choose == 2:\n",
    "        print('YOU CHOOSE : PAPER ✋')\n",
    "        print('AI CHOOSE : PAPER ✋')\n",
    "        print('DRAW 😕!!!')\n",
    "    elif your_choose == 3 and ai_choose == 3:\n",
    "        print('YOU CHOOSE : SCISSORS ✌')\n",
    "        print('AI CHOOSE : SCISSORS ✌')\n",
    "        print('DRAW 😕!!!')\n",
    "    gam_continue = input('Do You Want To Continue 🙄? Type \"Y\" Or \"N\"')\n",
    "    if gam_continue == 'n':\n",
    "        print('Have A Nice Day 🤪')\n",
    "        gam_is_on = False"
   ]
  },
  {
   "cell_type": "code",
   "execution_count": 100,
   "id": "c55ce0e1",
   "metadata": {},
   "outputs": [
    {
     "name": "stdout",
     "output_type": "stream",
     "text": [
      "<class 'dict'>\n",
      "<class 'list'>\n"
     ]
    }
   ],
   "source": [
    "name = {}"
   ]
  },
  {
   "cell_type": "code",
   "execution_count": null,
   "id": "3dbef1f9",
   "metadata": {},
   "outputs": [],
   "source": []
  },
  {
   "cell_type": "code",
   "execution_count": null,
   "id": "f597ca87",
   "metadata": {},
   "outputs": [],
   "source": []
  },
  {
   "cell_type": "code",
   "execution_count": null,
   "id": "3c360f11",
   "metadata": {},
   "outputs": [],
   "source": []
  },
  {
   "cell_type": "code",
   "execution_count": null,
   "id": "1abb9b39",
   "metadata": {},
   "outputs": [],
   "source": []
  },
  {
   "cell_type": "code",
   "execution_count": null,
   "id": "e2a1baee",
   "metadata": {},
   "outputs": [],
   "source": []
  },
  {
   "cell_type": "code",
   "execution_count": null,
   "id": "363b78d8",
   "metadata": {},
   "outputs": [],
   "source": []
  },
  {
   "cell_type": "code",
   "execution_count": null,
   "id": "cedb60c5",
   "metadata": {},
   "outputs": [],
   "source": []
  }
 ],
 "metadata": {
  "kernelspec": {
   "display_name": "Python 3 (ipykernel)",
   "language": "python",
   "name": "python3"
  },
  "language_info": {
   "codemirror_mode": {
    "name": "ipython",
    "version": 3
   },
   "file_extension": ".py",
   "mimetype": "text/x-python",
   "name": "python",
   "nbconvert_exporter": "python",
   "pygments_lexer": "ipython3",
   "version": "3.9.13"
  }
 },
 "nbformat": 4,
 "nbformat_minor": 5
}
