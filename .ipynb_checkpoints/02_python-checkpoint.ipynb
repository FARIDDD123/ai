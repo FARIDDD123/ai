{
 "cells": [
  {
   "cell_type": "markdown",
   "id": "46edce7b",
   "metadata": {},
   "source": [
    "## String Methods\n",
    "Python has a set of built-in methods that you can use on strings."
   ]
  },
  {
   "cell_type": "markdown",
   "id": "53a54e55",
   "metadata": {},
   "source": [
    "* `capitalize()`\tConverts the first character to upper case\n",
    "* `casefold()`\tConverts string into lower case\n",
    "* `center()`\tReturns a centered string\n",
    "* `count()`\tReturns the number of times a specified value occurs in a string\n",
    "* `find()`\tSearches the string for a specified value and returns the position of where it was found\n",
    "* `format()`\tFormats specified values in a string\n",
    "* `join()`\tJoins the elements of an iterable to the end of the string\n",
    "* `lower()`\tConverts a string into lower case\n",
    "* `replace()`\tReturns a string where a specified value is replaced with a specified value\n",
    "* `split()`\tSplits the string at the specified separator, and returns a list\n",
    "* `strip()`\tReturns a trimmed version of the string\n",
    "* `swapcase()`\tSwaps cases, lower case becomes upper case and vice versa\n",
    "* `title()`\tConverts the first character of each word to upper case\n",
    "* `upper()`\tConverts a string into upper case\n"
   ]
  },
  {
   "cell_type": "markdown",
   "id": "654bc629",
   "metadata": {},
   "source": [
    "### Example"
   ]
  },
  {
   "cell_type": "code",
   "execution_count": 7,
   "id": "7c3dd647",
   "metadata": {},
   "outputs": [
    {
     "name": "stdout",
     "output_type": "stream",
     "text": [
      "farid\n",
      "Farid\n",
      "FARID\n"
     ]
    },
    {
     "data": {
      "text/plain": [
       "(None, None, None)"
      ]
     },
     "execution_count": 7,
     "metadata": {},
     "output_type": "execute_result"
    }
   ],
   "source": [
    "name = 'farid'\n",
    "print(name), print(name.capitalize()), print(name.upper())"
   ]
  },
  {
   "cell_type": "code",
   "execution_count": 8,
   "id": "dc51c897",
   "metadata": {},
   "outputs": [
    {
     "name": "stdout",
     "output_type": "stream",
     "text": [
      "2\n"
     ]
    }
   ],
   "source": [
    "txt = \"I love apples, apple are my favorite fruit\"\n",
    "\n",
    "x = txt.count(\"apple\")\n",
    "\n",
    "print(x)"
   ]
  },
  {
   "cell_type": "markdown",
   "id": "65a26ba3",
   "metadata": {},
   "source": [
    "## Python input() Function\n",
    "* ExampleGet your own Python Server\n",
    "####  Ask for the user's name and print it:"
   ]
  },
  {
   "cell_type": "code",
   "execution_count": 10,
   "id": "9da6d400",
   "metadata": {},
   "outputs": [
    {
     "name": "stdout",
     "output_type": "stream",
     "text": [
      "Enter your name:\n",
      "babak\n",
      "Hello, babak\n"
     ]
    }
   ],
   "source": [
    "print('Enter your name:')\n",
    "x = input()\n",
    "print('Hello, ' + x)"
   ]
  },
  {
   "cell_type": "code",
   "execution_count": 13,
   "id": "17d87703",
   "metadata": {},
   "outputs": [
    {
     "name": "stdout",
     "output_type": "stream",
     "text": [
      "Enter your name:\n",
      "farid\n",
      "Hello, farid\n",
      "5\n"
     ]
    },
    {
     "data": {
      "text/plain": [
       "(None, None)"
      ]
     },
     "execution_count": 13,
     "metadata": {},
     "output_type": "execute_result"
    }
   ],
   "source": [
    "name = input('Enter your name:\\n')\n",
    "print('Hello, ' + name)"
   ]
  },
  {
   "cell_type": "markdown",
   "id": "64189d0e",
   "metadata": {},
   "source": [
    "## Python Built in Functions\n",
    "* `len()`\tReturns the length of an object\n",
    "* `sum()`\tSums the items of an iterator\n",
    "* `round()`\tRounds a numbers\n",
    "* `range()`\tReturns a sequence of numbers, starting from 0 and increments by 1 (by default)\n",
    "* `print()`\tPrints to the standard output device\n",
    "* `pow()`\tReturns the value of x to the power of y\n",
    "* `input()`\tAllowing user input\n",
    "\n",
    "### Example"
   ]
  },
  {
   "cell_type": "code",
   "execution_count": 14,
   "id": "347117bb",
   "metadata": {},
   "outputs": [
    {
     "name": "stdout",
     "output_type": "stream",
     "text": [
      "5\n"
     ]
    }
   ],
   "source": [
    "name = 'farid'\n",
    "print(len(name))"
   ]
  },
  {
   "cell_type": "code",
   "execution_count": 15,
   "id": "0dc7e006",
   "metadata": {},
   "outputs": [
    {
     "name": "stdout",
     "output_type": "stream",
     "text": [
      "range(1, 10)\n"
     ]
    }
   ],
   "source": [
    "x = range(1, 10)\n",
    "print(x)"
   ]
  },
  {
   "cell_type": "code",
   "execution_count": 17,
   "id": "fd216d19",
   "metadata": {},
   "outputs": [
    {
     "name": "stdout",
     "output_type": "stream",
     "text": [
      "1\n",
      "2\n",
      "3\n",
      "4\n",
      "5\n",
      "6\n",
      "7\n",
      "8\n",
      "9\n"
     ]
    }
   ],
   "source": [
    "for i in x :\n",
    "    print(i)"
   ]
  },
  {
   "cell_type": "code",
   "execution_count": 19,
   "id": "9b5a0930",
   "metadata": {},
   "outputs": [
    {
     "name": "stdout",
     "output_type": "stream",
     "text": [
      "9\n"
     ]
    }
   ],
   "source": [
    "x = pow(3, 2)\n",
    "print(x)"
   ]
  },
  {
   "cell_type": "code",
   "execution_count": 21,
   "id": "2fc00ff5",
   "metadata": {},
   "outputs": [
    {
     "name": "stdout",
     "output_type": "stream",
     "text": [
      "12\n",
      "12.344\n"
     ]
    },
    {
     "data": {
      "text/plain": [
       "(None, None)"
      ]
     },
     "execution_count": 21,
     "metadata": {},
     "output_type": "execute_result"
    }
   ],
   "source": [
    "number = 12.344444\n",
    "print(round(number)), print(round(number, 3))"
   ]
  },
  {
   "cell_type": "code",
   "execution_count": 22,
   "id": "17efdbda",
   "metadata": {},
   "outputs": [
    {
     "name": "stdout",
     "output_type": "stream",
     "text": [
      "Enter Title:\n",
      "this is my first exercise\n",
      "25\n"
     ]
    }
   ],
   "source": [
    "txt = input('Enter Title:\\n')\n",
    "print(len(txt))"
   ]
  },
  {
   "cell_type": "markdown",
   "id": "eb07edd1",
   "metadata": {},
   "source": [
    "## Python Lists\n",
    "\n",
    "### List\n",
    "Lists are used to store multiple items in a single variable.\n",
    "\n",
    "Lists are one of 4 built-in data types in Python used to store collections of data, the other 3 are Tuple, Set, and Dictionary, all with different qualities and usage.\n",
    "\n",
    "Lists are created using square brackets:\n",
    "\n",
    "### Example\n",
    "\n",
    "Create a List:"
   ]
  },
  {
   "cell_type": "code",
   "execution_count": null,
   "id": "3e487728",
   "metadata": {},
   "outputs": [],
   "source": []
  }
 ],
 "metadata": {
  "kernelspec": {
   "display_name": "Python 3 (ipykernel)",
   "language": "python",
   "name": "python3"
  },
  "language_info": {
   "codemirror_mode": {
    "name": "ipython",
    "version": 3
   },
   "file_extension": ".py",
   "mimetype": "text/x-python",
   "name": "python",
   "nbconvert_exporter": "python",
   "pygments_lexer": "ipython3",
   "version": "3.9.13"
  }
 },
 "nbformat": 4,
 "nbformat_minor": 5
}
