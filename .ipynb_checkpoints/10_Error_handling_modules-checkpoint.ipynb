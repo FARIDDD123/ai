{
 "cells": [
  {
   "cell_type": "code",
   "execution_count": 1,
   "id": "6d69cb32",
   "metadata": {},
   "outputs": [
    {
     "ename": "IndexError",
     "evalue": "list index out of range",
     "output_type": "error",
     "traceback": [
      "\u001b[1;31m---------------------------------------------------------------------------\u001b[0m",
      "\u001b[1;31mIndexError\u001b[0m                                Traceback (most recent call last)",
      "\u001b[1;32m~\\AppData\\Local\\Temp\\ipykernel_3024\\1560200830.py\u001b[0m in \u001b[0;36m<module>\u001b[1;34m\u001b[0m\n\u001b[0;32m      1\u001b[0m \u001b[0mnumbers\u001b[0m \u001b[1;33m=\u001b[0m \u001b[1;33m[\u001b[0m\u001b[1;36m1\u001b[0m\u001b[1;33m,\u001b[0m \u001b[1;36m2\u001b[0m\u001b[1;33m]\u001b[0m\u001b[1;33m\u001b[0m\u001b[1;33m\u001b[0m\u001b[0m\n\u001b[1;32m----> 2\u001b[1;33m \u001b[0mprint\u001b[0m\u001b[1;33m(\u001b[0m\u001b[0mnumbers\u001b[0m\u001b[1;33m[\u001b[0m\u001b[1;36m2\u001b[0m\u001b[1;33m]\u001b[0m\u001b[1;33m)\u001b[0m\u001b[1;33m\u001b[0m\u001b[1;33m\u001b[0m\u001b[0m\n\u001b[0m",
      "\u001b[1;31mIndexError\u001b[0m: list index out of range"
     ]
    }
   ],
   "source": [
    "numbers = [1, 2]\n",
    "print(numbers[2])"
   ]
  },
  {
   "cell_type": "markdown",
   "id": "bede8d84",
   "metadata": {},
   "source": [
    "## Deffrantiating Exeptaion  Error\n",
    "\n",
    "* Parsing Error: `Syntax Error`\n",
    "* Execution Error: `Execption`"
   ]
  },
  {
   "cell_type": "code",
   "execution_count": 1,
   "id": "734442c2",
   "metadata": {},
   "outputs": [
    {
     "ename": "SyntaxError",
     "evalue": "unmatched ')' (1252710792.py, line 1)",
     "output_type": "error",
     "traceback": [
      "\u001b[1;36m  File \u001b[1;32m\"C:\\Users\\20-pc\\AppData\\Local\\Temp\\ipykernel_9372\\1252710792.py\"\u001b[1;36m, line \u001b[1;32m1\u001b[0m\n\u001b[1;33m    print(3/1)) # parsing error syntax error\u001b[0m\n\u001b[1;37m              ^\u001b[0m\n\u001b[1;31mSyntaxError\u001b[0m\u001b[1;31m:\u001b[0m unmatched ')'\n"
     ]
    }
   ],
   "source": [
    "print(3/1)) # parsing error syntax error"
   ]
  },
  {
   "cell_type": "code",
   "execution_count": 2,
   "id": "a5d5caa8",
   "metadata": {},
   "outputs": [
    {
     "name": "stdout",
     "output_type": "stream",
     "text": [
      "How old are you?\n",
      "d\n"
     ]
    },
    {
     "ename": "ValueError",
     "evalue": "invalid literal for int() with base 10: 'd'",
     "output_type": "error",
     "traceback": [
      "\u001b[1;31m---------------------------------------------------------------------------\u001b[0m",
      "\u001b[1;31mValueError\u001b[0m                                Traceback (most recent call last)",
      "\u001b[1;32m~\\AppData\\Local\\Temp\\ipykernel_3024\\1113876376.py\u001b[0m in \u001b[0;36m<module>\u001b[1;34m\u001b[0m\n\u001b[1;32m----> 1\u001b[1;33m \u001b[0mage\u001b[0m \u001b[1;33m=\u001b[0m \u001b[0mint\u001b[0m\u001b[1;33m(\u001b[0m\u001b[0minput\u001b[0m\u001b[1;33m(\u001b[0m\u001b[1;34m'How old are you?\\n'\u001b[0m\u001b[1;33m)\u001b[0m\u001b[1;33m)\u001b[0m\u001b[1;33m\u001b[0m\u001b[1;33m\u001b[0m\u001b[0m\n\u001b[0m\u001b[0;32m      2\u001b[0m \u001b[0mprint\u001b[0m\u001b[1;33m(\u001b[0m\u001b[0mage\u001b[0m\u001b[1;33m)\u001b[0m\u001b[1;33m\u001b[0m\u001b[1;33m\u001b[0m\u001b[0m\n",
      "\u001b[1;31mValueError\u001b[0m: invalid literal for int() with base 10: 'd'"
     ]
    }
   ],
   "source": [
    "age = int(input('How old are you?\\n'))\n",
    "print(age)"
   ]
  },
  {
   "cell_type": "code",
   "execution_count": 2,
   "id": "42708eeb",
   "metadata": {},
   "outputs": [
    {
     "ename": "ZeroDivisionError",
     "evalue": "division by zero",
     "output_type": "error",
     "traceback": [
      "\u001b[1;31m---------------------------------------------------------------------------\u001b[0m",
      "\u001b[1;31mZeroDivisionError\u001b[0m                         Traceback (most recent call last)",
      "\u001b[1;32m~\\AppData\\Local\\Temp\\ipykernel_9372\\567961466.py\u001b[0m in \u001b[0;36m<module>\u001b[1;34m\u001b[0m\n\u001b[1;32m----> 1\u001b[1;33m \u001b[0mprint\u001b[0m\u001b[1;33m(\u001b[0m\u001b[1;36m3\u001b[0m\u001b[1;33m/\u001b[0m\u001b[1;36m0\u001b[0m\u001b[1;33m)\u001b[0m \u001b[1;31m# Exeption\u001b[0m\u001b[1;33m\u001b[0m\u001b[1;33m\u001b[0m\u001b[0m\n\u001b[0m",
      "\u001b[1;31mZeroDivisionError\u001b[0m: division by zero"
     ]
    }
   ],
   "source": [
    "print(3/0) # Exeption"
   ]
  },
  {
   "cell_type": "markdown",
   "id": "056653d5",
   "metadata": {},
   "source": [
    "# Error handeling"
   ]
  },
  {
   "cell_type": "markdown",
   "id": "9492ce88",
   "metadata": {},
   "source": [
    "## Raise Exeption"
   ]
  },
  {
   "cell_type": "code",
   "execution_count": 4,
   "id": "51726598",
   "metadata": {},
   "outputs": [
    {
     "ename": "NameError",
     "evalue": "name 'Exeption' is not defined",
     "output_type": "error",
     "traceback": [
      "\u001b[1;31m---------------------------------------------------------------------------\u001b[0m",
      "\u001b[1;31mNameError\u001b[0m                                 Traceback (most recent call last)",
      "\u001b[1;32m~\\AppData\\Local\\Temp\\ipykernel_9372\\3738883094.py\u001b[0m in \u001b[0;36m<module>\u001b[1;34m\u001b[0m\n\u001b[1;32m----> 1\u001b[1;33m \u001b[1;32mraise\u001b[0m \u001b[0mExeption\u001b[0m\u001b[1;33m(\u001b[0m\u001b[1;34m'Oppppppssssssss....'\u001b[0m\u001b[1;33m)\u001b[0m\u001b[1;33m\u001b[0m\u001b[1;33m\u001b[0m\u001b[0m\n\u001b[0m",
      "\u001b[1;31mNameError\u001b[0m: name 'Exeption' is not defined"
     ]
    }
   ],
   "source": [
    "raise Exeption('Oppppppssssssss....')"
   ]
  },
  {
   "cell_type": "code",
   "execution_count": 5,
   "id": "d53c8aeb",
   "metadata": {},
   "outputs": [
    {
     "name": "stdout",
     "output_type": "stream",
     "text": [
      "win32\n"
     ]
    }
   ],
   "source": [
    "import sys \n",
    "print(sys.platform)"
   ]
  },
  {
   "cell_type": "code",
   "execution_count": 7,
   "id": "3dcd3d0a",
   "metadata": {},
   "outputs": [
    {
     "ename": "NameError",
     "evalue": "name 'Exeption' is not defined",
     "output_type": "error",
     "traceback": [
      "\u001b[1;31m---------------------------------------------------------------------------\u001b[0m",
      "\u001b[1;31mNameError\u001b[0m                                 Traceback (most recent call last)",
      "\u001b[1;32m~\\AppData\\Local\\Temp\\ipykernel_9372\\1457404380.py\u001b[0m in \u001b[0;36m<module>\u001b[1;34m\u001b[0m\n\u001b[0;32m      1\u001b[0m \u001b[1;32mif\u001b[0m \u001b[1;32mnot\u001b[0m \u001b[0msys\u001b[0m\u001b[1;33m.\u001b[0m\u001b[0mplatform\u001b[0m\u001b[1;33m.\u001b[0m\u001b[0mstartswith\u001b[0m\u001b[1;33m(\u001b[0m\u001b[1;34m'linux'\u001b[0m\u001b[1;33m)\u001b[0m\u001b[1;33m:\u001b[0m\u001b[1;33m\u001b[0m\u001b[1;33m\u001b[0m\u001b[0m\n\u001b[1;32m----> 2\u001b[1;33m     \u001b[1;32mraise\u001b[0m \u001b[0mExeption\u001b[0m\u001b[1;33m(\u001b[0m\u001b[1;34m\"Opss Your device not 'Linux'\"\u001b[0m\u001b[1;33m)\u001b[0m\u001b[1;33m\u001b[0m\u001b[1;33m\u001b[0m\u001b[0m\n\u001b[0m",
      "\u001b[1;31mNameError\u001b[0m: name 'Exeption' is not defined"
     ]
    }
   ],
   "source": [
    "if not sys.platform.startswith('linux'):\n",
    "    raise Exeption(\"Opss Your device not 'Linux'\")"
   ]
  },
  {
   "cell_type": "code",
   "execution_count": 17,
   "id": "9748e7d5",
   "metadata": {},
   "outputs": [
    {
     "name": "stdout",
     "output_type": "stream",
     "text": [
      "Everything is OK\n"
     ]
    }
   ],
   "source": [
    "if not sys.platform.startswith('win32'):\n",
    "    raise Exeption(\"Opps somthing wrong\")\n",
    "print('Everything is OK')"
   ]
  },
  {
   "cell_type": "code",
   "execution_count": 18,
   "id": "2cf610a1",
   "metadata": {},
   "outputs": [
    {
     "ename": "NameError",
     "evalue": "name 'WrongOsError' is not defined",
     "output_type": "error",
     "traceback": [
      "\u001b[1;31m---------------------------------------------------------------------------\u001b[0m",
      "\u001b[1;31mNameError\u001b[0m                                 Traceback (most recent call last)",
      "\u001b[1;32m~\\AppData\\Local\\Temp\\ipykernel_9372\\278330877.py\u001b[0m in \u001b[0;36m<module>\u001b[1;34m\u001b[0m\n\u001b[0;32m      1\u001b[0m \u001b[1;32mif\u001b[0m \u001b[1;32mnot\u001b[0m \u001b[0msys\u001b[0m\u001b[1;33m.\u001b[0m\u001b[0mplatform\u001b[0m\u001b[1;33m.\u001b[0m\u001b[0mstartswith\u001b[0m\u001b[1;33m(\u001b[0m\u001b[1;34m'linux'\u001b[0m\u001b[1;33m)\u001b[0m\u001b[1;33m:\u001b[0m\u001b[1;33m\u001b[0m\u001b[1;33m\u001b[0m\u001b[0m\n\u001b[1;32m----> 2\u001b[1;33m     \u001b[1;32mraise\u001b[0m \u001b[0mWrongOsError\u001b[0m\u001b[1;33m(\u001b[0m\u001b[1;34m\"Wrong Os...\"\u001b[0m\u001b[1;33m)\u001b[0m\u001b[1;33m\u001b[0m\u001b[1;33m\u001b[0m\u001b[0m\n\u001b[0m",
      "\u001b[1;31mNameError\u001b[0m: name 'WrongOsError' is not defined"
     ]
    }
   ],
   "source": [
    "if not sys.platform.startswith('linux'):\n",
    "    raise WrongOsError(\"Wrong Os...\")"
   ]
  },
  {
   "cell_type": "markdown",
   "id": "ace71b3c",
   "metadata": {},
   "source": [
    "## Assert\n",
    "\n",
    "* Using the `assert` Kyword "
   ]
  },
  {
   "cell_type": "code",
   "execution_count": 21,
   "id": "80e08cf2",
   "metadata": {},
   "outputs": [
    {
     "ename": "AssertionError",
     "evalue": "There is somthing wrong....!",
     "output_type": "error",
     "traceback": [
      "\u001b[1;31m---------------------------------------------------------------------------\u001b[0m",
      "\u001b[1;31mAssertionError\u001b[0m                            Traceback (most recent call last)",
      "\u001b[1;32m~\\AppData\\Local\\Temp\\ipykernel_9372\\1836963052.py\u001b[0m in \u001b[0;36m<module>\u001b[1;34m\u001b[0m\n\u001b[0;32m      1\u001b[0m \u001b[1;32mif\u001b[0m \u001b[1;32mnot\u001b[0m \u001b[0msys\u001b[0m\u001b[1;33m.\u001b[0m\u001b[0mplatform\u001b[0m\u001b[1;33m.\u001b[0m\u001b[0mstartswith\u001b[0m\u001b[1;33m(\u001b[0m\u001b[1;34m'linux'\u001b[0m\u001b[1;33m)\u001b[0m\u001b[1;33m:\u001b[0m\u001b[1;33m\u001b[0m\u001b[1;33m\u001b[0m\u001b[0m\n\u001b[1;32m----> 2\u001b[1;33m     \u001b[1;32mraise\u001b[0m \u001b[0mAssertionError\u001b[0m\u001b[1;33m(\u001b[0m\u001b[1;34m'There is somthing wrong....!'\u001b[0m\u001b[1;33m)\u001b[0m\u001b[1;33m\u001b[0m\u001b[1;33m\u001b[0m\u001b[0m\n\u001b[0m",
      "\u001b[1;31mAssertionError\u001b[0m: There is somthing wrong....!"
     ]
    }
   ],
   "source": [
    "if not sys.platform.startswith('linux'):\n",
    "    raise AssertionError('There is somthing wrong....!')"
   ]
  },
  {
   "cell_type": "code",
   "execution_count": 22,
   "id": "25b70c4a",
   "metadata": {},
   "outputs": [
    {
     "ename": "AssertionError",
     "evalue": "There is somthing wrong....!",
     "output_type": "error",
     "traceback": [
      "\u001b[1;31m---------------------------------------------------------------------------\u001b[0m",
      "\u001b[1;31mAssertionError\u001b[0m                            Traceback (most recent call last)",
      "\u001b[1;32m~\\AppData\\Local\\Temp\\ipykernel_9372\\4230965363.py\u001b[0m in \u001b[0;36m<module>\u001b[1;34m\u001b[0m\n\u001b[1;32m----> 1\u001b[1;33m \u001b[1;32massert\u001b[0m \u001b[0msys\u001b[0m\u001b[1;33m.\u001b[0m\u001b[0mplatform\u001b[0m\u001b[1;33m.\u001b[0m\u001b[0mstartswith\u001b[0m\u001b[1;33m(\u001b[0m\u001b[1;34m'linux'\u001b[0m\u001b[1;33m)\u001b[0m\u001b[1;33m,\u001b[0m \u001b[1;34m'There is somthing wrong....!'\u001b[0m\u001b[1;33m\u001b[0m\u001b[1;33m\u001b[0m\u001b[0m\n\u001b[0m",
      "\u001b[1;31mAssertionError\u001b[0m: There is somthing wrong....!"
     ]
    }
   ],
   "source": [
    "assert sys.platform.startswith('linux'), 'There is somthing wrong....!'"
   ]
  },
  {
   "cell_type": "markdown",
   "id": "accc3319",
   "metadata": {},
   "source": [
    "## Caching Exeptions with the `try...except` block"
   ]
  },
  {
   "cell_type": "code",
   "execution_count": 33,
   "id": "443106e3",
   "metadata": {},
   "outputs": [
    {
     "ename": "SyntaxError",
     "evalue": "unmatched ')' (2692031962.py, line 2)",
     "output_type": "error",
     "traceback": [
      "\u001b[1;36m  File \u001b[1;32m\"C:\\Users\\20-pc\\AppData\\Local\\Temp\\ipykernel_9372\\2692031962.py\"\u001b[1;36m, line \u001b[1;32m2\u001b[0m\n\u001b[1;33m    print(67))\u001b[0m\n\u001b[1;37m             ^\u001b[0m\n\u001b[1;31mSyntaxError\u001b[0m\u001b[1;31m:\u001b[0m unmatched ')'\n"
     ]
    }
   ],
   "source": [
    "try:\n",
    "    print(67))\n",
    "except SyntaxError:\n",
    "    print('There is some problem pleas fix that and then run the code...!')\n",
    "    \n",
    "print('But also i can run another block of code my app dosent crashed :)')"
   ]
  },
  {
   "cell_type": "code",
   "execution_count": 43,
   "id": "12161906",
   "metadata": {},
   "outputs": [],
   "source": [
    "def linux_interaction():\n",
    "    if not sys.platform.startswith('linux'):\n",
    "        raise WrongOsError(f'Linux Only Your system is {sys.platform}')\n",
    "    print('Doing important linux work.')"
   ]
  },
  {
   "cell_type": "code",
   "execution_count": 50,
   "id": "0766de8a",
   "metadata": {},
   "outputs": [],
   "source": [
    "def windows_interaction():\n",
    "    if not sys.platform.startswith('win'):\n",
    "        raise WrongOsError(f'Linux Only Your system is {sys.platform}')\n",
    "    print('Doing important Windows work :)')"
   ]
  },
  {
   "cell_type": "code",
   "execution_count": 44,
   "id": "c03294ef",
   "metadata": {},
   "outputs": [
    {
     "ename": "WrongOsError",
     "evalue": "Linux Only Your system is win32",
     "output_type": "error",
     "traceback": [
      "\u001b[1;31m---------------------------------------------------------------------------\u001b[0m",
      "\u001b[1;31mWrongOsError\u001b[0m                              Traceback (most recent call last)",
      "\u001b[1;32m~\\AppData\\Local\\Temp\\ipykernel_9372\\3071885766.py\u001b[0m in \u001b[0;36m<module>\u001b[1;34m\u001b[0m\n\u001b[1;32m----> 1\u001b[1;33m \u001b[0mlinux_interaction\u001b[0m\u001b[1;33m(\u001b[0m\u001b[1;33m)\u001b[0m\u001b[1;33m\u001b[0m\u001b[1;33m\u001b[0m\u001b[0m\n\u001b[0m",
      "\u001b[1;32m~\\AppData\\Local\\Temp\\ipykernel_9372\\1574274029.py\u001b[0m in \u001b[0;36mlinux_interaction\u001b[1;34m()\u001b[0m\n\u001b[0;32m      1\u001b[0m \u001b[1;32mdef\u001b[0m \u001b[0mlinux_interaction\u001b[0m\u001b[1;33m(\u001b[0m\u001b[1;33m)\u001b[0m\u001b[1;33m:\u001b[0m\u001b[1;33m\u001b[0m\u001b[1;33m\u001b[0m\u001b[0m\n\u001b[0;32m      2\u001b[0m     \u001b[1;32mif\u001b[0m \u001b[1;32mnot\u001b[0m \u001b[0msys\u001b[0m\u001b[1;33m.\u001b[0m\u001b[0mplatform\u001b[0m\u001b[1;33m.\u001b[0m\u001b[0mstartswith\u001b[0m\u001b[1;33m(\u001b[0m\u001b[1;34m'linux'\u001b[0m\u001b[1;33m)\u001b[0m\u001b[1;33m:\u001b[0m\u001b[1;33m\u001b[0m\u001b[1;33m\u001b[0m\u001b[0m\n\u001b[1;32m----> 3\u001b[1;33m         \u001b[1;32mraise\u001b[0m \u001b[0mWrongOsError\u001b[0m\u001b[1;33m(\u001b[0m\u001b[1;34mf'Linux Only Your system is {sys.platform}'\u001b[0m\u001b[1;33m)\u001b[0m\u001b[1;33m\u001b[0m\u001b[1;33m\u001b[0m\u001b[0m\n\u001b[0m\u001b[0;32m      4\u001b[0m     \u001b[0mprint\u001b[0m\u001b[1;33m(\u001b[0m\u001b[1;34m'Doing important linux work.'\u001b[0m\u001b[1;33m)\u001b[0m\u001b[1;33m\u001b[0m\u001b[1;33m\u001b[0m\u001b[0m\n",
      "\u001b[1;31mWrongOsError\u001b[0m: Linux Only Your system is win32"
     ]
    }
   ],
   "source": [
    "linux_interaction()"
   ]
  },
  {
   "cell_type": "code",
   "execution_count": 51,
   "id": "75d01e79",
   "metadata": {},
   "outputs": [
    {
     "name": "stdout",
     "output_type": "stream",
     "text": [
      "Doing important Windows work :)\n"
     ]
    }
   ],
   "source": [
    "windows_interaction()"
   ]
  },
  {
   "cell_type": "code",
   "execution_count": 37,
   "id": "6fe9bf46",
   "metadata": {},
   "outputs": [
    {
     "name": "stdout",
     "output_type": "stream",
     "text": [
      "Ther is somthing wrong\n",
      "But my another block of code is steel running i hope so :(\n"
     ]
    }
   ],
   "source": [
    "try:\n",
    "    linux_interaction()\n",
    "except:\n",
    "    print('Ther is somthing wrong.....!')\n",
    "    \n",
    "print('But my another block of code is steel running i hope so :(')"
   ]
  },
  {
   "cell_type": "code",
   "execution_count": 49,
   "id": "e65dcf7d",
   "metadata": {},
   "outputs": [
    {
     "name": "stdout",
     "output_type": "stream",
     "text": [
      "Ther is somthing wrong.....!\n",
      " Linux Only Your system is win32\n",
      "But my another block of code is steel running i hope so :(\n"
     ]
    }
   ],
   "source": [
    "try:\n",
    "    linux_interaction()\n",
    "except WrongOsError as error:\n",
    "    print('Ther is somthing wrong.....!\\n',error)\n",
    "    \n",
    "print('But my another block of code is steel running i hope so :(')"
   ]
  },
  {
   "cell_type": "code",
   "execution_count": 53,
   "id": "b70c05b6",
   "metadata": {},
   "outputs": [
    {
     "name": "stdout",
     "output_type": "stream",
     "text": [
      "Doing important Windows work :)\n",
      "and also i steel can run my another block of code :)\n"
     ]
    }
   ],
   "source": [
    "try:\n",
    "    windows_interaction()\n",
    "except WrongOsError as error:\n",
    "    print('Ther is somthing wrong...!')\n",
    "print('and also i steel can run my another block of code :)')"
   ]
  },
  {
   "cell_type": "code",
   "execution_count": 13,
   "id": "a4680d34",
   "metadata": {},
   "outputs": [
    {
     "name": "stdout",
     "output_type": "stream",
     "text": [
      "How old are you?\n",
      "df\n",
      "Pleas enter a valid number not a string\n"
     ]
    }
   ],
   "source": [
    "try:\n",
    "    age = int(input('How old are you?\\n'))\n",
    "    print(f'you are {age} years old')\n",
    "except ValueError:\n",
    "    print(f'Pleas enter a valid number not a string')\n",
    "    "
   ]
  },
  {
   "cell_type": "code",
   "execution_count": 16,
   "id": "9df23fbf",
   "metadata": {},
   "outputs": [
    {
     "name": "stdout",
     "output_type": "stream",
     "text": [
      "Index item out of reng\n"
     ]
    }
   ],
   "source": [
    "try:\n",
    "    x = [1, 2, 3, 4]\n",
    "    print(x[4])\n",
    "except IndexError:\n",
    "    print('Index item out of reng')"
   ]
  },
  {
   "cell_type": "code",
   "execution_count": 20,
   "id": "66b28941",
   "metadata": {},
   "outputs": [
    {
     "name": "stdout",
     "output_type": "stream",
     "text": [
      "How old are you?\n",
      "df\n",
      "Pleas enter a valid number not a string\n",
      "invalid literal for int() with base 10: 'df'\n"
     ]
    }
   ],
   "source": [
    "try:\n",
    "    age = int(input('How old are you?\\n'))\n",
    "    print(f'you are {age} years old')\n",
    "except ValueError as error:\n",
    "    print(f'Pleas enter a valid number not a string\\n{error}')\n",
    "    "
   ]
  },
  {
   "cell_type": "code",
   "execution_count": 23,
   "id": "84d8db78",
   "metadata": {},
   "outputs": [
    {
     "name": "stdout",
     "output_type": "stream",
     "text": [
      "How old are you?\n",
      "0\n",
      "Age can not be 0 pleas enter anumber biger than 0\n",
      "Error:division by zero\n"
     ]
    }
   ],
   "source": [
    "try:\n",
    "    age = int(input('How old are you?\\n'))\n",
    "    xfactor = 10 / age\n",
    "    print(xfactor)\n",
    "    print(f'you are {age} years old')\n",
    "except ValueError:\n",
    "    print(f'Pleas enter a valid number not a string')\n",
    "    \n",
    "except ZeroDivisionError as error1:\n",
    "    print(f'Age can not be 0 pleas enter anumber biger than 0\\nError:{error1}')\n",
    "    "
   ]
  },
  {
   "cell_type": "code",
   "execution_count": 28,
   "id": "4bcbe942",
   "metadata": {},
   "outputs": [
    {
     "name": "stdout",
     "output_type": "stream",
     "text": [
      "How old are you?\n",
      "0\n",
      "you are 0 years old\n",
      "Pleas enter a valid number not a string or zero\n"
     ]
    }
   ],
   "source": [
    "try:\n",
    "    age = int(input('How old are you?\\n'))\n",
    "    print(f'you are {age} years old')\n",
    "    xfactor = 10/ age\n",
    "    print(xfactor)\n",
    "except (ValueError, ZeroDivisionError):\n",
    "    print(f'Pleas enter a valid number not a string or zero')\n",
    "    "
   ]
  },
  {
   "cell_type": "markdown",
   "id": "274b162e",
   "metadata": {},
   "source": [
    "## Handelling the success case with `else`"
   ]
  },
  {
   "cell_type": "code",
   "execution_count": 59,
   "id": "b8e6a4a5",
   "metadata": {},
   "outputs": [
    {
     "name": "stdout",
     "output_type": "stream",
     "text": [
      "🪟 Doing important Windows work.\n",
      "✅ No problem, evrything is work.\n"
     ]
    }
   ],
   "source": [
    "try:\n",
    "    windows_interaction()\n",
    "#     linux_interaction()\n",
    "\n",
    "except WrongOsError as error:\n",
    "    print(error)\n",
    "\n",
    "else:\n",
    "    print('✅ No problem, evrything is work.')"
   ]
  },
  {
   "cell_type": "code",
   "execution_count": 60,
   "id": "0f05c5a8",
   "metadata": {},
   "outputs": [
    {
     "name": "stdout",
     "output_type": "stream",
     "text": [
      "🪟 Doing important Windows work.\n",
      "✅ No problem, evrything is work.\n"
     ]
    },
    {
     "ename": "FileNotFoundError",
     "evalue": "[Errno 2] No such file or directory: 'file.log'",
     "output_type": "error",
     "traceback": [
      "\u001b[1;31m---------------------------------------------------------------------------\u001b[0m",
      "\u001b[1;31mFileNotFoundError\u001b[0m                         Traceback (most recent call last)",
      "\u001b[1;32m~\\AppData\\Local\\Temp\\ipykernel_9372\\1651271731.py\u001b[0m in \u001b[0;36m<module>\u001b[1;34m\u001b[0m\n\u001b[0;32m      8\u001b[0m \u001b[1;32melse\u001b[0m\u001b[1;33m:\u001b[0m\u001b[1;33m\u001b[0m\u001b[1;33m\u001b[0m\u001b[0m\n\u001b[0;32m      9\u001b[0m     \u001b[0mprint\u001b[0m\u001b[1;33m(\u001b[0m\u001b[1;34m'✅ No problem, evrything is work.'\u001b[0m\u001b[1;33m)\u001b[0m\u001b[1;33m\u001b[0m\u001b[1;33m\u001b[0m\u001b[0m\n\u001b[1;32m---> 10\u001b[1;33m     \u001b[1;32mwith\u001b[0m \u001b[0mopen\u001b[0m\u001b[1;33m(\u001b[0m\u001b[1;34m'file.log'\u001b[0m\u001b[1;33m)\u001b[0m \u001b[1;32mas\u001b[0m \u001b[0mfile_log\u001b[0m\u001b[1;33m:\u001b[0m\u001b[1;33m\u001b[0m\u001b[1;33m\u001b[0m\u001b[0m\n\u001b[0m\u001b[0;32m     11\u001b[0m         \u001b[0mprint\u001b[0m\u001b[1;33m(\u001b[0m\u001b[0mfile_log\u001b[0m\u001b[1;33m.\u001b[0m\u001b[0mread\u001b[0m\u001b[1;33m(\u001b[0m\u001b[1;33m)\u001b[0m\u001b[1;33m)\u001b[0m\u001b[1;33m\u001b[0m\u001b[1;33m\u001b[0m\u001b[0m\n",
      "\u001b[1;31mFileNotFoundError\u001b[0m: [Errno 2] No such file or directory: 'file.log'"
     ]
    }
   ],
   "source": [
    "try:\n",
    "    windows_interaction()\n",
    "#     linux_interaction()\n",
    "\n",
    "except WrongOsError as error:\n",
    "    print(error)\n",
    "\n",
    "else:\n",
    "    print('✅ No problem, evrything is work.')\n",
    "    with open('file.log') as file_log:\n",
    "        print(file_log.read())"
   ]
  },
  {
   "cell_type": "code",
   "execution_count": null,
   "id": "2ac2fff6",
   "metadata": {},
   "outputs": [],
   "source": [
    "try:\n",
    "    windows_interaction()\n",
    "\n",
    "except WrongOsError as error:\n",
    "    print(error)\n",
    "\n",
    "else:\n",
    "    print('✅ No problem, evrything is work.')\n",
    "    try:\n",
    "        with open('file.log') as file_log:\n",
    "            print(file_log.read())\n",
    "    except FileNotFoundError as er:\n",
    "        print('')"
   ]
  },
  {
   "cell_type": "markdown",
   "id": "8e0d3172",
   "metadata": {},
   "source": [
    "## Rais "
   ]
  },
  {
   "cell_type": "code",
   "execution_count": 40,
   "id": "73788c6e",
   "metadata": {},
   "outputs": [],
   "source": [
    "code1 = \"\"\"\n",
    "def calculate_age(age):\n",
    "    if age<=0:\n",
    "        raise ZeroDivisionError('Age can not be 0 or less')\n",
    "    else:\n",
    "        print(f'You are {age} years old')\n",
    "    return 10/ age\n",
    "\n",
    "try:\n",
    "    calculate_age(-1)\n",
    "except ZeroDivisionError as error:\n",
    "    pass\"\"\""
   ]
  },
  {
   "cell_type": "code",
   "execution_count": 41,
   "id": "fea8bf6c",
   "metadata": {},
   "outputs": [],
   "source": [
    "from timeit import timeit"
   ]
  },
  {
   "cell_type": "code",
   "execution_count": 42,
   "id": "099610bc",
   "metadata": {},
   "outputs": [
    {
     "name": "stdout",
     "output_type": "stream",
     "text": [
      "Code-1 0.00445520000016586\n"
     ]
    }
   ],
   "source": [
    "print('Code-1',timeit(code1, number=10000))"
   ]
  },
  {
   "cell_type": "code",
   "execution_count": 46,
   "id": "e8d46626",
   "metadata": {},
   "outputs": [],
   "source": [
    "code2 = \"\"\"\n",
    "def calculate_age(age):\n",
    "    if age<=0:\n",
    "        return None\n",
    "    else:\n",
    "        print(f'You are {age} years old')\n",
    "    return 10/ age\n",
    "\n",
    "\n",
    "x_factor = calculate_age(-1)\n",
    "if x_factor == None:\n",
    "    pass\n",
    "\"\"\""
   ]
  },
  {
   "cell_type": "code",
   "execution_count": 47,
   "id": "54a7cae4",
   "metadata": {},
   "outputs": [
    {
     "name": "stdout",
     "output_type": "stream",
     "text": [
      "Code-2 0.0016156000001501525\n"
     ]
    }
   ],
   "source": [
    "print('Code-2', timeit(code2, number=10000))"
   ]
  },
  {
   "cell_type": "code",
   "execution_count": 54,
   "id": "c80ee352",
   "metadata": {},
   "outputs": [
    {
     "name": "stdout",
     "output_type": "stream",
     "text": [
      "🪟 Doing important Windows work.\n",
      "✅ No problem, work done.\n",
      "📝 Read logging file...\n",
      "😳 Oops [Errno 2] No such file or directory: 'file.log'\n",
      "🧹 Cleaning up despite any exceptions.\n",
      "Continue code execution...\n"
     ]
    }
   ],
   "source": [
    "import sys\n",
    "\n",
    "\n",
    "class WrongOsError(Exception):\n",
    "    pass\n",
    "\n",
    "\n",
    "def windows_interaction():\n",
    "    if not sys.platform.startswith(\"win\"):\n",
    "        raise WrongOsError(f\"⛔️ Windows only. Your system: '{sys.platform}'.\")\n",
    "    print(\"🪟 Doing important Windows work.\")\n",
    "\n",
    "\n",
    "def macos_interaction():\n",
    "    if not sys.platform.startswith(\"darwin\"):\n",
    "        raise WrongOsError(f\"⛔️ macOS only. Your system: '{sys.platform}'.\")\n",
    "    print(\"🍏 Doing important macOS work.\")\n",
    "\n",
    "\n",
    "def linux_interaction():\n",
    "    if not sys.platform.startswith(\"linux\"):\n",
    "        raise WrongOsError(f\"⛔️ Linux only. Your system: '{sys.platform}'.\")\n",
    "    print(\"🐧 Doing important Linux work.\")\n",
    "\n",
    "\n",
    "try:\n",
    "#     linux_interaction()\n",
    "    # macos_interaction()\n",
    "    windows_interaction()\n",
    "except WrongOsError as error:\n",
    "    print(error)\n",
    "else:\n",
    "    print(\"✅ No problem, work done.\")\n",
    "    print(\"📝 Read logging file...\")\n",
    "    try:\n",
    "        with open(\"file.log\") as log_file:\n",
    "            print(log_file.read())\n",
    "    except FileNotFoundError as fnf_error:\n",
    "        print(\"😳 Oops\", fnf_error)\n",
    "finally:\n",
    "    print(\"🧹 Cleaning up despite any exceptions.\")\n",
    "\n",
    "print(\"Continue code execution...\")\n"
   ]
  },
  {
   "cell_type": "markdown",
   "id": "4e09ebb1",
   "metadata": {},
   "source": [
    "## The Python `time` Module\n",
    "\n",
    "### You'll learn to\n",
    "\n",
    "* undrestanding core concepts at the heart of working with time in python,such as `epochs`,`time zonse`, and daylight saving time\n",
    "\n",
    "* represent time in code using floats, tuples and `struct_time`\n",
    "\n",
    "* convert between different time representations\n",
    "\n",
    "* suspend thread execution\n",
    "\n",
    "* measure code performance using `pref_counter()`"
   ]
  },
  {
   "cell_type": "markdown",
   "id": "22b22813",
   "metadata": {},
   "source": [
    "## Dealing with python time in second\n",
    "\n",
    "## The Epoch\n",
    "\n",
    "an epoch is a fixed point in time from wich other times can then be represented as \"Distances\" from that time. in window/UNIX computing, the epoch is January 1st, 1970,at midnight.\n",
    "\n",
    "\n",
    "## Basic time module functions\n",
    "\n",
    "1. `time()` returns the current time in seconds from the epoch\n",
    "2. `time_ns()` returns the current time in nanoseconds from the epoch \n",
    "3. `ctime([seconds])` returns the time (via the seconds paramters of the current time) in timestamp format\n",
    "4. `gmtime([seconds])` returns the GMT time as a `struct_time` object useful for showing the epoch!\n",
    "5. `localtime([seconds])` returns the local time as a `struct_time` object"
   ]
  },
  {
   "cell_type": "code",
   "execution_count": 1,
   "id": "de2f06dc",
   "metadata": {},
   "outputs": [],
   "source": [
    "import time"
   ]
  },
  {
   "cell_type": "code",
   "execution_count": 3,
   "id": "9b31afce",
   "metadata": {},
   "outputs": [
    {
     "data": {
      "text/plain": [
       "time.struct_time(tm_year=1970, tm_mon=1, tm_mday=1, tm_hour=0, tm_min=0, tm_sec=0, tm_wday=3, tm_yday=1, tm_isdst=0)"
      ]
     },
     "execution_count": 3,
     "metadata": {},
     "output_type": "execute_result"
    }
   ],
   "source": [
    "time.gmtime(0)"
   ]
  },
  {
   "cell_type": "code",
   "execution_count": 4,
   "id": "c4655f00",
   "metadata": {},
   "outputs": [
    {
     "data": {
      "text/plain": [
       "1692351841.0638394"
      ]
     },
     "execution_count": 4,
     "metadata": {},
     "output_type": "execute_result"
    }
   ],
   "source": [
    "time.time()"
   ]
  },
  {
   "cell_type": "code",
   "execution_count": 5,
   "id": "a362f1ff",
   "metadata": {},
   "outputs": [
    {
     "data": {
      "text/plain": [
       "53.6641279457536"
      ]
     },
     "execution_count": 5,
     "metadata": {},
     "output_type": "execute_result"
    }
   ],
   "source": [
    "year_sec = 60*60*24*365\n",
    "time.time()/ year_sec"
   ]
  },
  {
   "cell_type": "code",
   "execution_count": 6,
   "id": "0c78a0fb",
   "metadata": {},
   "outputs": [
    {
     "data": {
      "text/plain": [
       "1692351967416159500"
      ]
     },
     "execution_count": 6,
     "metadata": {},
     "output_type": "execute_result"
    }
   ],
   "source": [
    "time.time_ns()"
   ]
  },
  {
   "cell_type": "code",
   "execution_count": 7,
   "id": "5f5fbf46",
   "metadata": {},
   "outputs": [
    {
     "data": {
      "text/plain": [
       "'Fri Aug 18 13:16:17 2023'"
      ]
     },
     "execution_count": 7,
     "metadata": {},
     "output_type": "execute_result"
    }
   ],
   "source": [
    "time.ctime()"
   ]
  },
  {
   "cell_type": "code",
   "execution_count": 17,
   "id": "bb6f7626",
   "metadata": {},
   "outputs": [
    {
     "data": {
      "text/plain": [
       "'Sun Sep  9 05:16:40 2001'"
      ]
     },
     "execution_count": 17,
     "metadata": {},
     "output_type": "execute_result"
    }
   ],
   "source": [
    "time.ctime(1000000000)"
   ]
  },
  {
   "cell_type": "markdown",
   "id": "e4e949bc",
   "metadata": {},
   "source": [
    "## Time zones\n",
    "\n",
    "time module functions withe timezones\n",
    "\n",
    "* gmtime()\n",
    "* localtime()\n"
   ]
  },
  {
   "cell_type": "code",
   "execution_count": 21,
   "id": "a26bbc9a",
   "metadata": {},
   "outputs": [],
   "source": [
    "import time"
   ]
  },
  {
   "cell_type": "code",
   "execution_count": 19,
   "id": "829f7f98",
   "metadata": {},
   "outputs": [
    {
     "data": {
      "text/plain": [
       "time.struct_time(tm_year=2023, tm_mon=8, tm_mday=18, tm_hour=13, tm_min=24, tm_sec=49, tm_wday=4, tm_yday=230, tm_isdst=0)"
      ]
     },
     "execution_count": 19,
     "metadata": {},
     "output_type": "execute_result"
    }
   ],
   "source": [
    "time.localtime()"
   ]
  },
  {
   "cell_type": "code",
   "execution_count": 23,
   "id": "f7c152fe",
   "metadata": {},
   "outputs": [
    {
     "data": {
      "text/plain": [
       "time.struct_time(tm_year=1970, tm_mon=1, tm_mday=1, tm_hour=0, tm_min=0, tm_sec=0, tm_wday=3, tm_yday=1, tm_isdst=0)"
      ]
     },
     "execution_count": 23,
     "metadata": {},
     "output_type": "execute_result"
    }
   ],
   "source": [
    "time.gmtime(0)"
   ]
  },
  {
   "cell_type": "code",
   "execution_count": 26,
   "id": "dd28705f",
   "metadata": {},
   "outputs": [
    {
     "data": {
      "text/plain": [
       "'Iran Standard Time'"
      ]
     },
     "execution_count": 26,
     "metadata": {},
     "output_type": "execute_result"
    }
   ],
   "source": [
    "time.localtime(0).tm_zone"
   ]
  },
  {
   "cell_type": "code",
   "execution_count": 27,
   "id": "3c5842e4",
   "metadata": {},
   "outputs": [
    {
     "data": {
      "text/plain": [
       "12600"
      ]
     },
     "execution_count": 27,
     "metadata": {},
     "output_type": "execute_result"
    }
   ],
   "source": [
    "time.localtime(0).tm_gmtoff"
   ]
  },
  {
   "cell_type": "code",
   "execution_count": 29,
   "id": "ecf8522c",
   "metadata": {},
   "outputs": [
    {
     "data": {
      "text/plain": [
       "3.5"
      ]
     },
     "execution_count": 29,
     "metadata": {},
     "output_type": "execute_result"
    }
   ],
   "source": [
    "12600/(60*60) # 3 houre after GMT"
   ]
  },
  {
   "cell_type": "code",
   "execution_count": 32,
   "id": "fdecff9b",
   "metadata": {},
   "outputs": [
    {
     "data": {
      "text/plain": [
       "time.struct_time(tm_year=2023, tm_mon=8, tm_mday=18, tm_hour=13, tm_min=30, tm_sec=40, tm_wday=4, tm_yday=230, tm_isdst=0)"
      ]
     },
     "execution_count": 32,
     "metadata": {},
     "output_type": "execute_result"
    }
   ],
   "source": [
    "time.localtime()"
   ]
  },
  {
   "cell_type": "code",
   "execution_count": 33,
   "id": "3d933b7b",
   "metadata": {},
   "outputs": [
    {
     "data": {
      "text/plain": [
       "time.struct_time(tm_year=2023, tm_mon=8, tm_mday=18, tm_hour=10, tm_min=0, tm_sec=41, tm_wday=4, tm_yday=230, tm_isdst=0)"
      ]
     },
     "execution_count": 33,
     "metadata": {},
     "output_type": "execute_result"
    }
   ],
   "source": [
    "time.gmtime()"
   ]
  },
  {
   "cell_type": "code",
   "execution_count": 34,
   "id": "668972c2",
   "metadata": {},
   "outputs": [
    {
     "data": {
      "text/plain": [
       "'Iran Standard Time'"
      ]
     },
     "execution_count": 34,
     "metadata": {},
     "output_type": "execute_result"
    }
   ],
   "source": [
    "time.localtime(0).tm_zone"
   ]
  },
  {
   "cell_type": "markdown",
   "id": "ca8d7acc",
   "metadata": {},
   "source": [
    "## Python time as a tuple\n",
    "\n",
    "1. year\n",
    "2. month as an intiger, ranging between1 and 12\n",
    "3. day of the month\n",
    "4. hour as an intiger, raqnge between 0, 23\n",
    "5. minute\n",
    "6. second\n",
    "7. day of the week\n",
    "8. day of the year\n",
    "### 9 daylight saving time as an intiger wit the following values:\n",
    "    1. 1is daylight saving time.\n",
    "    2. 0is standard time.\n",
    "    3. -1is unknown."
   ]
  },
  {
   "cell_type": "code",
   "execution_count": 35,
   "id": "042e5abe",
   "metadata": {},
   "outputs": [],
   "source": [
    "import time"
   ]
  },
  {
   "cell_type": "code",
   "execution_count": 42,
   "id": "80796e45",
   "metadata": {},
   "outputs": [],
   "source": [
    "# time tuple = year, month, day, hour, second, day of the week , day of the year, isdst\n",
    "epoch = (2022, 1, 1, 0 , 0 , 0, 3, 1, 0)"
   ]
  },
  {
   "cell_type": "code",
   "execution_count": 44,
   "id": "84d7f546",
   "metadata": {},
   "outputs": [
    {
     "data": {
      "text/plain": [
       "1640982600.0"
      ]
     },
     "execution_count": 44,
     "metadata": {},
     "output_type": "execute_result"
    }
   ],
   "source": [
    "time.mktime(epoch) # return the floating point time in local time when given tuple or struct"
   ]
  },
  {
   "cell_type": "code",
   "execution_count": 55,
   "id": "c0ca0c30",
   "metadata": {},
   "outputs": [
    {
     "data": {
      "text/plain": [
       "27349710.0"
      ]
     },
     "execution_count": 55,
     "metadata": {},
     "output_type": "execute_result"
    }
   ],
   "source": [
    "1640982600.0/60"
   ]
  },
  {
   "cell_type": "code",
   "execution_count": 46,
   "id": "9927d24c",
   "metadata": {},
   "outputs": [
    {
     "data": {
      "text/plain": [
       "455828.5"
      ]
     },
     "execution_count": 46,
     "metadata": {},
     "output_type": "execute_result"
    }
   ],
   "source": [
    "27349710.0/60"
   ]
  },
  {
   "cell_type": "code",
   "execution_count": 47,
   "id": "44ab5643",
   "metadata": {},
   "outputs": [
    {
     "data": {
      "text/plain": [
       "18992.854166666668"
      ]
     },
     "execution_count": 47,
     "metadata": {},
     "output_type": "execute_result"
    }
   ],
   "source": [
    "455828.5/24"
   ]
  },
  {
   "cell_type": "code",
   "execution_count": 49,
   "id": "0d0588c4",
   "metadata": {},
   "outputs": [
    {
     "data": {
      "text/plain": [
       "1582.6666666666667"
      ]
     },
     "execution_count": 49,
     "metadata": {},
     "output_type": "execute_result"
    }
   ],
   "source": [
    "18992/12"
   ]
  },
  {
   "cell_type": "code",
   "execution_count": 51,
   "id": "6d360090",
   "metadata": {},
   "outputs": [],
   "source": [
    "import calendar"
   ]
  },
  {
   "cell_type": "code",
   "execution_count": 53,
   "id": "abf3de20",
   "metadata": {},
   "outputs": [
    {
     "data": {
      "text/plain": [
       "1640995200"
      ]
     },
     "execution_count": 53,
     "metadata": {},
     "output_type": "execute_result"
    }
   ],
   "source": [
    "calendar.timegm(epoch)"
   ]
  },
  {
   "cell_type": "markdown",
   "id": "603cccfc",
   "metadata": {},
   "source": [
    "## String representations of time\n",
    "\n",
    "### Usefull function \n",
    "1. `time.asctime()`\n",
    "2. `time.strftime()`\n",
    "3. `time.strptime()`"
   ]
  },
  {
   "cell_type": "code",
   "execution_count": 1,
   "id": "549133f2",
   "metadata": {},
   "outputs": [],
   "source": [
    "import time"
   ]
  },
  {
   "cell_type": "code",
   "execution_count": null,
   "id": "18f969d5",
   "metadata": {},
   "outputs": [],
   "source": []
  },
  {
   "cell_type": "code",
   "execution_count": null,
   "id": "a9cb9322",
   "metadata": {},
   "outputs": [],
   "source": []
  },
  {
   "cell_type": "code",
   "execution_count": null,
   "id": "98a35da5",
   "metadata": {},
   "outputs": [],
   "source": []
  },
  {
   "cell_type": "code",
   "execution_count": null,
   "id": "fbdf88b6",
   "metadata": {},
   "outputs": [],
   "source": []
  },
  {
   "cell_type": "code",
   "execution_count": null,
   "id": "b80d16d6",
   "metadata": {},
   "outputs": [],
   "source": []
  },
  {
   "cell_type": "code",
   "execution_count": null,
   "id": "0f69caf1",
   "metadata": {},
   "outputs": [],
   "source": []
  },
  {
   "cell_type": "code",
   "execution_count": null,
   "id": "37da5ce0",
   "metadata": {},
   "outputs": [],
   "source": []
  }
 ],
 "metadata": {
  "kernelspec": {
   "display_name": "Python 3 (ipykernel)",
   "language": "python",
   "name": "python3"
  },
  "language_info": {
   "codemirror_mode": {
    "name": "ipython",
    "version": 3
   },
   "file_extension": ".py",
   "mimetype": "text/x-python",
   "name": "python",
   "nbconvert_exporter": "python",
   "pygments_lexer": "ipython3",
   "version": "3.9.13"
  }
 },
 "nbformat": 4,
 "nbformat_minor": 5
}
