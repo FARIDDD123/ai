{
 "cells": [
  {
   "cell_type": "markdown",
   "id": "185d4d87",
   "metadata": {},
   "source": [
    "# Python Sets\n",
    "\n",
    "> `myset = {\"apple\", \"banana\", \"cherry\"}`\n",
    "\n",
    "## Set\n",
    "* Sets are used to store multiple items in a single variable.\n",
    "\n",
    "* Set is one of 4 built-in data types in Python used to store collections of data, the other 3 are List, Tuple, and Dictionary, all with different qualities and usage.\n",
    "\n",
    "* A set is a collection which is unordered, unchangeable*, and unindexed.\n",
    "\n",
    "## Example\n",
    "Create a Set:"
   ]
  },
  {
   "cell_type": "code",
   "execution_count": 1,
   "id": "d8b5a8eb",
   "metadata": {},
   "outputs": [
    {
     "name": "stdout",
     "output_type": "stream",
     "text": [
      "Pleas enter a number\n",
      "45\n",
      "9\n"
     ]
    }
   ],
   "source": [
    "n = int(input('Pleas enter a number\\n'))\n",
    "x = n /10\n",
    "x = str(x)\n",
    "x1, x2 = x.split('.')\n",
    "print(int(x1) + int(x2))"
   ]
  },
  {
   "cell_type": "code",
   "execution_count": 3,
   "id": "138aa153",
   "metadata": {},
   "outputs": [
    {
     "name": "stdout",
     "output_type": "stream",
     "text": [
      "{'cherry', 'banana', 'apple'}\n",
      "<class 'set'>\n",
      "{'reza', 'ali', 'ahmad'}\n",
      "<class 'set'>\n"
     ]
    }
   ],
   "source": [
    "fruits = {\"apple\", \"banana\", \"cherry\"}\n",
    "print(fruits)\n",
    "print(type(fruits))"
   ]
  },
  {
   "cell_type": "code",
   "execution_count": 6,
   "id": "d3ac5ffc",
   "metadata": {},
   "outputs": [
    {
     "name": "stdout",
     "output_type": "stream",
     "text": [
      "[3, 4, 'farid', True]\n",
      "2\n",
      "1\n"
     ]
    }
   ],
   "source": [
    "my_list = [1, 2, 3, 4, 'farid', True]\n",
    "x1,x2, *x3= my_list\n",
    "print(x3)\n",
    "print(x2)\n",
    "print(x1)"
   ]
  },
  {
   "cell_type": "code",
   "execution_count": 9,
   "id": "bcf75d5a",
   "metadata": {},
   "outputs": [
    {
     "name": "stdout",
     "output_type": "stream",
     "text": [
      "Pleas enter your name and how old are you\n",
      "farid 89\n",
      "farid\n",
      "89\n"
     ]
    }
   ],
   "source": [
    "name, age = input('Pleas enter your name and how old are you\\n').split()\n",
    "print(name)\n",
    "print(age)"
   ]
  },
  {
   "cell_type": "code",
   "execution_count": 10,
   "id": "9a56e1ce",
   "metadata": {},
   "outputs": [
    {
     "name": "stdout",
     "output_type": "stream",
     "text": [
      "{'cherry', 'banana', 'apple'}\n",
      "{1, 3, 5, 7, 9}\n",
      "{False, True}\n",
      "{'farid', True, 23}\n"
     ]
    }
   ],
   "source": [
    "set1 = {\"apple\", \"banana\", \"cherry\"}\n",
    "set2 = {1, 5, 7, 9, 3}\n",
    "set3 = {True, False, False}\n",
    "set4 = {'farid', True, 23}\n",
    "print(set1)\n",
    "print(set2)\n",
    "print(set3)\n",
    "print(set4)"
   ]
  },
  {
   "cell_type": "markdown",
   "id": "13a13ac9",
   "metadata": {},
   "source": [
    "## Python Collections (Arrays)\n",
    "There are four collection data types in the Python programming language:\n",
    "\n",
    "* `List` is a collection which is ordered and changeable. Allows duplicate members.\n",
    "* `Tuple` is a collection which is ordered and unchangeable. Allows duplicate members.\n",
    "* `Set` is a collection which is unordered, unchangeable*, and unindexed. No duplicate members.\n",
    "* `Dictionary` is a collection which is ordered** and changeable. No duplicate members.\n",
    "## Example\n",
    "True and 1 is considered the same value:"
   ]
  },
  {
   "cell_type": "code",
   "execution_count": 5,
   "id": "dcc33a4c",
   "metadata": {},
   "outputs": [
    {
     "name": "stdout",
     "output_type": "stream",
     "text": [
      "{True, 2, 'banana', 'apple', 'cherry'}\n"
     ]
    }
   ],
   "source": [
    "thisset = {\"apple\", \"banana\", \"cherry\", True, 1, 2}\n",
    "print(thisset)"
   ]
  },
  {
   "cell_type": "markdown",
   "id": "c15028a2",
   "metadata": {},
   "source": [
    "## Access Items\n",
    "> You cannot access items in a set by referring to an index or a key.\n",
    "\n",
    "> But you can loop through the set items using a for loop, or ask if a specified value is present in a set, by using the in keyword.\n",
    "\n",
    "## Example\n",
    "Check if \"banana\" is present in the set:"
   ]
  },
  {
   "cell_type": "code",
   "execution_count": 12,
   "id": "0b96624d",
   "metadata": {},
   "outputs": [
    {
     "name": "stdout",
     "output_type": "stream",
     "text": [
      "True\n"
     ]
    }
   ],
   "source": [
    "feruits = {\"apple\", \"banana\", \"cherry\"}\n",
    "\n",
    "print('banana' in feruits)"
   ]
  },
  {
   "cell_type": "code",
   "execution_count": 7,
   "id": "29e7e54d",
   "metadata": {},
   "outputs": [
    {
     "name": "stdout",
     "output_type": "stream",
     "text": [
      "Pleas enter your name\n",
      "56\n",
      "How much do you wnat repid your name\n",
      "56\n",
      "Hello 56\n",
      "Hello 56\n",
      "Hello 56\n",
      "Hello 56\n",
      "Hello 56\n",
      "Hello 56\n",
      "Hello 56\n",
      "Hello 56\n",
      "Hello 56\n",
      "Hello 56\n",
      "Hello 56\n",
      "Hello 56\n",
      "Hello 56\n",
      "Hello 56\n",
      "Hello 56\n",
      "Hello 56\n",
      "Hello 56\n",
      "Hello 56\n",
      "Hello 56\n",
      "Hello 56\n",
      "Hello 56\n",
      "Hello 56\n",
      "Hello 56\n",
      "Hello 56\n",
      "Hello 56\n",
      "Hello 56\n",
      "Hello 56\n",
      "Hello 56\n",
      "Hello 56\n",
      "Hello 56\n",
      "Hello 56\n",
      "Hello 56\n",
      "Hello 56\n",
      "Hello 56\n",
      "Hello 56\n",
      "Hello 56\n",
      "Hello 56\n",
      "Hello 56\n",
      "Hello 56\n",
      "Hello 56\n",
      "Hello 56\n",
      "Hello 56\n",
      "Hello 56\n",
      "Hello 56\n",
      "Hello 56\n",
      "Hello 56\n",
      "Hello 56\n",
      "Hello 56\n",
      "Hello 56\n",
      "Hello 56\n",
      "Hello 56\n",
      "Hello 56\n",
      "Hello 56\n",
      "Hello 56\n",
      "Hello 56\n",
      "Hello 56\n",
      "\n"
     ]
    }
   ],
   "source": [
    "name = input('Pleas enter your name\\n')\n",
    "n = int(input('How much do you wnat repid your name\\n'))\n",
    "result = f'Hello {name}\\n'\n",
    "print(result * n)"
   ]
  },
  {
   "cell_type": "code",
   "execution_count": 18,
   "id": "7ecb2c88",
   "metadata": {},
   "outputs": [
    {
     "ename": "SyntaxError",
     "evalue": "unmatched ')' (3758100835.py, line 2)",
     "output_type": "error",
     "traceback": [
      "\u001b[1;36m  File \u001b[1;32m\"C:\\Users\\20-pc\\AppData\\Local\\Temp\\ipykernel_3380\\3758100835.py\"\u001b[1;36m, line \u001b[1;32m2\u001b[0m\n\u001b[1;33m    print(34))\u001b[0m\n\u001b[1;37m             ^\u001b[0m\n\u001b[1;31mSyntaxError\u001b[0m\u001b[1;31m:\u001b[0m unmatched ')'\n"
     ]
    }
   ],
   "source": [
    "# print(thisset[0]) # you can't do this\n",
    "print(34))"
   ]
  },
  {
   "cell_type": "markdown",
   "id": "a33a6b21",
   "metadata": {},
   "source": [
    "# Add Items\n",
    "\n",
    "## Example\n",
    "To add one item to a set use the `add()` method."
   ]
  },
  {
   "cell_type": "code",
   "execution_count": 9,
   "id": "8130a4b6",
   "metadata": {},
   "outputs": [
    {
     "name": "stdout",
     "output_type": "stream",
     "text": [
      "{'farid', 'reza', 'ahmd'}\n",
      "{'farid', 'Python', 'reza', 'ahmd'}\n"
     ]
    }
   ],
   "source": [
    "names = {'farid', 'ahamd', 'reza'}\n",
    "print(names),\n",
    "names.add('Python')\n",
    "print(names)"
   ]
  },
  {
   "cell_type": "markdown",
   "id": "5ea3a2e6",
   "metadata": {},
   "source": [
    "## Add Sets\n",
    "To add items from another set into the current set, use the `update()` method.\n",
    "\n",
    "## Example"
   ]
  },
  {
   "cell_type": "code",
   "execution_count": 16,
   "id": "5957860e",
   "metadata": {},
   "outputs": [
    {
     "name": "stdout",
     "output_type": "stream",
     "text": [
      "pleas enter some name\n",
      "reza\n",
      "{'farid', 'reza'}\n"
     ]
    }
   ],
   "source": [
    "name = {'farid'}\n",
    "add_item = input('pleas enter some name\\n')\n",
    "name.add(add_item)\n",
    "print(name)"
   ]
  },
  {
   "cell_type": "code",
   "execution_count": 10,
   "id": "4352ced4",
   "metadata": {},
   "outputs": [
    {
     "name": "stdout",
     "output_type": "stream",
     "text": [
      "{'farid', 'ahmad', 'reza'}\n",
      "{'farid', 'ahmad', 'reza', 'pineapple', 'papaya', 'mango'}\n"
     ]
    }
   ],
   "source": [
    "names = {\"farid\", \"ahmad\", \"reza\"}\n",
    "add_set = {\"pineapple\", \"mango\", \"papaya\"}\n",
    "print(names)\n",
    "names.update(add_set)\n",
    "print(names)"
   ]
  },
  {
   "cell_type": "code",
   "execution_count": 11,
   "id": "d0322436",
   "metadata": {},
   "outputs": [
    {
     "name": "stdout",
     "output_type": "stream",
     "text": [
      "{'farid', 1, 2, 3, 4, 'mobin'}\n"
     ]
    }
   ],
   "source": [
    "x = {1, 2, 3, 4}\n",
    "n = {'farid', 'mobin'}\n",
    "x.update(n)\n",
    "print(x)"
   ]
  },
  {
   "cell_type": "markdown",
   "id": "dfb0dde8",
   "metadata": {},
   "source": [
    "## Remove Item\n",
    "To remove an item in a set, use the `remove()`, or the `discard()` method.\n",
    "\n",
    "### Example"
   ]
  },
  {
   "cell_type": "code",
   "execution_count": 12,
   "id": "33ab6d56",
   "metadata": {},
   "outputs": [
    {
     "name": "stdout",
     "output_type": "stream",
     "text": [
      "{'apple', 'cherry', 'banana'}\n",
      "{'apple', 'cherry'}\n"
     ]
    }
   ],
   "source": [
    "thisset = {\"apple\", \"banana\", \"cherry\"}\n",
    "print(thisset)\n",
    "thisset.remove(\"banana\")\n",
    "print(thisset)"
   ]
  },
  {
   "cell_type": "code",
   "execution_count": 13,
   "id": "e7dc27a7",
   "metadata": {},
   "outputs": [
    {
     "name": "stdout",
     "output_type": "stream",
     "text": [
      "{'reza', 'babak'}\n"
     ]
    }
   ],
   "source": [
    "x = {'Farid', 'babak', 'reza'}\n",
    "x.remove('Farid')\n",
    "print(x)"
   ]
  },
  {
   "cell_type": "markdown",
   "id": "af8e982f",
   "metadata": {},
   "source": [
    "# `Discard()`\n"
   ]
  },
  {
   "cell_type": "code",
   "execution_count": 14,
   "id": "30358da7",
   "metadata": {},
   "outputs": [
    {
     "name": "stdout",
     "output_type": "stream",
     "text": [
      "{'apple', 'cherry'}\n"
     ]
    }
   ],
   "source": [
    "thisset = {\"apple\", \"banana\", \"cherry\"}\n",
    "\n",
    "thisset.discard(\"banana\")\n",
    "\n",
    "print(thisset)"
   ]
  },
  {
   "cell_type": "markdown",
   "id": "4ea64433",
   "metadata": {},
   "source": [
    "# `Pop()`"
   ]
  },
  {
   "cell_type": "code",
   "execution_count": 20,
   "id": "b0418f6b",
   "metadata": {},
   "outputs": [
    {
     "name": "stdout",
     "output_type": "stream",
     "text": [
      "cherry\n",
      "{'banana', 'apple'}\n"
     ]
    }
   ],
   "source": [
    "thisset = {\"apple\", \"banana\", \"cherry\"}\n",
    "\n",
    "x = thisset.pop()\n",
    "\n",
    "print(x)\n",
    "\n",
    "print(thisset)"
   ]
  },
  {
   "cell_type": "markdown",
   "id": "0860cb4b",
   "metadata": {},
   "source": [
    "#  `clear()`"
   ]
  },
  {
   "cell_type": "code",
   "execution_count": 16,
   "id": "1f9ca21d",
   "metadata": {},
   "outputs": [
    {
     "name": "stdout",
     "output_type": "stream",
     "text": [
      "set()\n"
     ]
    }
   ],
   "source": [
    "thisset = {\"apple\", \"banana\", \"cherry\"}\n",
    "\n",
    "thisset.clear()\n",
    "\n",
    "print(thisset)"
   ]
  },
  {
   "cell_type": "markdown",
   "id": "9e5e4ab4",
   "metadata": {},
   "source": [
    "# `Del`"
   ]
  },
  {
   "cell_type": "code",
   "execution_count": 17,
   "id": "b8e853a3",
   "metadata": {},
   "outputs": [
    {
     "name": "stdout",
     "output_type": "stream",
     "text": [
      "{'apple', 'cherry', 'banana'}\n"
     ]
    }
   ],
   "source": [
    "thisset = {\"apple\", \"banana\", \"cherry\"}\n",
    "\n",
    "# del thisset\n",
    "\n",
    "print(thisset)"
   ]
  },
  {
   "cell_type": "markdown",
   "id": "1403c0c7",
   "metadata": {},
   "source": [
    "## Example\n",
    "The `union()` method returns a new set with all items from both sets:"
   ]
  },
  {
   "cell_type": "code",
   "execution_count": 18,
   "id": "92f9fd39",
   "metadata": {},
   "outputs": [
    {
     "name": "stdout",
     "output_type": "stream",
     "text": [
      "{1, 2, 3, 'b', 'a', 'c'}\n"
     ]
    }
   ],
   "source": [
    "set1 = {\"a\", \"b\" , \"c\"}\n",
    "set2 = {1, 2, 3}\n",
    "\n",
    "set3 = set1.union(set2)\n",
    "print(set3)"
   ]
  },
  {
   "cell_type": "markdown",
   "id": "4d21b26e",
   "metadata": {},
   "source": [
    "## Method\t                      Description\n",
    "* `add()`\t                      Adds an element to the set\n",
    "* `clear()`\t                      Removes all the elements from the set\n",
    "* `copy()`\t                      Returns a copy of the set\n",
    "* `difference()`\t              Returns a set containing the difference between two or more sets\n",
    "* `difference_update()`\t          Removes the items in this set that are also included in another, specified set\n",
    "* `discard()`\t                  Remove the specified item\n",
    "* `intersection()`\t              Returns a set, that is the intersection of two other sets\n",
    "* `intersection_update()`\t      Removes the items in this set that are not present in other, specified set(s)\n",
    "* `isdisjoint()`\t              Returns whether two sets have a intersection or not\n",
    "* `issubset()`\t                  Returns whether another set contains this set or not\n",
    "* `issuperset()`\t              Returns whether this set contains another set or not\n",
    "* `pop()`\t                      Removes an element from the set\n",
    "* `remove()`\t                  Removes the specified element\n",
    "* `symmetric_difference()`\t      Returns a set with the symmetric differences of two sets\n",
    "* `symmetric_difference_update()` inserts the symmetric differences from this set and another\n",
    "* `union()`\t                      Return a set containing the union of sets\n",
    "* `update()`\t                  Update the set with the union of this set and others\n"
   ]
  },
  {
   "cell_type": "markdown",
   "id": "18b89ec1",
   "metadata": {},
   "source": [
    "## Dictionary\n",
    "Dictionaries are used to store data values in key:value pairs.\n",
    "\n",
    "A dictionary is a collection which is ordered*, changeable and do not allow duplicates.\n",
    "\n",
    "### Example\n",
    "Create and print a dictionary:"
   ]
  },
  {
   "cell_type": "code",
   "execution_count": 25,
   "id": "8e4c4981",
   "metadata": {},
   "outputs": [
    {
     "name": "stdout",
     "output_type": "stream",
     "text": [
      "{'name': 'farid', 'age': 29}\n",
      "dict_keys(['name', 'age'])\n",
      "dict_values(['farid', 29])\n",
      "dict_items([('name', 'farid'), ('age', 29)])\n"
     ]
    }
   ],
   "source": [
    "person = {\n",
    "    'name': 'farid',\n",
    "    'age': 29\n",
    "}\n",
    "\n",
    "print(person)\n",
    "print(person.keys())\n",
    "print(person.values())\n",
    "print(person.items())"
   ]
  },
  {
   "cell_type": "code",
   "execution_count": 19,
   "id": "f0bd44cf",
   "metadata": {},
   "outputs": [
    {
     "name": "stdout",
     "output_type": "stream",
     "text": [
      "{'brand': 'Ford', 'model': 'Mustang', 'year': 1964}\n",
      "this is my_car values: dict_values(['Ford', 'Mustang', 1964])\n",
      "this ia my_car kes: dict_keys(['brand', 'model', 'year'])\n"
     ]
    }
   ],
   "source": [
    "my_car = {\n",
    "  \"brand\": \"Ford\",\n",
    "  \"model\": \"Mustang\",\n",
    "  \"year\": 1964\n",
    "}\n",
    "print(my_car)\n",
    "print(f'this is my_car values:', my_car.values())\n",
    "print(f'this ia my_car kes:', my_car.keys())"
   ]
  },
  {
   "cell_type": "code",
   "execution_count": 27,
   "id": "dcc5f94e",
   "metadata": {},
   "outputs": [
    {
     "name": "stdout",
     "output_type": "stream",
     "text": [
      "{'first_name': 'farid', 'last_name': 'kaki', 'phon_number': '0981838464', 'age': 24}\n",
      "dict_keys(['first_name', 'last_name', 'phon_number', 'age'])\n",
      "dict_values(['farid', 'kaki', '0981838464', 24])\n",
      "0981838464\n",
      "farid\n"
     ]
    }
   ],
   "source": [
    "person = {\n",
    "    'first_name':'farid',\n",
    "    'last_name':'kaki',\n",
    "    'phon_number':'0981838464',\n",
    "    'age':24\n",
    "}\n",
    "print(person)\n",
    "print(person.keys())\n",
    "print(person.values())\n",
    "print(person['phon_number'])\n",
    "print(person['first_name'])"
   ]
  },
  {
   "cell_type": "markdown",
   "id": "13628c60",
   "metadata": {},
   "source": [
    "## Dictionary Items\n",
    "Dictionary items are ordered, changeable, and does not allow duplicates.\n",
    "\n",
    "Dictionary items are presented in key:value pairs, and can be referred to by using the key name."
   ]
  },
  {
   "cell_type": "code",
   "execution_count": 21,
   "id": "c9b6a067",
   "metadata": {},
   "outputs": [
    {
     "name": "stdout",
     "output_type": "stream",
     "text": [
      "Mustang\n",
      "1964\n",
      "Ford\n"
     ]
    }
   ],
   "source": [
    "print(my_car['model'])\n",
    "print(my_car['year'])\n",
    "x = my_car.get(\"brand\")\n",
    "print(x)"
   ]
  },
  {
   "cell_type": "markdown",
   "id": "01ab0c52",
   "metadata": {},
   "source": [
    "## Dictionary Items - Data Types\n",
    "The values in dictionary items can be of any data type:\n",
    "\n",
    "### Example"
   ]
  },
  {
   "cell_type": "code",
   "execution_count": 22,
   "id": "e6e9e307",
   "metadata": {},
   "outputs": [
    {
     "name": "stdout",
     "output_type": "stream",
     "text": [
      "{'brand': 'Ford', 'electric': False, 'year': 1964, 'colors': ['red', 'white', 'blue']}\n",
      "4\n",
      "<class 'dict'>\n"
     ]
    }
   ],
   "source": [
    "my_cars = {\n",
    "  \"brand\": \"Ford\",\n",
    "  \"electric\": False,\n",
    "  \"year\": 1964,\n",
    "  \"colors\": [\"red\", \"white\", \"blue\"]\n",
    "}\n",
    "print(my_cars)\n",
    "print(len(my_cars))\n",
    "print(type(my_cars))"
   ]
  },
  {
   "cell_type": "markdown",
   "id": "10fc25a3",
   "metadata": {},
   "source": [
    "# `Dict()`"
   ]
  },
  {
   "cell_type": "code",
   "execution_count": 28,
   "id": "32bddd4d",
   "metadata": {},
   "outputs": [
    {
     "name": "stdout",
     "output_type": "stream",
     "text": [
      "{'name': 'John', 'age': 36, 'country': 'Norway'}\n"
     ]
    }
   ],
   "source": [
    "person = dict(name = \"John\", age = 36, country = \"Norway\")\n",
    "print(person)"
   ]
  },
  {
   "cell_type": "code",
   "execution_count": 30,
   "id": "606274f8",
   "metadata": {},
   "outputs": [
    {
     "name": "stdout",
     "output_type": "stream",
     "text": [
      "{'name': 'farid', 'age': 29}\n",
      "{'name': 'farid', 'age': 29, 'Phon_number': '099887766e8'}\n"
     ]
    }
   ],
   "source": [
    "person = {\n",
    "    'name':'farid',\n",
    "    'age':29\n",
    "}\n",
    "\n",
    "print(person)\n",
    "person['Phon_number'] = '099887766e8'\n",
    "print(person)"
   ]
  },
  {
   "cell_type": "code",
   "execution_count": null,
   "id": "5ecac779",
   "metadata": {},
   "outputs": [],
   "source": []
  },
  {
   "cell_type": "markdown",
   "id": "6b81788f",
   "metadata": {},
   "source": [
    "## Example\n",
    "Add a new item to the original dictionary, and see that the keys list gets updated as well:"
   ]
  },
  {
   "cell_type": "code",
   "execution_count": 24,
   "id": "c1347b44",
   "metadata": {},
   "outputs": [
    {
     "name": "stdout",
     "output_type": "stream",
     "text": [
      "{'brand': 'Ford', 'model': 'Mustang', 'year': 1964}\n",
      "dict_keys(['brand', 'model', 'year'])\n",
      "dict_keys(['brand', 'model', 'year', 'color'])\n",
      "{'brand': 'Ford', 'model': 'Mustang', 'year': 1964, 'color': 'white'}\n"
     ]
    }
   ],
   "source": [
    "car = {\n",
    "\"brand\": \"Ford\",\n",
    "\"model\": \"Mustang\",\n",
    "\"year\": 1964\n",
    "}\n",
    "print(car)\n",
    "x = car.keys()\n",
    "\n",
    "print(x) #before the change\n",
    "\n",
    "car[\"color\"] = \"white\"\n",
    "\n",
    "print(x) #after the change\n",
    "print(car)"
   ]
  },
  {
   "cell_type": "markdown",
   "id": "bc008220",
   "metadata": {},
   "source": [
    "## Change the `values`"
   ]
  },
  {
   "cell_type": "code",
   "execution_count": 25,
   "id": "7edeafa5",
   "metadata": {},
   "outputs": [
    {
     "name": "stdout",
     "output_type": "stream",
     "text": [
      "{'brand': 'Ford', 'model': 'Mustang', 'year': 1964}\n",
      "{'brand': 'Ford', 'model': 'Mustang', 'year': 2020}\n"
     ]
    }
   ],
   "source": [
    "car = {\n",
    "\"brand\": \"Ford\",\n",
    "\"model\": \"Mustang\",\n",
    "\"year\": 1964\n",
    "}\n",
    "print(car)\n",
    "\n",
    "car[\"year\"] = 2020\n",
    "\n",
    "print(car)"
   ]
  },
  {
   "cell_type": "markdown",
   "id": "1a0d7804",
   "metadata": {},
   "source": [
    "## Get Items\n",
    "The items() method will return each item in a dictionary, as tuples in a list.\n",
    "\n",
    "### Example"
   ]
  },
  {
   "cell_type": "code",
   "execution_count": 26,
   "id": "6dfc73ef",
   "metadata": {},
   "outputs": [
    {
     "name": "stdout",
     "output_type": "stream",
     "text": [
      "{'name': 'farid', 'age': 29}\n",
      "dict_items([('name', 'farid'), ('age', 29)])\n"
     ]
    }
   ],
   "source": [
    "person = {\n",
    "   'name':'farid',\n",
    "    'age':29\n",
    "}\n",
    "\n",
    "print(person)\n",
    "print(person.items())"
   ]
  },
  {
   "cell_type": "code",
   "execution_count": 27,
   "id": "20a5554f",
   "metadata": {},
   "outputs": [
    {
     "name": "stdout",
     "output_type": "stream",
     "text": [
      "dict_items([('brand', 'Ford'), ('model', 'Mustang'), ('year', 1964)])\n",
      "dict_items([('brand', 'Ford'), ('model', 'Mustang'), ('year', 1964), ('color', 'red')])\n"
     ]
    }
   ],
   "source": [
    "car = {\n",
    "\"brand\": \"Ford\",\n",
    "\"model\": \"Mustang\",\n",
    "\"year\": 1964\n",
    "}\n",
    "\n",
    "x = car.items()\n",
    "\n",
    "print(x) #before the change\n",
    "\n",
    "car[\"color\"] = \"red\"\n",
    "\n",
    "print(x) #after the change"
   ]
  },
  {
   "cell_type": "markdown",
   "id": "e7077145",
   "metadata": {},
   "source": [
    "## Update Dictionary\n",
    "The update() method will update the dictionary with the items from the given argument.\n",
    "\n",
    "The argument must be a dictionary, or an iterable object with key:value pairs."
   ]
  },
  {
   "cell_type": "code",
   "execution_count": 28,
   "id": "f72c5e40",
   "metadata": {},
   "outputs": [],
   "source": [
    "thisdict = {\n",
    "  \"brand\": \"Ford\",\n",
    "  \"model\": \"Mustang\",\n",
    "  \"year\": 1964\n",
    "}\n",
    "thisdict.update({\"year\": 2020})"
   ]
  },
  {
   "cell_type": "code",
   "execution_count": 35,
   "id": "0c772438",
   "metadata": {},
   "outputs": [
    {
     "name": "stdout",
     "output_type": "stream",
     "text": [
      "Please enter your password\n",
      "sdj2930\n",
      "this is your pass: *******\n"
     ]
    }
   ],
   "source": [
    "password = input('Please enter your password\\n')\n",
    "result = len(password)* '*'\n",
    "print(f'this is your pass: {result}')"
   ]
  },
  {
   "cell_type": "code",
   "execution_count": null,
   "id": "db1b1487",
   "metadata": {},
   "outputs": [],
   "source": []
  }
 ],
 "metadata": {
  "kernelspec": {
   "display_name": "Python 3 (ipykernel)",
   "language": "python",
   "name": "python3"
  },
  "language_info": {
   "codemirror_mode": {
    "name": "ipython",
    "version": 3
   },
   "file_extension": ".py",
   "mimetype": "text/x-python",
   "name": "python",
   "nbconvert_exporter": "python",
   "pygments_lexer": "ipython3",
   "version": "3.9.13"
  }
 },
 "nbformat": 4,
 "nbformat_minor": 5
}
