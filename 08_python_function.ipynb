{
 "cells": [
  {
   "cell_type": "markdown",
   "id": "1801e401",
   "metadata": {},
   "source": [
    "# Python Functions\n",
    "\n",
    "A function is a block of code which only runs when it is called.\n",
    "\n",
    "You can pass data, known as parameters, into a function.\n",
    "\n",
    "A function can return data as a result.\n",
    "\n",
    "## Creating a Function\n",
    "In Python a function is defined using the `def` keyword:\n",
    "\n",
    "## Example"
   ]
  },
  {
   "cell_type": "code",
   "execution_count": 1,
   "id": "d94070de",
   "metadata": {},
   "outputs": [
    {
     "name": "stdout",
     "output_type": "stream",
     "text": [
      "Hello, world\n"
     ]
    }
   ],
   "source": [
    "def my_function():\n",
    "    print('Hello, world')\n",
    "    \n",
    "my_function()"
   ]
  },
  {
   "cell_type": "markdown",
   "id": "4b6cf8f9",
   "metadata": {},
   "source": [
    "## Calling a Function\n",
    "To call a function, use the function name followed by parenthesis:\n"
   ]
  },
  {
   "cell_type": "code",
   "execution_count": 2,
   "id": "cb3b4b52",
   "metadata": {},
   "outputs": [
    {
     "name": "stdout",
     "output_type": "stream",
     "text": [
      "Hello, world\n"
     ]
    }
   ],
   "source": [
    "my_function()"
   ]
  },
  {
   "cell_type": "markdown",
   "id": "4d5f3004",
   "metadata": {},
   "source": [
    "# Arguments\n",
    "Information can be passed into functions as `arguments`.\n",
    "\n",
    "* `Arguments` are specified after the function name, inside the parentheses. You can add as many arguments as you want, just separate them with a comma.\n",
    "\n",
    "* The following example has a function with one argument (name). When the function is called, we pass along a first name, which is used inside the function to print the full name:\n",
    "\n",
    "## Example"
   ]
  },
  {
   "cell_type": "code",
   "execution_count": 3,
   "id": "81932522",
   "metadata": {},
   "outputs": [],
   "source": [
    "def person(name):\n",
    "    print(f'Hello, {name} wellcome.')"
   ]
  },
  {
   "cell_type": "code",
   "execution_count": 4,
   "id": "d231553e",
   "metadata": {},
   "outputs": [
    {
     "name": "stdout",
     "output_type": "stream",
     "text": [
      "Hello, farid wellcome.\n",
      "Hello, ali wellcome.\n",
      "Hello, neda wellcome.\n"
     ]
    }
   ],
   "source": [
    "person('farid'),\n",
    "person('ali'),\n",
    "person('neda')"
   ]
  },
  {
   "cell_type": "markdown",
   "id": "b2be0f44",
   "metadata": {},
   "source": [
    "## Example\n",
    "This function expects 2 arguments, and gets 2 arguments:\n"
   ]
  },
  {
   "cell_type": "code",
   "execution_count": 5,
   "id": "2674d763",
   "metadata": {},
   "outputs": [],
   "source": [
    "def calculator(x, y):\n",
    "    result = x * y\n",
    "    print(f'This is your result {result}')"
   ]
  },
  {
   "cell_type": "code",
   "execution_count": 6,
   "id": "f5a372f7",
   "metadata": {},
   "outputs": [
    {
     "name": "stdout",
     "output_type": "stream",
     "text": [
      "This is your result 48\n",
      "This is your result 180\n",
      "This is your result 33\n"
     ]
    }
   ],
   "source": [
    "calculator(12, 4),\n",
    "calculator(9, 20),\n",
    "calculator(3, 11)"
   ]
  },
  {
   "cell_type": "code",
   "execution_count": 7,
   "id": "d2ec8552",
   "metadata": {},
   "outputs": [
    {
     "name": "stdout",
     "output_type": "stream",
     "text": [
      "hello my name is farid, and i have 29 years old\n"
     ]
    }
   ],
   "source": [
    "def person(name, age):\n",
    "    print(f'hello my name is {name}, and i have {age} years old')\n",
    "          \n",
    "person('farid', 29)"
   ]
  },
  {
   "cell_type": "markdown",
   "id": "cfcbafa6",
   "metadata": {},
   "source": [
    "## Arbitrary Arguments, *args\n",
    "* If you do not know how many arguments that will be passed into your function, add a * before the parameter name in the function definition.\n",
    "\n",
    "* This way the function will receive a tuple of arguments, and can access the items accordingly:\n",
    "\n",
    "## Example\n",
    "If the number of arguments is unknown, add a * before the parameter name:"
   ]
  },
  {
   "cell_type": "code",
   "execution_count": 8,
   "id": "483b1af1",
   "metadata": {},
   "outputs": [],
   "source": [
    "def person(*names):\n",
    "    for name in names:\n",
    "        print(name)"
   ]
  },
  {
   "cell_type": "code",
   "execution_count": 9,
   "id": "4db31e45",
   "metadata": {},
   "outputs": [
    {
     "name": "stdout",
     "output_type": "stream",
     "text": [
      "farid\n",
      "reza\n",
      "ahmad\n",
      "babak\n",
      "neda\n",
      "sara\n"
     ]
    }
   ],
   "source": [
    "person('farid', 'reza', 'ahmad', 'babak', 'neda', 'sara')"
   ]
  },
  {
   "cell_type": "code",
   "execution_count": 10,
   "id": "8df3be74",
   "metadata": {},
   "outputs": [],
   "source": [
    "def calculator(*num):\n",
    "    result = []\n",
    "    for number in num:\n",
    "        result.append(number)\n",
    "        new_result = sum(result)\n",
    "    print(new_result)"
   ]
  },
  {
   "cell_type": "code",
   "execution_count": 11,
   "id": "9e580eac",
   "metadata": {},
   "outputs": [
    {
     "name": "stdout",
     "output_type": "stream",
     "text": [
      "34\n",
      "55\n"
     ]
    }
   ],
   "source": [
    "calculator(9, 10 ,2, 13)\n",
    "calculator(1, 2, 3, 4, 5, 6, 7, 8, 9, 10)"
   ]
  },
  {
   "cell_type": "markdown",
   "id": "e2f3a600",
   "metadata": {},
   "source": [
    "## Keyword Arguments\n",
    "You can also send arguments with the `key = value` syntax.\n",
    "\n",
    "This way the order of the arguments does not matter.\n",
    "\n",
    "## Example\n"
   ]
  },
  {
   "cell_type": "code",
   "execution_count": 12,
   "id": "8c66e868",
   "metadata": {},
   "outputs": [],
   "source": [
    "def person(name, age):\n",
    "    print(f'hello my name is {name}, and i have {age} years old')"
   ]
  },
  {
   "cell_type": "code",
   "execution_count": 13,
   "id": "c38b67a1",
   "metadata": {},
   "outputs": [
    {
     "name": "stdout",
     "output_type": "stream",
     "text": [
      "hello my name is farid, and i have 12 years old\n"
     ]
    }
   ],
   "source": [
    "person(name='farid', age=12)"
   ]
  },
  {
   "cell_type": "code",
   "execution_count": 14,
   "id": "847edfdb",
   "metadata": {},
   "outputs": [
    {
     "name": "stdout",
     "output_type": "stream",
     "text": [
      "Which operation do you want? type(*+-/)\n",
      "+\n",
      "20\n"
     ]
    }
   ],
   "source": [
    "def add(x, y):\n",
    "    result = x+y\n",
    "    print(result)\n",
    "    \n",
    "def multy(x,y):\n",
    "    result = x * y\n",
    "    print(result)\n",
    "    \n",
    "def devid(x, y):\n",
    "    result = x /y\n",
    "    print(result)\n",
    "    \n",
    "def minus(x, y):\n",
    "    result = x -y\n",
    "    print(result)\n",
    "    \n",
    "user_input = input('Which operation do you want? type(*+-/)\\n')\n",
    "\n",
    "if user_input == '*':\n",
    "    multy(12, 8)\n",
    "elif user_input == '+':\n",
    "    add(12, 8)\n",
    "elif user_input == '-':\n",
    "    minus(12, 8)\n",
    "elif user_input == '/':\n",
    "    devid(12, 8)\n",
    "else:\n",
    "    print('Invalid Input')\n",
    "    "
   ]
  },
  {
   "cell_type": "markdown",
   "id": "3c764c1b",
   "metadata": {},
   "source": [
    "## Arbitrary Keyword Arguments, **kwargs\n",
    "\n",
    "If you do not know how many keyword arguments that will be passed into your function, add two asterisk: `** before` the parameter name in the function definition.\n",
    "\n",
    "This way the function will receive a dictionary of arguments, and can access the items accordingly:\n",
    "\n",
    "## Example\n",
    "If the number of keyword arguments is unknown, add a double `** before` the parameter name:"
   ]
  },
  {
   "cell_type": "code",
   "execution_count": 15,
   "id": "9cc09504",
   "metadata": {},
   "outputs": [],
   "source": [
    "def person(**info):\n",
    "    print(f'''\n",
    "    Name : {info['name']}\n",
    "    Email : {info['email']}\n",
    "    Password: {info['password']}\n",
    "    ''')"
   ]
  },
  {
   "cell_type": "code",
   "execution_count": 16,
   "id": "08e4617f",
   "metadata": {},
   "outputs": [
    {
     "name": "stdout",
     "output_type": "stream",
     "text": [
      "\n",
      "    Name : farid\n",
      "    Email : info@gmail.com\n",
      "    Password: ********\n",
      "    \n",
      "\n",
      "    Name : babak\n",
      "    Email : babak@gmail.com\n",
      "    Password: ********\n",
      "    \n"
     ]
    }
   ],
   "source": [
    "person(name='farid', email='info@gmail.com', password = '********')\n",
    "person(name='babak', email='babak@gmail.com', password = '********')"
   ]
  },
  {
   "cell_type": "markdown",
   "id": "7cf0ddf1",
   "metadata": {},
   "source": [
    "## Default Parameter Value\n",
    "The following example shows how to use a default parameter value.\n",
    "\n",
    "If we call the function without argument, it uses the default value:\n",
    "\n",
    "## Example"
   ]
  },
  {
   "cell_type": "code",
   "execution_count": 17,
   "id": "f8dc55bd",
   "metadata": {},
   "outputs": [],
   "source": [
    "def add(x=10):\n",
    "    y = int(input('Enter for y '))\n",
    "    result = x * y\n",
    "    print(f'This is your result {result}')"
   ]
  },
  {
   "cell_type": "code",
   "execution_count": 18,
   "id": "5d0f788c",
   "metadata": {},
   "outputs": [
    {
     "name": "stdout",
     "output_type": "stream",
     "text": [
      "Enter for y 4\n",
      "This is your result 16\n"
     ]
    }
   ],
   "source": [
    "# add()\n",
    "add(x=4)"
   ]
  },
  {
   "cell_type": "code",
   "execution_count": null,
   "id": "3d9fd4c6",
   "metadata": {},
   "outputs": [],
   "source": []
  },
  {
   "cell_type": "markdown",
   "id": "b532cc48",
   "metadata": {},
   "source": [
    "## Passing a List as an Argument\n",
    "You can send any data types of argument to a function (string, number, list, dictionary etc.), and it will be treated as the same data type inside the function.\n",
    "\n",
    "E.g. if you send a List as an argument, it will still be a List when it reaches the function:"
   ]
  },
  {
   "cell_type": "code",
   "execution_count": 19,
   "id": "4b1ad503",
   "metadata": {},
   "outputs": [],
   "source": [
    "def intro(name):\n",
    "    for _ in name:\n",
    "        print(_)"
   ]
  },
  {
   "cell_type": "code",
   "execution_count": 20,
   "id": "ae7ba447",
   "metadata": {},
   "outputs": [
    {
     "name": "stdout",
     "output_type": "stream",
     "text": [
      "Farid\n",
      "Babak\n",
      "Ali\n",
      "Neda\n"
     ]
    }
   ],
   "source": [
    "namse = ['Farid', 'Babak', 'Ali', 'Neda']\n",
    "intro(name = namse)"
   ]
  },
  {
   "cell_type": "code",
   "execution_count": 21,
   "id": "6ded8609",
   "metadata": {},
   "outputs": [
    {
     "name": "stdout",
     "output_type": "stream",
     "text": [
      "2\n",
      "4\n",
      "6\n",
      "8\n"
     ]
    }
   ],
   "source": [
    "def even(number):\n",
    "    for num in number:\n",
    "        if num % 2 ==0:\n",
    "            print(num)\n",
    "            \n",
    "my_list = [2, 3, 4, 5, 6, 7, 8]\n",
    "even(number= my_list)"
   ]
  },
  {
   "cell_type": "markdown",
   "id": "b7c774fc",
   "metadata": {},
   "source": [
    "## Return Values\n",
    "To let a function return a value, use the return statement:"
   ]
  },
  {
   "cell_type": "code",
   "execution_count": 22,
   "id": "2d98f009",
   "metadata": {},
   "outputs": [],
   "source": [
    "def calc(x, y):\n",
    "    return x * y"
   ]
  },
  {
   "cell_type": "code",
   "execution_count": 23,
   "id": "9ef91cfb",
   "metadata": {},
   "outputs": [
    {
     "name": "stdout",
     "output_type": "stream",
     "text": [
      "72\n",
      "60\n"
     ]
    }
   ],
   "source": [
    "print(calc(9, 8))\n",
    "print(calc(12, 5))"
   ]
  },
  {
   "cell_type": "markdown",
   "id": "545969ae",
   "metadata": {},
   "source": [
    "## Python Lambda\n",
    "\n",
    "A lambda function is a small anonymous function.\n",
    "\n",
    "A lambda function can take any number of arguments, but can only have one expression.\n",
    "\n",
    "## Example"
   ]
  },
  {
   "cell_type": "code",
   "execution_count": 24,
   "id": "ee7d87e8",
   "metadata": {},
   "outputs": [
    {
     "name": "stdout",
     "output_type": "stream",
     "text": [
      "15\n"
     ]
    }
   ],
   "source": [
    "x = lambda a : a + 10\n",
    "print(x(5))"
   ]
  },
  {
   "cell_type": "code",
   "execution_count": 25,
   "id": "12814736",
   "metadata": {},
   "outputs": [
    {
     "name": "stdout",
     "output_type": "stream",
     "text": [
      "4\n"
     ]
    }
   ],
   "source": [
    "x = (lambda y : y**2)(2)\n",
    "print(x)"
   ]
  },
  {
   "cell_type": "code",
   "execution_count": 26,
   "id": "5c34762b",
   "metadata": {},
   "outputs": [
    {
     "name": "stdout",
     "output_type": "stream",
     "text": [
      "13\n"
     ]
    }
   ],
   "source": [
    "# Example\n",
    "# Summarize argument a, b, and c and return the result:\n",
    "\n",
    "x = lambda a, b, c : a + b + c\n",
    "print(x(5, 6, 2))"
   ]
  },
  {
   "cell_type": "markdown",
   "id": "e94f4de8",
   "metadata": {},
   "source": [
    "## Why Use Lambda Functions?\n",
    "The power of lambda is better shown when you use them as an anonymous function inside another function.\n",
    "\n",
    "Say you have a function definition that takes one argument, and that argument will be multiplied with an unknown number:\n",
    "\n",
    "`def myfunc(n):\n",
    "  return lambda a : a * n`"
   ]
  },
  {
   "cell_type": "code",
   "execution_count": 27,
   "id": "72d17f43",
   "metadata": {},
   "outputs": [
    {
     "name": "stdout",
     "output_type": "stream",
     "text": [
      "22\n"
     ]
    }
   ],
   "source": [
    "def myfunc(n):\n",
    "  return lambda a : a * n\n",
    "\n",
    "mydoubler = myfunc(2)\n",
    "\n",
    "print(mydoubler(11))"
   ]
  },
  {
   "cell_type": "markdown",
   "id": "17b90753",
   "metadata": {},
   "source": [
    "# 'WELCOME TO TRUE LOVE GAME'"
   ]
  },
  {
   "cell_type": "code",
   "execution_count": 28,
   "id": "85d44808",
   "metadata": {},
   "outputs": [
    {
     "name": "stdout",
     "output_type": "stream",
     "text": [
      "-----------------------------------------WELLCOME TO TRUE LOVE GAME BABY----------------------------------\n",
      "what is your name??\n",
      "farid\n",
      "what's their name???\n",
      "asma\n",
      "your score is 10\n"
     ]
    }
   ],
   "source": [
    "print('-----------------------------------------WELLCOME TO TRUE LOVE GAME BABY----------------------------------')\n",
    "\n",
    "your_name = input('what is your name??\\n')\n",
    "their_name = input('what\\'s their name???\\n')\n",
    "name = your_name.upper()\n",
    "name1 = their_name.upper()\n",
    "true_count = name.count('T') + name1.count('T') + name.count('R') + name1.count(\n",
    "    'R') + name.count('U') + name1.count('U') + name.count('E') + name1.count('E')\n",
    "\n",
    "love_count = name1.count('L') + name.count('L') + name1.count('O') + name.count(\n",
    "    'O') + name1.count('V') + name.count('V') + name1.count('E') + name.count('E')\n",
    "\n",
    "result = str(true_count) + str(love_count)\n",
    "\n",
    "love_score = int(result)\n",
    "\n",
    "if love_score > 50:\n",
    "    print(f'your scor is {love_score}, you go together like cock and mentos')\n",
    "elif love_score > 20:\n",
    "    print(f'your score is {love_score}, youare alright together')\n",
    "else:\n",
    "    print(f'your score is {love_score}')"
   ]
  },
  {
   "cell_type": "markdown",
   "id": "9d1b365c",
   "metadata": {},
   "source": [
    "# Project"
   ]
  },
  {
   "cell_type": "code",
   "execution_count": 29,
   "id": "e900591d",
   "metadata": {},
   "outputs": [
    {
     "name": "stdout",
     "output_type": "stream",
     "text": [
      "Input the list of student height please!!!\n",
      "12\n",
      "the average hieght of the student is : 12.0\n",
      "the highest score in the class is : 12\n"
     ]
    }
   ],
   "source": [
    "student_height = input('Input the list of student height please!!!\\n')\n",
    "total = 0\n",
    "my_list = student_height.split()\n",
    "heighests = 0\n",
    "for item in my_list:\n",
    "    new_item = int(item)\n",
    "    total += new_item\n",
    "\n",
    "for highest in my_list:\n",
    "    new_highest = int(highest)\n",
    "    if new_highest > heighests:\n",
    "        heighests = new_highest\n",
    "\n",
    "average_height = total / len(my_list)\n",
    "print(f'the average hieght of the student is : {average_height}')\n",
    "print(f'the highest score in the class is : {heighests}')\n"
   ]
  },
  {
   "cell_type": "markdown",
   "id": "0fdd5a33",
   "metadata": {},
   "source": [
    "# project\n"
   ]
  },
  {
   "cell_type": "code",
   "execution_count": 30,
   "id": "45c7d2f4",
   "metadata": {},
   "outputs": [
    {
     "name": "stdout",
     "output_type": "stream",
     "text": [
      "Height of the wall : \n",
      "23\n",
      "Width of the wall : \n",
      "23\n",
      "you'll need 106 cans of paint\n"
     ]
    }
   ],
   "source": [
    "test_h = int(input('Height of the wall : \\n'))\n",
    "test_w = int(input('Width of the wall : \\n'))\n",
    "coverage = 5\n",
    "\n",
    "\n",
    "def calculat():\n",
    "    return (test_h * test_w) / coverage\n",
    "\n",
    "\n",
    "result = calculat()\n",
    "\n",
    "print(f'you\\'ll need {round(result)} cans of paint')"
   ]
  },
  {
   "cell_type": "markdown",
   "id": "95d1589f",
   "metadata": {},
   "source": [
    "# project"
   ]
  },
  {
   "cell_type": "code",
   "execution_count": 31,
   "id": "dbbb8740",
   "metadata": {},
   "outputs": [
    {
     "name": "stdout",
     "output_type": "stream",
     "text": [
      "Pleas enter a number to check is prime or not !!!!\n",
      "23\n",
      "23 it's prime number.\n",
      "for exit enter 'q' .. if you want to contenu enter 'c'23\n"
     ]
    }
   ],
   "source": [
    "def prime_check():\n",
    "    if number1 > 1:\n",
    "        for i in range(2, number1):\n",
    "            if number1 % i == 0:\n",
    "                print(f'{number1} it\\'s not prime number.')\n",
    "                break\n",
    "        else:\n",
    "            print(f'{number1} it\\'s prime number.')\n",
    "    else:\n",
    "        print(f'{number1} neither prime nor composite.')\n",
    "\n",
    "\n",
    "while True:\n",
    "    number1 = int(\n",
    "        input('Pleas enter a number to check is prime or not !!!!\\n'))\n",
    "    prime_check()\n",
    "    number2 = input(\n",
    "        'for exit enter \\'q\\' .. if you want to contenu enter \\'c\\'')\n",
    "    if number2 == 'c':\n",
    "        continue\n",
    "    else:\n",
    "        break\n"
   ]
  },
  {
   "cell_type": "markdown",
   "id": "29244acb",
   "metadata": {},
   "source": [
    "# Project"
   ]
  },
  {
   "cell_type": "code",
   "execution_count": 32,
   "id": "cb544555",
   "metadata": {},
   "outputs": [
    {
     "name": "stdout",
     "output_type": "stream",
     "text": [
      "Type \"encode\" to encrypt, type \"decode\" to decryot\n",
      "encode\n",
      "Type your message: \n",
      "farid\n",
      "Type the shift number: \n",
      "5\n",
      "The encoded text is kfwni\n",
      "Type \"Yes\" if you want go again or Type \"NO\" if you wnat to end up the game!!no\n",
      "GOOD BYE\n",
      "The encoded text is kfwni\n"
     ]
    }
   ],
   "source": [
    "\n",
    "alphabet = ['a', 'b', 'c', 'd', 'e', 'f', 'g', 'h', 'i', 'j', 'k', 'l',\n",
    "            'm', 'n', 'o', 'p', 'q', 'r', 's', 't', 'u', 'v', 'w', 'x', 'y', 'z', 'a', 'b', 'c', 'd', 'e', 'f', 'g', 'h', 'i', 'j', 'k', 'l',\n",
    "            'm', 'n', 'o', 'p', 'q', 'r', 's', 't', 'u', 'v', 'w', 'x', 'y', 'z']\n",
    "\n",
    "\n",
    "def ceasar(shift_amount):\n",
    "    cipher_text = ''\n",
    "    if direction == 'decode':\n",
    "        shift_amount *= -1\n",
    "    for x in text:\n",
    "        if x in alphabet:\n",
    "            pisition = alphabet.index(x)\n",
    "            new_position = pisition + shift_amount\n",
    "            cipher_text += alphabet[new_position]\n",
    "        else:\n",
    "            cipher_text += x\n",
    "    print(f'The {direction}d text is {cipher_text}')\n",
    "\n",
    "\n",
    "contenu_loop = True\n",
    "while contenu_loop:\n",
    "    direction = input('Type \"encode\" to encrypt, type \"decode\" to decryot\\n')\n",
    "    text = input('Type your message: \\n')\n",
    "    shift = int(input('Type the shift number: \\n'))\n",
    "    shift = shift % 26\n",
    "    ceasar(shift_amount=shift)\n",
    "    result = input(\n",
    "        'Type \"Yes\" if you want go again or Type \"NO\" if you wnat to end up the game!!')\n",
    "    if result == 'no':\n",
    "        contenu_loop = False\n",
    "        print('GOOD BYE')\n",
    "\n",
    "\n",
    "def encrypt():\n",
    "    cipher_text = \"\"\n",
    "    for x in text:\n",
    "        position = alphabet.index(x)\n",
    "        new_position = position + shift\n",
    "        new_x = alphabet[new_position]\n",
    "        cipher_text += new_x\n",
    "    print(f'The encoded text is {cipher_text}')\n",
    "\n",
    "\n",
    "def decrypt():\n",
    "    cipher_text = \"\"\n",
    "    for x in text:\n",
    "        position = alphabet.index(x)\n",
    "        new_position = position - shift\n",
    "        new_x = alphabet[new_position]\n",
    "        cipher_text += new_x\n",
    "    print(f'The decoded text is {cipher_text}')\n",
    "\n",
    "\n",
    "if direction == 'encode':\n",
    "    encrypt()\n",
    "elif direction == 'decode':\n",
    "    decrypt()"
   ]
  },
  {
   "cell_type": "code",
   "execution_count": null,
   "id": "73e889f2",
   "metadata": {},
   "outputs": [
    {
     "name": "stdout",
     "output_type": "stream",
     "text": [
      "What do you wnat to choose????\n",
      " type \"1\" for \"ROCK ✊\"  , \"2\" for \"PAPER ✋\" , \"3\" for \"SCISSORS ✌\" \n",
      "1\n",
      "1\n",
      "What do you wnat to choose????\n",
      " type \"1\" for \"ROCK ✊\"  , \"2\" for \"PAPER ✋\" , \"3\" for \"SCISSORS ✌\" \n",
      "2\n",
      "3\n",
      "What do you wnat to choose????\n",
      " type \"1\" for \"ROCK ✊\"  , \"2\" for \"PAPER ✋\" , \"3\" for \"SCISSORS ✌\" \n",
      "2\n",
      "1\n",
      "What do you wnat to choose????\n",
      " type \"1\" for \"ROCK ✊\"  , \"2\" for \"PAPER ✋\" , \"3\" for \"SCISSORS ✌\" \n",
      "2\n",
      "2\n",
      "What do you wnat to choose????\n",
      " type \"1\" for \"ROCK ✊\"  , \"2\" for \"PAPER ✋\" , \"3\" for \"SCISSORS ✌\" \n",
      "2\n",
      "1\n",
      "What do you wnat to choose????\n",
      " type \"1\" for \"ROCK ✊\"  , \"2\" for \"PAPER ✋\" , \"3\" for \"SCISSORS ✌\" \n",
      "2\n",
      "1\n"
     ]
    }
   ],
   "source": [
    "import random\n",
    "\n",
    "while True:\n",
    "    choice = input(\n",
    "    'What do you wnat to choose????\\n type \\\"1\\\" for \\\"ROCK ✊\\\"  , \\\"2\\\" for \\\"PAPER ✋\\\" , \\\"3\\\" for \\\"SCISSORS ✌\\\" \\n')\n",
    "    your_choose = int(choice)\n",
    "    ai_choose = random.randint(1, 3)\n",
    "    if your_choose == 1 and ai_choose == 3:\n",
    "        print('YOU CHOOSE : ROCK ✊')\n",
    "        print('AI CHOOSE : SCISSORS ✌')\n",
    "        print('YOU WIN!!!')\n",
    "    elif your_choose == 2 and ai_choose == 1:\n",
    "        print('YOU CHOOSE : PAPER ✋')\n",
    "        print('AI CHOOSE : ROCK ✊')\n",
    "        print('YOU WIN!!!')"
   ]
  },
  {
   "cell_type": "code",
   "execution_count": null,
   "id": "3635dfd1",
   "metadata": {},
   "outputs": [],
   "source": []
  }
 ],
 "metadata": {
  "kernelspec": {
   "display_name": "Python 3 (ipykernel)",
   "language": "python",
   "name": "python3"
  },
  "language_info": {
   "codemirror_mode": {
    "name": "ipython",
    "version": 3
   },
   "file_extension": ".py",
   "mimetype": "text/x-python",
   "name": "python",
   "nbconvert_exporter": "python",
   "pygments_lexer": "ipython3",
   "version": "3.9.13"
  }
 },
 "nbformat": 4,
 "nbformat_minor": 5
}
