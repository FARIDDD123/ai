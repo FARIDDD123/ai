{
 "cells": [
  {
   "cell_type": "markdown",
   "id": "cb0c84b9",
   "metadata": {},
   "source": [
    "# Dictionary Methods\n",
    "Python has a set of built-in methods that you can use on dictionaries.\n",
    "\n",
    "### Method\tDescription\n",
    "* `clear()`\tRemoves all the elements from the dictionary\n",
    "* `copy()`\tReturns a copy of the dictionary\n",
    "* `fromkeys()`\tReturns a dictionary with the specified keys and value\n",
    "* `get()`\tReturns the value of the specified key\n",
    "* `items()`\tReturns a list containing a tuple for each key value pair\n",
    "* `keys()`\tReturns a list containing the dictionary's keys\n",
    "* `pop()`\tRemoves the element with the specified key\n",
    "* `popitem()`\tRemoves the last inserted key-value pair\n",
    "* `setdefault()`\tReturns the value of the specified key. If the key does not exist: insert the key, with the specified value\n",
    "* `update()`\tUpdates the dictionary with the specified key-value pairs\n",
    "* `values()`\tReturns a list of all the values in the dictionary"
   ]
  },
  {
   "cell_type": "markdown",
   "id": "88de1f1c",
   "metadata": {},
   "source": [
    "## ExampleGet \n",
    "\n",
    "Insert an item to the dictionary:\n"
   ]
  },
  {
   "cell_type": "code",
   "execution_count": 8,
   "id": "1076e60b",
   "metadata": {},
   "outputs": [
    {
     "name": "stdout",
     "output_type": "stream",
     "text": [
      "{'brand': 'Ford', 'model': 'Mustang', 'year': 1964}\n",
      "{'brand': 'BMW', 'model': 'Mustang', 'year': 1964, 'color': 'White'}\n"
     ]
    }
   ],
   "source": [
    "car = {\n",
    "  \"brand\": \"Ford\",\n",
    "  \"model\": \"Mustang\",\n",
    "  \"year\": 1964\n",
    "}\n",
    "print(car)\n",
    "\n",
    "car.update({\"color\": \"White\"})\n",
    "car.update({'brand': 'BMW'})\n",
    "\n",
    "print(car)"
   ]
  },
  {
   "cell_type": "markdown",
   "id": "f4a0ea9f",
   "metadata": {},
   "source": [
    "## Python Conditions and If statements\n",
    "Python supports the usual logical conditions from mathematics:\n",
    "\n",
    "* Equals: a == b\n",
    "* Not Equals: a != b\n",
    "* Less than: a < b\n",
    "* Less than or equal to: a <= b\n",
    "* Greater than: a > b\n",
    "* Greater than or equal to: a >= b\n",
    "* These conditions can be used in several ways, most commonly in \"if statements\" and loops.\n",
    "\n",
    "An \"if statement\" is written by using the if keyword."
   ]
  },
  {
   "cell_type": "markdown",
   "id": "741d8489",
   "metadata": {},
   "source": [
    "## Example"
   ]
  },
  {
   "cell_type": "code",
   "execution_count": 3,
   "id": "0c1b33a4",
   "metadata": {},
   "outputs": [
    {
     "name": "stdout",
     "output_type": "stream",
     "text": [
      "\n",
      "Pleas enter your age: \n",
      "12\n",
      "\n"
     ]
    }
   ],
   "source": [
    "print()\n",
    "age = int(input('Pleas enter your age: \\n'))\n",
    "print()\n",
    "\n",
    "if age >= 18:\n",
    "    print('Ok, You can drive a car')\n",
    "    "
   ]
  },
  {
   "cell_type": "markdown",
   "id": "88801d4d",
   "metadata": {},
   "source": [
    "## Indentation\n",
    "> Python relies on indentation (whitespace at the beginning of a line) to define scope in the code. Other programming languages often use curly-brackets for this purpose."
   ]
  },
  {
   "cell_type": "markdown",
   "id": "1d2879ce",
   "metadata": {},
   "source": [
    "## Else\n",
    "The else keyword catches anything which isn't caught by the preceding conditions.\n",
    "\n",
    "### Example"
   ]
  },
  {
   "cell_type": "code",
   "execution_count": 6,
   "id": "822207bf",
   "metadata": {},
   "outputs": [
    {
     "name": "stdout",
     "output_type": "stream",
     "text": [
      "pleas enter your age :\n",
      "12\n",
      "Sorry, You can't drive a car\n"
     ]
    }
   ],
   "source": [
    "age = int(input('pleas enter your age :\\n'))\n",
    "\n",
    "if age >= 18:\n",
    "    print('Ok, You can drive a car')\n",
    "else:\n",
    "    print('Sorry, You can\\'t drive a car')"
   ]
  },
  {
   "cell_type": "markdown",
   "id": "676ab9e1",
   "metadata": {},
   "source": [
    "## Elif\n",
    "The elif keyword is Python's way of saying \"if the previous conditions were not true, then try this condition\".\n",
    "\n",
    "### Example"
   ]
  },
  {
   "cell_type": "code",
   "execution_count": 16,
   "id": "d895857f",
   "metadata": {},
   "outputs": [
    {
     "name": "stdout",
     "output_type": "stream",
     "text": [
      "Pleas enter your age :\n",
      "56\n",
      "You are old\n"
     ]
    }
   ],
   "source": [
    "age = int(input('Pleas enter your age :\\n'))\n",
    "\n",
    "if age < 18:\n",
    "    print('You are young')\n",
    "elif age < 50:\n",
    "    print('You are middle age')\n",
    "else:\n",
    "    print('You are old')"
   ]
  },
  {
   "cell_type": "code",
   "execution_count": 12,
   "id": "6c45ff5f",
   "metadata": {},
   "outputs": [
    {
     "name": "stdout",
     "output_type": "stream",
     "text": [
      "Pleas enter a number\n",
      "4\n",
      "your number is even\n"
     ]
    }
   ],
   "source": [
    "# user_pass = input('Pleas enter your password\\n')\n",
    "# result = len(user_pass) * '*'\n",
    "# if len(user_pass) >=8:\n",
    "#     print(f'This is your password {result}')\n",
    "# else:\n",
    "#     print('Your password is to short')\n",
    "\n",
    "num = int(input('Pleas enter a number\\n'))\n",
    "\n",
    "if num % 2 == 0:\n",
    "    print('your number is even')\n",
    "else:\n",
    "    print('your number is odd')"
   ]
  },
  {
   "cell_type": "markdown",
   "id": "01fd7b34",
   "metadata": {},
   "source": [
    "## Short Hand If\n",
    "If you have only one statement to execute, you can put it on the same line as the if statement.\n",
    "\n",
    "## Example\n",
    "One line if statement:"
   ]
  },
  {
   "cell_type": "code",
   "execution_count": 11,
   "id": "45cece03",
   "metadata": {},
   "outputs": [
    {
     "name": "stdout",
     "output_type": "stream",
     "text": [
      "Pleas enter a number for X: 1\n",
      "Pleas enter a number for Y :2\n",
      "y:2 is bigger than x:1\n"
     ]
    }
   ],
   "source": [
    "x = int(input('Pleas enter a number for X: '))\n",
    "y = int(input('Pleas enter a number for Y :'))\n",
    "message = f'x:{x} is bigger than y:{y}' if x > y else f'y:{y} is bigger than x:{x}'\n",
    "print(message)"
   ]
  },
  {
   "cell_type": "markdown",
   "id": "30b2fd8a",
   "metadata": {},
   "source": [
    "## And\n",
    "The `and` keyword is a logical operator, and is used to combine conditional statements:\n",
    "\n",
    "## Example\n"
   ]
  },
  {
   "cell_type": "code",
   "execution_count": 27,
   "id": "ee92b973",
   "metadata": {},
   "outputs": [
    {
     "name": "stdout",
     "output_type": "stream",
     "text": [
      "Do you want to coninue the game pleass type \"Yes\", \"No\" \n",
      "no\n",
      "How old are you \n",
      "23\n",
      "Oh, sorry you can access the game\n"
     ]
    }
   ],
   "source": [
    "continue_game = input('Do you want to coninue the game pleass type \"Yes\", \"No\" \\n').lower()\n",
    "age = int(input('How old are you \\n'))\n",
    "\n",
    "if age >= 18 and continue_game == 'yes':\n",
    "    print('Ok, go one enjoy the game')\n",
    "else:\n",
    "    print('Oh, sorry you can access the game')"
   ]
  },
  {
   "cell_type": "markdown",
   "id": "2ad7288b",
   "metadata": {},
   "source": [
    "## Or\n",
    "\n",
    "The `or` keyword is a logical operator, and is used to combine conditional statements:"
   ]
  },
  {
   "cell_type": "code",
   "execution_count": 29,
   "id": "0dea8a99",
   "metadata": {},
   "outputs": [
    {
     "name": "stdout",
     "output_type": "stream",
     "text": [
      "Do you want to coninue the game pleass type \"Yes\", \"No\" \n",
      "yes\n",
      "How old are you \n",
      "12\n",
      "Ok, go one enjoy the game\n"
     ]
    }
   ],
   "source": [
    "continue_game = input('Do you want to coninue the game pleass type \"Yes\", \"No\" \\n').lower()\n",
    "age = int(input('How old are you \\n'))\n",
    "\n",
    "if age >= 18 or continue_game == 'yes':\n",
    "    print('Ok, go one enjoy the game')\n",
    "else:\n",
    "    print('Oh, sorry you can access the game')"
   ]
  },
  {
   "cell_type": "markdown",
   "id": "b3b001f5",
   "metadata": {},
   "source": [
    "## Not\n",
    "The not keyword is a logical operator, and is used to reverse the result of the conditional statement:"
   ]
  },
  {
   "cell_type": "code",
   "execution_count": 33,
   "id": "b5f44f3a",
   "metadata": {},
   "outputs": [
    {
     "name": "stdout",
     "output_type": "stream",
     "text": [
      "Pleas enter your age \n",
      "23\n",
      "Ok, you can drive the car\n"
     ]
    }
   ],
   "source": [
    "age = int(input('Pleas enter your age \\n'))\n",
    "\n",
    "if not age < 18:\n",
    "    print('Ok, you can drive the car')\n",
    "else:\n",
    "    print('I\\'m Sorry, you can\\'t drive a car')"
   ]
  },
  {
   "cell_type": "markdown",
   "id": "ae90e382",
   "metadata": {},
   "source": [
    "## Nested If\n",
    "You can have `if` statements inside `if` statements, this is called `nested` if statements.\n",
    "\n",
    "### Example"
   ]
  },
  {
   "cell_type": "code",
   "execution_count": 36,
   "id": "785b7c4a",
   "metadata": {},
   "outputs": [
    {
     "name": "stdout",
     "output_type": "stream",
     "text": [
      "Pleas enter a number for X: 12\n",
      "Above ten,\n",
      "but not above 20.\n"
     ]
    }
   ],
   "source": [
    "x = int(input('Pleas enter a number for X: '))\n",
    "\n",
    "if x > 10:\n",
    "  print(\"Above ten,\")\n",
    "  if x > 20:\n",
    "    print(\"and also above 20!\")\n",
    "  else:\n",
    "    print(\"but not above 20.\")"
   ]
  },
  {
   "cell_type": "code",
   "execution_count": null,
   "id": "c3ed368f",
   "metadata": {},
   "outputs": [],
   "source": []
  }
 ],
 "metadata": {
  "kernelspec": {
   "display_name": "Python 3 (ipykernel)",
   "language": "python",
   "name": "python3"
  },
  "language_info": {
   "codemirror_mode": {
    "name": "ipython",
    "version": 3
   },
   "file_extension": ".py",
   "mimetype": "text/x-python",
   "name": "python",
   "nbconvert_exporter": "python",
   "pygments_lexer": "ipython3",
   "version": "3.9.13"
  }
 },
 "nbformat": 4,
 "nbformat_minor": 5
}
