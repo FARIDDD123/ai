{
 "cells": [
  {
   "cell_type": "markdown",
   "id": "2a01a9d6",
   "metadata": {},
   "source": [
    "# Dictionary\n",
    "Dictionaries are used to store data values in key:value pairs.\n",
    "\n",
    "A dictionary is a collection which is ordered*, changeable and do not allow duplicates.\n",
    "\n",
    "## Example"
   ]
  },
  {
   "cell_type": "code",
   "execution_count": 1,
   "id": "472c0819",
   "metadata": {},
   "outputs": [
    {
     "name": "stdout",
     "output_type": "stream",
     "text": [
      "{'name': 'farid', 'age': 29, 'job': 'neural network programmer'}\n",
      "-------------------------------------------------------------------------\n",
      "dict_keys(['name', 'age', 'job'])\n",
      "-------------------------------------------------------------------------\n",
      "dict_values(['farid', 29, 'neural network programmer'])\n"
     ]
    }
   ],
   "source": [
    "person = {\n",
    "    'name':'farid',\n",
    "    'age':29,\n",
    "    'job':'neural network programmer'\n",
    "}\n",
    "\n",
    "print(person)\n",
    "print('-------------------------------------------------------------------------')\n",
    "print(person.keys())\n",
    "print('-------------------------------------------------------------------------')\n",
    "print(person.values())"
   ]
  },
  {
   "cell_type": "markdown",
   "id": "c05a425a",
   "metadata": {},
   "source": [
    "# Dictionary Items\n",
    "Dictionary items are ordered, changeable, and does not allow duplicates.\n",
    "\n",
    "Dictionary items are presented in key:value pairs, and can be referred to by using the key name.\n",
    "\n",
    "## Example"
   ]
  },
  {
   "cell_type": "code",
   "execution_count": 2,
   "id": "37d114fc",
   "metadata": {},
   "outputs": [
    {
     "name": "stdout",
     "output_type": "stream",
     "text": [
      "farid\n",
      "29\n",
      "neural network programmer\n"
     ]
    }
   ],
   "source": [
    "print(person['name'])\n",
    "print(person['age'])\n",
    "print(person['job'])"
   ]
  },
  {
   "cell_type": "markdown",
   "id": "63d103a4",
   "metadata": {},
   "source": [
    "# Duplicates Not Allowed\n",
    "Dictionaries cannot have two items with the same key:\n",
    "\n",
    "## Example\n",
    "Duplicate values will overwrite existing values:"
   ]
  },
  {
   "cell_type": "code",
   "execution_count": 3,
   "id": "52a322a7",
   "metadata": {},
   "outputs": [
    {
     "name": "stdout",
     "output_type": "stream",
     "text": [
      "{'name': 'farid', 'age': 36, 'last_name': 'kaki'}\n"
     ]
    }
   ],
   "source": [
    "person ={\n",
    "    'name':'farid',\n",
    "    'age':24,\n",
    "    'last_name':'kaki',\n",
    "    'age':36\n",
    "}\n",
    "\n",
    "print(person)"
   ]
  },
  {
   "cell_type": "markdown",
   "id": "6d23cfb6",
   "metadata": {},
   "source": [
    "## `Len()`"
   ]
  },
  {
   "cell_type": "code",
   "execution_count": 4,
   "id": "2d43efce",
   "metadata": {},
   "outputs": [
    {
     "name": "stdout",
     "output_type": "stream",
     "text": [
      "3\n"
     ]
    }
   ],
   "source": [
    "print(len(person))"
   ]
  },
  {
   "cell_type": "markdown",
   "id": "11b9089b",
   "metadata": {},
   "source": [
    "## `Type()`"
   ]
  },
  {
   "cell_type": "code",
   "execution_count": 5,
   "id": "5ff59838",
   "metadata": {},
   "outputs": [
    {
     "name": "stdout",
     "output_type": "stream",
     "text": [
      "<class 'dict'>\n"
     ]
    }
   ],
   "source": [
    "print(type(person))"
   ]
  },
  {
   "cell_type": "markdown",
   "id": "67837db3",
   "metadata": {},
   "source": [
    "# The `dict()` Constructor\n",
    "It is also possible to use the dict() constructor to make a dictionary.\n",
    "\n",
    "## Example\n",
    "Using the `dict()` method to make a dictionary:\n",
    "\n"
   ]
  },
  {
   "cell_type": "code",
   "execution_count": 6,
   "id": "dd3381d2",
   "metadata": {},
   "outputs": [
    {
     "name": "stdout",
     "output_type": "stream",
     "text": [
      "{'name': 'John', 'age': 36, 'country': 'Norway'}\n",
      "<class 'dict'>\n"
     ]
    }
   ],
   "source": [
    "person = dict(name = \"John\", age = 36, country = \"Norway\")\n",
    "print(person)\n",
    "print(type(person))"
   ]
  },
  {
   "cell_type": "markdown",
   "id": "36b12354",
   "metadata": {},
   "source": [
    "# Accessing Items\n",
    "You can access the items of a dictionary by referring to its key name, inside square brackets:\n",
    "\n",
    "## Example \n",
    "Get the value of the \"model\" key:\n",
    "\n"
   ]
  },
  {
   "cell_type": "code",
   "execution_count": 7,
   "id": "1343e4ba",
   "metadata": {},
   "outputs": [],
   "source": [
    "car_model = {\n",
    "  \"brand\": \"Ford\",\n",
    "  \"model\": \"Mustang\",\n",
    "  \"year\": 1964\n",
    "}"
   ]
  },
  {
   "cell_type": "code",
   "execution_count": 8,
   "id": "ae7258af",
   "metadata": {},
   "outputs": [
    {
     "name": "stdout",
     "output_type": "stream",
     "text": [
      "Mustang\n",
      "1964\n"
     ]
    }
   ],
   "source": [
    "print(car_model['model'])\n",
    "print(car_model['year'])"
   ]
  },
  {
   "cell_type": "markdown",
   "id": "8a638ab1",
   "metadata": {},
   "source": [
    "> ## There is also a method called `get()` that will give you the same result:\n",
    "\n",
    "## Example\n",
    "Get the value of the \"model\" key:\n",
    "\n"
   ]
  },
  {
   "cell_type": "code",
   "execution_count": 30,
   "id": "c0c3c866",
   "metadata": {},
   "outputs": [
    {
     "name": "stdout",
     "output_type": "stream",
     "text": [
      "Mustang\n",
      "farid\n"
     ]
    }
   ],
   "source": [
    "x = car_model.get(\"model\")\n",
    "print(x)\n",
    "\n",
    "person = {\n",
    "    'name':'farid',\n",
    "    'age':24\n",
    "}\n",
    "\n",
    "y = person.get('name')\n",
    "print(y)"
   ]
  },
  {
   "cell_type": "markdown",
   "id": "41bcef28",
   "metadata": {},
   "source": [
    "# Get Items\n",
    "The `items()` method will return each item in a dictionary, as tuples in a list.\n",
    "\n",
    "## Example\n",
    "Get a list of the key:value pairs\n",
    "\n"
   ]
  },
  {
   "cell_type": "code",
   "execution_count": 10,
   "id": "8548f80d",
   "metadata": {},
   "outputs": [
    {
     "name": "stdout",
     "output_type": "stream",
     "text": [
      "dict_items([('brand', 'Ford'), ('model', 'Mustang'), ('year', 1964)])\n"
     ]
    }
   ],
   "source": [
    "x = car_model.items()\n",
    "print(x)"
   ]
  },
  {
   "cell_type": "markdown",
   "id": "a762260e",
   "metadata": {},
   "source": [
    "# Change Values\n",
    "You can change the value of a specific item by referring to its key name:\n",
    "\n",
    "## Example\n",
    "Change the \"year\" to 2018:\n",
    "\n"
   ]
  },
  {
   "cell_type": "code",
   "execution_count": 31,
   "id": "f19ef95a",
   "metadata": {},
   "outputs": [],
   "source": [
    "car_model = {\n",
    "  \"brand\": \"Ford\",\n",
    "  \"model\": \"Mustang\",\n",
    "  \"year\": 1964\n",
    "}\n",
    "car_model[\"year\"] = 2023"
   ]
  },
  {
   "cell_type": "code",
   "execution_count": 32,
   "id": "ea459230",
   "metadata": {},
   "outputs": [
    {
     "name": "stdout",
     "output_type": "stream",
     "text": [
      "{'brand': 'Ford', 'model': 'Mustang', 'year': 2023}\n",
      "2023\n"
     ]
    }
   ],
   "source": [
    "print(car_model)\n",
    "print(car_model['year'])"
   ]
  },
  {
   "cell_type": "code",
   "execution_count": 34,
   "id": "54d54bdb",
   "metadata": {},
   "outputs": [
    {
     "name": "stdout",
     "output_type": "stream",
     "text": [
      "{'name': 'farid', 'last_name': 'kaki', 'age': 23}\n",
      "{'name': 'farid', 'last_name': 'kaki', 'age': 29}\n"
     ]
    }
   ],
   "source": [
    "person = {\n",
    "    'name':'farid',\n",
    "    'last_name':'kaki',\n",
    "    'age':23\n",
    "}\n",
    "print(person)\n",
    "person['age'] = 29\n",
    "print(person)"
   ]
  },
  {
   "cell_type": "markdown",
   "id": "00ae840a",
   "metadata": {},
   "source": [
    "# Update Dictionary\n",
    "The `update()` method will update the dictionary with the items from the given argument.\n",
    "\n",
    "The argument must be a dictionary, or an iterable object with key:value pairs.\n",
    "\n",
    "## Example\n",
    "Update the \"year\" of the car by using the `update()` method:\n",
    "\n"
   ]
  },
  {
   "cell_type": "code",
   "execution_count": 37,
   "id": "ccecfc93",
   "metadata": {},
   "outputs": [
    {
     "name": "stdout",
     "output_type": "stream",
     "text": [
      "{'name': 'ahmad', 'age': 23}\n",
      "{'name': 'farid', 'age': 23}\n"
     ]
    }
   ],
   "source": [
    "car_model = {\n",
    "  \"brand\": \"Ford\",\n",
    "  \"model\": \"Mustang\",\n",
    "  \"year\": 1964\n",
    "}\n",
    "car_model.update({\"year\": 2023})\n",
    "\n",
    "person = {\n",
    "    'name':'ahmad',\n",
    "    'age':23\n",
    "}\n",
    "print(person)\n",
    "person.update({'name':'farid'})\n",
    "print(person)"
   ]
  },
  {
   "cell_type": "code",
   "execution_count": 36,
   "id": "f56a134f",
   "metadata": {},
   "outputs": [
    {
     "name": "stdout",
     "output_type": "stream",
     "text": [
      "2023\n"
     ]
    }
   ],
   "source": [
    "print(car_model['year'])"
   ]
  },
  {
   "cell_type": "markdown",
   "id": "86fac16d",
   "metadata": {},
   "source": [
    "# Adding Items\n",
    "Adding an item to the dictionary is done by using a new index key and assigning a value to it:\n",
    "\n",
    "## Example\n",
    "\n"
   ]
  },
  {
   "cell_type": "code",
   "execution_count": 39,
   "id": "506006fe",
   "metadata": {},
   "outputs": [
    {
     "name": "stdout",
     "output_type": "stream",
     "text": [
      "{'name': 'farid', 'age': 29}\n",
      "{'name': 'farid', 'age': 29, 'phone_nmber': '0988747464'}\n"
     ]
    }
   ],
   "source": [
    "car_model = {\n",
    "  \"brand\": \"Ford\",\n",
    "  \"model\": \"Mustang\",\n",
    "  \"year\": 1964\n",
    "}\n",
    "person = {\n",
    "    'name':'farid',\n",
    "    'age':29\n",
    "}\n",
    "print(person)\n",
    "person['phone_nmber'] = '0988747464'\n",
    "print(person)"
   ]
  },
  {
   "cell_type": "code",
   "execution_count": 16,
   "id": "ecaa95a3",
   "metadata": {},
   "outputs": [],
   "source": [
    "car_model['color'] = 'Dark blue'"
   ]
  },
  {
   "cell_type": "code",
   "execution_count": 17,
   "id": "cdb613ff",
   "metadata": {},
   "outputs": [
    {
     "name": "stdout",
     "output_type": "stream",
     "text": [
      "{'brand': 'Ford', 'model': 'Mustang', 'year': 1964, 'color': 'Dark blue'}\n"
     ]
    }
   ],
   "source": [
    "print(car_model)"
   ]
  },
  {
   "cell_type": "code",
   "execution_count": 18,
   "id": "ade284da",
   "metadata": {},
   "outputs": [
    {
     "name": "stdout",
     "output_type": "stream",
     "text": [
      "Dark blue\n"
     ]
    }
   ],
   "source": [
    "print(car_model['color'])"
   ]
  },
  {
   "cell_type": "markdown",
   "id": "1e49f1f6",
   "metadata": {},
   "source": [
    "# Update Dictionary\n",
    "The `update()` method will update the dictionary with the items from a given argument. If the item does not exist, the item will be added.\n",
    "\n",
    "The argument must be a dictionary, or an iterable object with `key:value pairs`.\n",
    "\n",
    "## Example\n",
    "Add a color item to the dictionary by using the `update()` method:\n",
    "\n"
   ]
  },
  {
   "cell_type": "code",
   "execution_count": 19,
   "id": "e7aa70bb",
   "metadata": {},
   "outputs": [],
   "source": [
    "car_model = {\n",
    "  \"brand\": \"Ford\",\n",
    "  \"model\": \"Mustang\",\n",
    "  \"year\": 1964\n",
    "}\n",
    "car_model.update({\"color\": \"red\"})"
   ]
  },
  {
   "cell_type": "code",
   "execution_count": 20,
   "id": "cb389bb9",
   "metadata": {},
   "outputs": [
    {
     "name": "stdout",
     "output_type": "stream",
     "text": [
      "{'brand': 'Ford', 'model': 'Mustang', 'year': 1964, 'color': 'red'}\n",
      "red\n"
     ]
    }
   ],
   "source": [
    "print(car_model)\n",
    "print(car_model['color'])\n"
   ]
  },
  {
   "cell_type": "markdown",
   "id": "7f6ce612",
   "metadata": {},
   "source": [
    "# Removing Items\n",
    "There are several methods to remove items from a dictionary:\n",
    "\n",
    "## Example\n",
    "The `pop()` method removes the item with the specified key name:\n",
    "\n"
   ]
  },
  {
   "cell_type": "code",
   "execution_count": 21,
   "id": "d9f447ad",
   "metadata": {},
   "outputs": [
    {
     "name": "stdout",
     "output_type": "stream",
     "text": [
      "3\n",
      "{'brand': 'Ford', 'year': 1964}\n",
      "2\n",
      "Mustang\n",
      "dict_keys(['brand', 'year'])\n"
     ]
    }
   ],
   "source": [
    "my_car = {\n",
    "  \"brand\": \"Ford\",\n",
    "  \"model\": \"Mustang\",\n",
    "  \"year\": 1964\n",
    "}\n",
    "print(len(my_car))\n",
    "x = my_car.pop(\"model\")\n",
    "print(my_car)\n",
    "print(len(my_car))\n",
    "print(x)\n",
    "print(my_car.keys())"
   ]
  },
  {
   "cell_type": "markdown",
   "id": "35e1f0c0",
   "metadata": {},
   "source": [
    "# Example\n",
    "The `popitem()` method removes the last inserted item (in versions before 3.7, a random item is removed instead):\n",
    "\n"
   ]
  },
  {
   "cell_type": "code",
   "execution_count": 22,
   "id": "9fc32472",
   "metadata": {},
   "outputs": [
    {
     "name": "stdout",
     "output_type": "stream",
     "text": [
      "{'brand': 'Ford', 'model': 'Mustang'}\n",
      "('year', 1964)\n"
     ]
    }
   ],
   "source": [
    "my_car = {\n",
    "  \"brand\": \"Ford\",\n",
    "  \"model\": \"Mustang\",\n",
    "  \"year\": 1964\n",
    "}\n",
    "x = my_car.popitem()\n",
    "print(my_car)\n",
    "print(x)"
   ]
  },
  {
   "cell_type": "markdown",
   "id": "de990241",
   "metadata": {},
   "source": [
    "## Example\n",
    "The `del` keyword removes the item with the specified key name:"
   ]
  },
  {
   "cell_type": "code",
   "execution_count": 1,
   "id": "85eb6659",
   "metadata": {},
   "outputs": [
    {
     "name": "stdout",
     "output_type": "stream",
     "text": [
      "{'name': 'farid', 'age': 34}\n"
     ]
    }
   ],
   "source": [
    "person = {\n",
    "    'name':'farid',\n",
    "    'age':34\n",
    "}\n",
    "\n",
    "print(person)"
   ]
  },
  {
   "cell_type": "markdown",
   "id": "1ac34bae",
   "metadata": {},
   "source": [
    "> # The `del` keyword can also delete the dictionary completely"
   ]
  },
  {
   "cell_type": "code",
   "execution_count": 2,
   "id": "ade26e7e",
   "metadata": {},
   "outputs": [],
   "source": [
    "del person"
   ]
  },
  {
   "cell_type": "code",
   "execution_count": 3,
   "id": "224643fc",
   "metadata": {},
   "outputs": [
    {
     "ename": "NameError",
     "evalue": "name 'person' is not defined",
     "output_type": "error",
     "traceback": [
      "\u001b[1;31m---------------------------------------------------------------------------\u001b[0m",
      "\u001b[1;31mNameError\u001b[0m                                 Traceback (most recent call last)",
      "\u001b[1;32m~\\AppData\\Local\\Temp\\ipykernel_5344\\4147899475.py\u001b[0m in \u001b[0;36m<module>\u001b[1;34m\u001b[0m\n\u001b[1;32m----> 1\u001b[1;33m \u001b[0mprint\u001b[0m\u001b[1;33m(\u001b[0m\u001b[0mperson\u001b[0m\u001b[1;33m)\u001b[0m\u001b[1;33m\u001b[0m\u001b[1;33m\u001b[0m\u001b[0m\n\u001b[0m",
      "\u001b[1;31mNameError\u001b[0m: name 'person' is not defined"
     ]
    }
   ],
   "source": [
    "print(person)"
   ]
  },
  {
   "cell_type": "markdown",
   "id": "45daaa04",
   "metadata": {},
   "source": [
    "# Example\n",
    "The `clear()` method empties the dictionary:"
   ]
  },
  {
   "cell_type": "code",
   "execution_count": 26,
   "id": "95819e9a",
   "metadata": {},
   "outputs": [
    {
     "name": "stdout",
     "output_type": "stream",
     "text": [
      "{'name': 'farid', 'age': 23}\n",
      "{}\n"
     ]
    }
   ],
   "source": [
    "person = {\n",
    "    'name':'farid',\n",
    "    'age':23\n",
    "}\n",
    "\n",
    "print(person)\n",
    "person.clear()\n",
    "print(person)"
   ]
  },
  {
   "cell_type": "markdown",
   "id": "6b26f954",
   "metadata": {},
   "source": [
    "# Nested Dictionaries\n",
    "A dictionary can contain dictionaries, this is called nested dictionaries.\n",
    "\n",
    "## Example\n",
    "Create a dictionary that contain three dictionaries:\n",
    "\n"
   ]
  },
  {
   "cell_type": "code",
   "execution_count": 27,
   "id": "5d7458a3",
   "metadata": {},
   "outputs": [],
   "source": [
    "myfamily = {\n",
    "  \"child1\" : {\n",
    "    \"name\" : \"Emil\",\n",
    "    \"year\" : 2004\n",
    "  },\n",
    "  \"child2\" : {\n",
    "    \"name\" : \"Tobias\",\n",
    "    \"year\" : 2007\n",
    "  },\n",
    "  \"child3\" : {\n",
    "    \"name\" : \"Linus\",\n",
    "    \"year\" : 2011\n",
    "  }\n",
    "}"
   ]
  },
  {
   "cell_type": "code",
   "execution_count": 6,
   "id": "0c6cfe8c",
   "metadata": {},
   "outputs": [
    {
     "name": "stdout",
     "output_type": "stream",
     "text": [
      "{'first': {'name': 'amir'}, 'second': {'name': 'reza'}, 'Third': {'ahmad'}}\n",
      "amir\n"
     ]
    }
   ],
   "source": [
    "person = {\n",
    "    'first':{\n",
    "        'name':'amir'\n",
    "    },\n",
    "    'second':{\n",
    "        'name':'reza'\n",
    "    },\n",
    "    'Third':{\n",
    "        'ahmad'\n",
    "    }\n",
    "}\n",
    "\n",
    "print(person)\n",
    "print(person['first']['name'])"
   ]
  },
  {
   "cell_type": "code",
   "execution_count": 28,
   "id": "b8fd2b94",
   "metadata": {},
   "outputs": [
    {
     "name": "stdout",
     "output_type": "stream",
     "text": [
      "{'child1': {'name': 'Emil', 'year': 2004}, 'child2': {'name': 'Tobias', 'year': 2007}, 'child3': {'name': 'Linus', 'year': 2011}}\n",
      "-----------------------------------------------------------------------------------------------------\n",
      "dict_keys(['child1', 'child2', 'child3'])\n",
      "-----------------------------------------------------------------------------------------------------\n",
      "dict_values([{'name': 'Emil', 'year': 2004}, {'name': 'Tobias', 'year': 2007}, {'name': 'Linus', 'year': 2011}])\n",
      "-----------------------------------------------------------------------------------------------------\n",
      "{'name': 'Emil', 'year': 2004}\n",
      "-----------------------------------------------------------------------------------------------------\n",
      "Emil\n"
     ]
    }
   ],
   "source": [
    "print(myfamily)\n",
    "print('-----------------------------------------------------------------------------------------------------')\n",
    "print(myfamily.keys())\n",
    "print('-----------------------------------------------------------------------------------------------------')\n",
    "print(myfamily.values())\n",
    "print('-----------------------------------------------------------------------------------------------------')\n",
    "print(myfamily['child1'])\n",
    "print('-----------------------------------------------------------------------------------------------------')\n",
    "print(myfamily['child1']['name'])"
   ]
  },
  {
   "cell_type": "code",
   "execution_count": 29,
   "id": "4b1016bd",
   "metadata": {},
   "outputs": [
    {
     "name": "stdout",
     "output_type": "stream",
     "text": [
      "{'child1': {'name': 'Emil', 'year': 2004}, 'child2': {'name': 'Tobias', 'year': 2007}, 'child3': {'name': 'Linus', 'year': 2011}}\n"
     ]
    }
   ],
   "source": [
    "child1 = {\n",
    "  \"name\" : \"Emil\",\n",
    "  \"year\" : 2004\n",
    "}\n",
    "child2 = {\n",
    "  \"name\" : \"Tobias\",\n",
    "  \"year\" : 2007\n",
    "}\n",
    "child3 = {\n",
    "  \"name\" : \"Linus\",\n",
    "  \"year\" : 2011\n",
    "}\n",
    "\n",
    "myfamily = {\n",
    "  \"child1\" : child1,\n",
    "  \"child2\" : child2,\n",
    "  \"child3\" : child3\n",
    "}\n",
    "print(myfamily)"
   ]
  },
  {
   "cell_type": "code",
   "execution_count": null,
   "id": "1004f35a",
   "metadata": {},
   "outputs": [],
   "source": []
  },
  {
   "cell_type": "code",
   "execution_count": null,
   "id": "f9b8f3cb",
   "metadata": {},
   "outputs": [],
   "source": []
  },
  {
   "cell_type": "code",
   "execution_count": null,
   "id": "b5ba336e",
   "metadata": {},
   "outputs": [],
   "source": []
  },
  {
   "cell_type": "code",
   "execution_count": null,
   "id": "e055c682",
   "metadata": {},
   "outputs": [],
   "source": []
  }
 ],
 "metadata": {
  "kernelspec": {
   "display_name": "Python 3 (ipykernel)",
   "language": "python",
   "name": "python3"
  },
  "language_info": {
   "codemirror_mode": {
    "name": "ipython",
    "version": 3
   },
   "file_extension": ".py",
   "mimetype": "text/x-python",
   "name": "python",
   "nbconvert_exporter": "python",
   "pygments_lexer": "ipython3",
   "version": "3.9.13"
  }
 },
 "nbformat": 4,
 "nbformat_minor": 5
}
