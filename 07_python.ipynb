{
 "cells": [
  {
   "cell_type": "markdown",
   "id": "27a58791",
   "metadata": {},
   "source": [
    "# Python Loops\n",
    "Python has two primitive loop commands:\n",
    "\n",
    "1. while loops\n",
    "2. for loops"
   ]
  },
  {
   "cell_type": "markdown",
   "id": "afc243ac",
   "metadata": {},
   "source": [
    "# Python For Loops\n",
    "A `for` loop is used for iterating over a sequence (that is either a list, a tuple, a dictionary, a set, or a string).\n",
    "\n",
    "This is less like the for keyword in other programming languages, and works more like an iterator method as found in other object-orientated programming languages.\n",
    "\n",
    "With the for loop we can execute a set of statements, once for each item in a list, tuple, set etc.\n",
    "\n",
    "## Example"
   ]
  },
  {
   "cell_type": "code",
   "execution_count": 1,
   "id": "f19367c3",
   "metadata": {},
   "outputs": [
    {
     "name": "stdout",
     "output_type": "stream",
     "text": [
      "farid\n",
      "ahmad\n",
      "reza\n",
      "ali\n"
     ]
    }
   ],
   "source": [
    "namse = ['farid', 'ahmad', 'reza', 'ali']\n",
    "\n",
    "for name in namse:\n",
    "    print(name)"
   ]
  },
  {
   "cell_type": "code",
   "execution_count": 2,
   "id": "a20d867f",
   "metadata": {},
   "outputs": [
    {
     "name": "stdout",
     "output_type": "stream",
     "text": [
      "0\n",
      "1\n",
      "2\n",
      "3\n",
      "4\n",
      "5\n",
      "6\n",
      "7\n",
      "8\n",
      "9\n"
     ]
    }
   ],
   "source": [
    "for i in range(10):\n",
    "    print(i)"
   ]
  },
  {
   "cell_type": "code",
   "execution_count": 3,
   "id": "f44fbcb0",
   "metadata": {},
   "outputs": [
    {
     "name": "stdout",
     "output_type": "stream",
     "text": [
      "Pleas enter your name\n",
      "farid\n",
      "Enter your name\n",
      "farid\n",
      "{'Name': 'farid', 'Email': 'farid'}\n",
      "farid\n"
     ]
    }
   ],
   "source": [
    "name = input('Pleas enter your name\\n')\n",
    "email = input('Enter your name\\n')\n",
    "\n",
    "user_info={\n",
    "    'Name': name,\n",
    "    'Email':email\n",
    "}\n",
    "\n",
    "print(user_info)\n",
    "print(user_info['Email'])"
   ]
  },
  {
   "cell_type": "code",
   "execution_count": 4,
   "id": "1d1a96d9",
   "metadata": {},
   "outputs": [
    {
     "name": "stdout",
     "output_type": "stream",
     "text": [
      "Pleas enter your anme!\n",
      "farid\n",
      "f\n",
      "a\n",
      "r\n",
      "i\n",
      "d\n"
     ]
    }
   ],
   "source": [
    "name = input('Pleas enter your anme!\\n')\n",
    "\n",
    "for letter in name:\n",
    "    print(letter)"
   ]
  },
  {
   "cell_type": "markdown",
   "id": "53f376fe",
   "metadata": {},
   "source": [
    "# The break Statement\n",
    "With the `break` statement we can stop the loop before it has looped through all the items:\n",
    "\n",
    "## Example\n",
    "Exit the loop when x is 10:"
   ]
  },
  {
   "cell_type": "code",
   "execution_count": 5,
   "id": "bda0e776",
   "metadata": {},
   "outputs": [
    {
     "name": "stdout",
     "output_type": "stream",
     "text": [
      "0\n",
      "1\n",
      "2\n",
      "3\n",
      "4\n",
      "5\n",
      "6\n",
      "7\n",
      "8\n",
      "9\n",
      "Done\n"
     ]
    }
   ],
   "source": [
    "num = list(range(100))\n",
    "for number in num:\n",
    "    if number == 10:\n",
    "        print('Done')\n",
    "        break\n",
    "    else:\n",
    "        print(number)\n"
   ]
  },
  {
   "cell_type": "markdown",
   "id": "ceada1e1",
   "metadata": {},
   "source": [
    "# The continue Statement\n",
    "With the `continue` statement we can stop the current iteration of the loop, and continue with the next:\n",
    "\n",
    "## Example"
   ]
  },
  {
   "cell_type": "code",
   "execution_count": 6,
   "id": "fe10c4de",
   "metadata": {},
   "outputs": [
    {
     "name": "stdout",
     "output_type": "stream",
     "text": [
      "1\n",
      "2\n",
      "3\n",
      "4\n",
      "5\n",
      "6,Fond it\n",
      "7\n",
      "8\n",
      "9\n",
      "10\n",
      "11\n",
      "12,Fond it\n",
      "13\n",
      "14\n",
      "15\n",
      "16\n",
      "17\n",
      "18,Fond it\n",
      "19\n",
      "20\n",
      "21\n",
      "22\n",
      "23\n",
      "24,Fond it\n",
      "25\n",
      "26\n",
      "27\n",
      "28\n",
      "29\n",
      "30,Fond it\n",
      "31\n",
      "32\n",
      "33\n",
      "34\n",
      "35\n",
      "36,Fond it\n",
      "37\n",
      "38\n",
      "39\n",
      "40\n",
      "41\n",
      "42,Fond it\n",
      "43\n",
      "44\n",
      "45\n",
      "46\n",
      "47\n",
      "48,Fond it\n",
      "49\n",
      "50\n",
      "51\n",
      "52\n",
      "53\n",
      "54,Fond it\n",
      "55\n",
      "56\n",
      "57\n",
      "58\n",
      "59\n",
      "60,Fond it\n",
      "61\n",
      "62\n",
      "63\n",
      "64\n",
      "65\n",
      "66,Fond it\n",
      "67\n",
      "68\n",
      "69\n",
      "70\n",
      "71\n",
      "72,Fond it\n",
      "73\n",
      "74\n",
      "75\n",
      "76\n",
      "77\n",
      "78,Fond it\n",
      "79\n",
      "80\n",
      "81\n",
      "82\n",
      "83\n",
      "84,Fond it\n",
      "85\n",
      "86\n",
      "87\n",
      "88\n",
      "89\n",
      "90,Fond it\n",
      "91\n",
      "92\n",
      "93\n",
      "94\n",
      "95\n",
      "96,Fond it\n",
      "97\n",
      "98\n",
      "99\n"
     ]
    }
   ],
   "source": [
    "num = list(range(1, 100))\n",
    "for number in num:\n",
    "    if number % 6==0:\n",
    "        print(f'{number},Fond it')\n",
    "        continue\n",
    "    else:\n",
    "        print(number)"
   ]
  },
  {
   "cell_type": "markdown",
   "id": "e2987eab",
   "metadata": {},
   "source": [
    "# The while Loop\n",
    "With the `while` loop we can execute a set of statements as long as a condition is true.\n",
    "\n",
    "## Example"
   ]
  },
  {
   "cell_type": "code",
   "execution_count": 7,
   "id": "22464605",
   "metadata": {},
   "outputs": [
    {
     "name": "stdout",
     "output_type": "stream",
     "text": [
      "Hello, world\n",
      "Hello, world\n",
      "Hello, world\n",
      "Hello, world\n",
      "Loop finished\n"
     ]
    }
   ],
   "source": [
    "i = 1\n",
    "\n",
    "while i < 5:\n",
    "    print('Hello, world')\n",
    "    i += 1\n",
    "print(\"Loop finished\")"
   ]
  },
  {
   "cell_type": "markdown",
   "id": "266597fb",
   "metadata": {},
   "source": [
    "# The break Statement\n",
    "With the `break` statement we can stop the loop even if the while condition is true:"
   ]
  },
  {
   "cell_type": "code",
   "execution_count": 8,
   "id": "8460000c",
   "metadata": {},
   "outputs": [
    {
     "name": "stdout",
     "output_type": "stream",
     "text": [
      "1\n",
      "2\n",
      "3\n",
      "4\n",
      "5\n"
     ]
    }
   ],
   "source": [
    "i = 1\n",
    "\n",
    "while i < 10:\n",
    "    print(i)\n",
    "    if i == 5:\n",
    "        break\n",
    "    i+=1"
   ]
  },
  {
   "cell_type": "code",
   "execution_count": 5,
   "id": "0927fd9c",
   "metadata": {},
   "outputs": [
    {
     "name": "stdout",
     "output_type": "stream",
     "text": [
      "23434\n",
      "122\n"
     ]
    }
   ],
   "source": [
    "name = {\n",
    "    'farid':23434,\n",
    "    'babak':122\n",
    "}\n",
    "\n",
    "for item in name:\n",
    "    print(name[item])"
   ]
  },
  {
   "cell_type": "markdown",
   "id": "581728ba",
   "metadata": {},
   "source": [
    "# The continue Statement\n",
    "With the `continue` statement we can stop the current iteration, and continue with the next:\n",
    "\n",
    "## Example"
   ]
  },
  {
   "cell_type": "code",
   "execution_count": 9,
   "id": "d3263b38",
   "metadata": {},
   "outputs": [
    {
     "name": "stdout",
     "output_type": "stream",
     "text": [
      "2\n",
      "3\n",
      "4\n",
      "5\n",
      "6\n",
      "7,Found It\n",
      "8\n",
      "9\n",
      "10\n",
      "11\n",
      "12\n",
      "13\n",
      "14,Found It\n",
      "15\n",
      "16\n",
      "17\n",
      "18\n",
      "19\n",
      "20\n"
     ]
    }
   ],
   "source": [
    "i = 1\n",
    "\n",
    "while i < 20:\n",
    "    i+=1\n",
    "    if i % 7 ==0:\n",
    "        print(f'{i},Found It')\n",
    "        continue\n",
    "    else:\n",
    "        print(i)\n",
    "        "
   ]
  },
  {
   "cell_type": "code",
   "execution_count": 10,
   "id": "7aa817ed",
   "metadata": {},
   "outputs": [
    {
     "name": "stdout",
     "output_type": "stream",
     "text": [
      "2\n",
      "3 FIZZ\n",
      "4\n",
      "5 BUZZ\n",
      "6 FIZZ\n",
      "7\n",
      "8\n",
      "9 FIZZ\n",
      "10 BUZZ\n",
      "11\n",
      "12 FIZZ\n",
      "13\n",
      "14\n",
      "15 FIZZBUZZ\n",
      "16\n",
      "17\n",
      "18 FIZZ\n",
      "19\n",
      "20 BUZZ\n",
      "21 FIZZ\n",
      "22\n",
      "23\n",
      "24 FIZZ\n",
      "25 BUZZ\n",
      "26\n",
      "27 FIZZ\n",
      "28\n",
      "29\n",
      "30 FIZZBUZZ\n",
      "31\n",
      "32\n",
      "33 FIZZ\n",
      "34\n",
      "35 BUZZ\n",
      "36 FIZZ\n",
      "37\n",
      "38\n",
      "39 FIZZ\n",
      "40 BUZZ\n",
      "41\n",
      "42 FIZZ\n",
      "43\n",
      "44\n",
      "45 FIZZBUZZ\n",
      "46\n",
      "47\n",
      "48 FIZZ\n",
      "49\n",
      "50 BUZZ\n",
      "51 FIZZ\n",
      "52\n",
      "53\n",
      "54 FIZZ\n",
      "55 BUZZ\n",
      "56\n",
      "57 FIZZ\n",
      "58\n",
      "59\n",
      "60 FIZZBUZZ\n",
      "61\n",
      "62\n",
      "63 FIZZ\n",
      "64\n",
      "65 BUZZ\n",
      "66 FIZZ\n",
      "67\n",
      "68\n",
      "69 FIZZ\n",
      "70 BUZZ\n",
      "71\n",
      "72 FIZZ\n",
      "73\n",
      "74\n",
      "75 FIZZBUZZ\n",
      "76\n",
      "77\n",
      "78 FIZZ\n",
      "79\n",
      "80 BUZZ\n",
      "81 FIZZ\n",
      "82\n",
      "83\n",
      "84 FIZZ\n",
      "85 BUZZ\n",
      "86\n",
      "87 FIZZ\n",
      "88\n",
      "89\n",
      "90 FIZZBUZZ\n",
      "91\n",
      "92\n",
      "93 FIZZ\n",
      "94\n",
      "95 BUZZ\n",
      "96 FIZZ\n",
      "97\n",
      "98\n",
      "99 FIZZ\n",
      "100 BUZZ\n"
     ]
    }
   ],
   "source": [
    "i = 1\n",
    "\n",
    "while i < 100:\n",
    "    i+=1\n",
    "    if i % 15 == 0:\n",
    "        print(i,'FIZZBUZZ')\n",
    "        continue\n",
    "    elif i % 5 == 0:\n",
    "        print(i,'BUZZ')\n",
    "        continue\n",
    "    elif i % 3 == 0:\n",
    "        print(i,'FIZZ')\n",
    "        continue\n",
    "    else:\n",
    "        print(i)"
   ]
  },
  {
   "cell_type": "code",
   "execution_count": 11,
   "id": "a5701c55",
   "metadata": {},
   "outputs": [
    {
     "name": "stdout",
     "output_type": "stream",
     "text": [
      "1\n",
      "2\n",
      "3, Fizz\n",
      "4\n",
      "5, Buzz\n",
      "6, Fizz\n",
      "7\n",
      "8\n",
      "9, Fizz\n",
      "10, Buzz\n",
      "11\n",
      "12, Fizz\n",
      "13\n",
      "14\n",
      "15, Fizzbuzz\n",
      "16\n",
      "17\n",
      "18, Fizz\n",
      "19\n",
      "20, Buzz\n",
      "21, Fizz\n",
      "22\n",
      "23\n",
      "24, Fizz\n",
      "25, Buzz\n",
      "26\n",
      "27, Fizz\n",
      "28\n",
      "29\n",
      "30, Fizzbuzz\n",
      "31\n",
      "32\n",
      "33, Fizz\n",
      "34\n",
      "35, Buzz\n",
      "36, Fizz\n",
      "37\n",
      "38\n",
      "39, Fizz\n",
      "40, Buzz\n",
      "41\n",
      "42, Fizz\n",
      "43\n",
      "44\n",
      "45, Fizzbuzz\n",
      "46\n",
      "47\n",
      "48, Fizz\n",
      "49\n",
      "50, Buzz\n",
      "51, Fizz\n",
      "52\n",
      "53\n",
      "54, Fizz\n",
      "55, Buzz\n",
      "56\n",
      "57, Fizz\n",
      "58\n",
      "59\n",
      "60, Fizzbuzz\n",
      "61\n",
      "62\n",
      "63, Fizz\n",
      "64\n",
      "65, Buzz\n",
      "66, Fizz\n",
      "67\n",
      "68\n",
      "69, Fizz\n",
      "70, Buzz\n",
      "71\n",
      "72, Fizz\n",
      "73\n",
      "74\n",
      "75, Fizzbuzz\n",
      "76\n",
      "77\n",
      "78, Fizz\n",
      "79\n",
      "80, Buzz\n",
      "81, Fizz\n",
      "82\n",
      "83\n",
      "84, Fizz\n",
      "85, Buzz\n",
      "86\n",
      "87, Fizz\n",
      "88\n",
      "89\n",
      "90, Fizzbuzz\n",
      "91\n",
      "92\n",
      "93, Fizz\n",
      "94\n",
      "95, Buzz\n",
      "96, Fizz\n",
      "97\n",
      "98\n",
      "99, Fizz\n"
     ]
    }
   ],
   "source": [
    "for i in range(1, 100):\n",
    "    if i % 15 ==0:\n",
    "        print(f'{i}, Fizzbuzz')\n",
    "    elif i % 3==0:\n",
    "              print(f'{i}, Fizz')\n",
    "    elif i % 5 ==0:\n",
    "              print(f'{i}, Buzz')\n",
    "    else:\n",
    "              print(i)\n",
    "        "
   ]
  },
  {
   "cell_type": "markdown",
   "id": "70adb550",
   "metadata": {},
   "source": [
    "# The else Statement\n",
    "With the `else` statement we can run a block of code once when the condition no longer is true:\n",
    "\n",
    "## Example\n",
    "Print a message once the condition is false:"
   ]
  },
  {
   "cell_type": "code",
   "execution_count": 12,
   "id": "f8f76fa5",
   "metadata": {},
   "outputs": [
    {
     "name": "stdout",
     "output_type": "stream",
     "text": [
      "1\n",
      "2\n",
      "3\n",
      "4\n",
      "5\n",
      "i is no longer less than 6\n"
     ]
    }
   ],
   "source": [
    "i = 1\n",
    "while i < 6:\n",
    "  print(i)\n",
    "  i += 1\n",
    "else:\n",
    "  print(\"i is no longer less than 6\")"
   ]
  },
  {
   "cell_type": "code",
   "execution_count": 13,
   "id": "8a5b2cbd",
   "metadata": {},
   "outputs": [
    {
     "name": "stdout",
     "output_type": "stream",
     "text": [
      "Enter x: 12\n",
      "Enter y: 12\n",
      "This is your result 144\n",
      "Do you want to continue the game type(y/n)\n",
      "n\n",
      "Have a nice day\n"
     ]
    }
   ],
   "source": [
    "while True:\n",
    "    x = input('Enter x: ')\n",
    "    y = input('Enter y: ')\n",
    "    result = int(x) * int(y)\n",
    "    print('This is your result', result)\n",
    "    continue_game = input('Do you want to continue the game type(y/n)\\n').lower()\n",
    "    if continue_game != 'y':\n",
    "        print('Have a nice day')\n",
    "        break\n",
    "    else:\n",
    "        print('OK, Go on')"
   ]
  },
  {
   "cell_type": "markdown",
   "id": "c3f72d43",
   "metadata": {},
   "source": [
    "# project"
   ]
  },
  {
   "cell_type": "code",
   "execution_count": 14,
   "id": "368f4764",
   "metadata": {},
   "outputs": [
    {
     "name": "stdout",
     "output_type": "stream",
     "text": [
      "{'farid': 'Exceeds Expectations', 'mobina': 'Outstanding', 'babak': 'Acceptable', 'ali': 'Fail', 'ahmad': 'Fail'}\n"
     ]
    }
   ],
   "source": [
    "student_scores = {\n",
    "    'farid': 82,\n",
    "    'mobina': 99,\n",
    "    'babak': 74,\n",
    "    'ali': 56,\n",
    "    'ahmad': 64,\n",
    "}\n",
    "\n",
    "\n",
    "student_gread = {}\n",
    "\n",
    "for student in student_scores:\n",
    "    scores = student_scores[student]\n",
    "    if scores >= 90:\n",
    "        student_gread[student] = 'Outstanding'\n",
    "    elif scores >= 80:\n",
    "        student_gread[student] = 'Exceeds Expectations'\n",
    "    elif scores >= 70:\n",
    "        student_gread[student] = 'Acceptable'\n",
    "    else:\n",
    "        student_gread[student] = 'Fail'\n",
    "print(student_gread)"
   ]
  },
  {
   "cell_type": "markdown",
   "id": "a6630b76",
   "metadata": {},
   "source": [
    "# Project "
   ]
  },
  {
   "cell_type": "code",
   "execution_count": 15,
   "id": "b90bade3",
   "metadata": {},
   "outputs": [
    {
     "name": "stdout",
     "output_type": "stream",
     "text": [
      "welcom to python pizza deliviry!!!\n",
      "what size pizza do you want!?? S ,M or L\n",
      "s\n",
      "it's $15\n",
      "Do you want adding some pepperoni?? Y or N \n",
      "y\n",
      "Do you want some extra cheess?? Y or N??\n",
      "n\n",
      "your total cost for this order is 18\n"
     ]
    }
   ],
   "source": [
    "print('welcom to python pizza deliviry!!!')\n",
    "pizza_order = input('what size pizza do you want!?? S ,M or L\\n')\n",
    "\n",
    "\n",
    "if pizza_order == 'S' or pizza_order == 's':\n",
    "    price = 15\n",
    "    print(f'it\\'s ${price}')\n",
    "elif pizza_order == 'M' or pizza_order == 'm':\n",
    "    price = 20\n",
    "    print(f'it\\'s ${price}')\n",
    "elif pizza_order == 'L' or pizza_order == 'l':\n",
    "    price = 25\n",
    "    print(f'it\\'s ${price}')\n",
    "else:\n",
    "    print('pleas chose one of the pizzas')\n",
    "\n",
    "add_pepperni = input('Do you want adding some pepperoni?? Y or N \\n')\n",
    "if add_pepperni == 'Y' or add_pepperni == 'y':\n",
    "    if pizza_order == 'S' or pizza_order == 's':\n",
    "        price += 2\n",
    "    else:\n",
    "        price += 3\n",
    "\n",
    "extra_cheess = input('Do you want some extra cheess?? Y or N??\\n')\n",
    "\n",
    "if extra_cheess == 'N':\n",
    "    print(f'your total cost for this order is {price}')\n",
    "else:\n",
    "    price += 1\n",
    "    print(f'your total cost for this order is {price}')"
   ]
  },
  {
   "cell_type": "markdown",
   "id": "9dbd4bf6",
   "metadata": {},
   "source": [
    "# Project"
   ]
  },
  {
   "cell_type": "code",
   "execution_count": 11,
   "id": "1787fccd",
   "metadata": {},
   "outputs": [
    {
     "name": "stdout",
     "output_type": "stream",
     "text": [
      "------WLCOME TO TREASURE ISLAND.-------\n",
      "------YOUR MISSION IS TO FIND THE TREASURE--------\n",
      "\n",
      "you'r at the cross road. where do you want to go ?? \"left\" or \"right\"\n",
      "left\n",
      "you come to a lake. ther is an island in the middle of the lake. type \"wait\" to wait for a boat or type \"swim\" to swim across \n",
      "wait\n",
      "you arrive at the island unharmed. thers is a house with the 3 doors. \"Red\" , \"Yellow\" and \"Blue\". which colour do you choose???\n",
      "yellow\n",
      "You Win!!!\n"
     ]
    }
   ],
   "source": [
    "print('------WLCOME TO TREASURE ISLAND.-------\\n------YOUR MISSION IS TO FIND THE TREASURE--------\\n')\n",
    "road = input(\n",
    "    'you\\'r at the cross road. where do you want to go ?? \\\"left\\\" or \\\"right\\\"\\n')\n",
    "road1 = road.lower()\n",
    "if road1 == 'left':\n",
    "    lake = input('you come to a lake. ther is an island in the middle of the lake. type \\\"wait\\\" to wait for a boat or type \\\"swim\\\" to swim across \\n')\n",
    "    lake1 = lake.lower()\n",
    "    if lake1 == 'wait':\n",
    "        island = input(\n",
    "            'you arrive at the island unharmed. thers is a house with the 3 doors. \\\"Red\\\" , \\\"Yellow\\\" and \\\"Blue\\\". which colour do you choose???\\n')\n",
    "        island1 = island.lower()\n",
    "        if island1 == 'yellow':\n",
    "            print('You Win!!!')\n",
    "        else:\n",
    "            print('OOPS YOU LOSS')\n",
    "\n",
    "    else:\n",
    "        print('GAME OVER. YOU LOSS')\n",
    "else:\n",
    "    print('GAME OVER. YOU LOSS')"
   ]
  },
  {
   "cell_type": "code",
   "execution_count": 6,
   "id": "0c1120a3",
   "metadata": {},
   "outputs": [
    {
     "name": "stdout",
     "output_type": "stream",
     "text": [
      "Enter for X :12\n",
      "Enter for y :12\n",
      "This is your result 144\n",
      "Do you wnat to continue the game? type(y/n)\n",
      "n\n",
      "Have nice day\n"
     ]
    }
   ],
   "source": [
    "while True:\n",
    "    x = int(input('Enter for X :'))\n",
    "    y = int(input('Enter for y :'))\n",
    "    result = x * y\n",
    "    print(f'This is your result {result}')\n",
    "    cont_game = input('Do you wnat to continue the game? type(y/n)\\n')\n",
    "    if cont_game != 'y':\n",
    "        print('Have nice day')\n",
    "        break\n",
    "    else:\n",
    "        print('Ok, Well done')"
   ]
  },
  {
   "cell_type": "code",
   "execution_count": null,
   "id": "db4944d2",
   "metadata": {},
   "outputs": [],
   "source": []
  }
 ],
 "metadata": {
  "kernelspec": {
   "display_name": "Python 3 (ipykernel)",
   "language": "python",
   "name": "python3"
  },
  "language_info": {
   "codemirror_mode": {
    "name": "ipython",
    "version": 3
   },
   "file_extension": ".py",
   "mimetype": "text/x-python",
   "name": "python",
   "nbconvert_exporter": "python",
   "pygments_lexer": "ipython3",
   "version": "3.9.13"
  }
 },
 "nbformat": 4,
 "nbformat_minor": 5
}
