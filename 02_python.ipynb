{
 "cells": [
  {
   "cell_type": "markdown",
   "id": "df5ea7dd",
   "metadata": {},
   "source": [
    "## String Methods\n",
    "Python has a set of built-in methods that you can use on strings."
   ]
  },
  {
   "cell_type": "markdown",
   "id": "27a9aefd",
   "metadata": {},
   "source": [
    "* `capitalize()`\tConverts the first character to upper case\n",
    "* `casefold()`\tConverts string into lower case\n",
    "* `center()`\tReturns a centered string\n",
    "* `count()`\tReturns the number of times a specified value occurs in a string\n",
    "* `find()`\tSearches the string for a specified value and returns the position of where it was found\n",
    "* `format()`\tFormats specified values in a string\n",
    "* `join()`\tJoins the elements of an iterable to the end of the string\n",
    "* `lower()`\tConverts a string into lower case\n",
    "* `replace()`\tReturns a string where a specified value is replaced with a specified value\n",
    "* `split()`\tSplits the string at the specified separator, and returns a list\n",
    "* `strip()`\tReturns a trimmed version of the string\n",
    "* `swapcase()`\tSwaps cases, lower case becomes upper case and vice versa\n",
    "* `title()`\tConverts the first character of each word to upper case\n",
    "* `upper()`\tConverts a string into upper case\n"
   ]
  },
  {
   "cell_type": "markdown",
   "id": "47ffbd12",
   "metadata": {},
   "source": [
    "### Example"
   ]
  },
  {
   "cell_type": "code",
   "execution_count": 1,
   "id": "020e5546",
   "metadata": {},
   "outputs": [
    {
     "name": "stdout",
     "output_type": "stream",
     "text": [
      "Pleas enter your name\n",
      "FARID\n",
      "farid\n"
     ]
    }
   ],
   "source": [
    "name = input('Pleas enter your name\\n')\n",
    "print(name.lower())"
   ]
  },
  {
   "cell_type": "code",
   "execution_count": 24,
   "id": "e9087fc0",
   "metadata": {},
   "outputs": [
    {
     "name": "stdout",
     "output_type": "stream",
     "text": [
      "my name is farid kaki\n"
     ]
    }
   ],
   "source": [
    "txt = 'MY NAME IS FARID KAKI'\n",
    "print(txt.lower())"
   ]
  },
  {
   "cell_type": "code",
   "execution_count": 26,
   "id": "4f82a2b5",
   "metadata": {},
   "outputs": [
    {
     "name": "stdout",
     "output_type": "stream",
     "text": [
      "3\n"
     ]
    }
   ],
   "source": [
    "txt = \"I love apples, apple are my favorite fruit, 2, 2, 2\"\n",
    "\n",
    "x = txt.count(\"2\")\n",
    "\n",
    "print(x)"
   ]
  },
  {
   "cell_type": "code",
   "execution_count": 28,
   "id": "7c57dad7",
   "metadata": {},
   "outputs": [
    {
     "name": "stdout",
     "output_type": "stream",
     "text": [
      "Pleas give me some text\n",
      "my name is farid\n",
      "2\n"
     ]
    }
   ],
   "source": [
    "txt = input('Pleas give me some text\\n')\n",
    "print(txt.count('i'))"
   ]
  },
  {
   "cell_type": "markdown",
   "id": "194499a0",
   "metadata": {},
   "source": [
    "## Python input() Function\n",
    "* ExampleGet your own Python Server\n",
    "####  Ask for the user's name and print it:"
   ]
  },
  {
   "cell_type": "code",
   "execution_count": 29,
   "id": "4137cdf5",
   "metadata": {},
   "outputs": [
    {
     "name": "stdout",
     "output_type": "stream",
     "text": [
      "Enter your name:\n",
      "farid\n",
      "Hello, farid\n"
     ]
    }
   ],
   "source": [
    "print('Enter your name:')\n",
    "name = input()\n",
    "print('Hello, ' + name)"
   ]
  },
  {
   "cell_type": "code",
   "execution_count": 6,
   "id": "c847a27d",
   "metadata": {},
   "outputs": [
    {
     "name": "stdout",
     "output_type": "stream",
     "text": [
      "Enter your name:\n",
      "farid\n",
      "Hello, farid\n"
     ]
    }
   ],
   "source": [
    "name = input('Enter your name:\\n')\n",
    "print(f'Hello, {name}')"
   ]
  },
  {
   "cell_type": "markdown",
   "id": "bd1595a0",
   "metadata": {},
   "source": [
    "## Python Built in Functions\n",
    "* `len()`\tReturns the length of an object\n",
    "* `sum()`\tSums the items of an iterator\n",
    "* `round()`\tRounds a numbers\n",
    "* `range()`\tReturns a sequence of numbers, starting from 0 and increments by 1 (by default)\n",
    "* `print()`\tPrints to the standard output device\n",
    "* `pow()`\tReturns the value of x to the power of y\n",
    "* `input()`\tAllowing user input\n",
    "\n",
    "### Example"
   ]
  },
  {
   "cell_type": "code",
   "execution_count": 30,
   "id": "a4ba7200",
   "metadata": {},
   "outputs": [
    {
     "name": "stdout",
     "output_type": "stream",
     "text": [
      "pleas enter your name\n",
      "mohammad reza\n",
      "13\n"
     ]
    }
   ],
   "source": [
    "name = input('pleas enter your name\\n')\n",
    "print(len(name))"
   ]
  },
  {
   "cell_type": "code",
   "execution_count": 31,
   "id": "67af97c0",
   "metadata": {},
   "outputs": [
    {
     "name": "stdout",
     "output_type": "stream",
     "text": [
      "[1, 2, 3, 4, 5, 6, 7, 8, 9]\n"
     ]
    }
   ],
   "source": [
    "x = list(range(1, 10))\n",
    "print(x)"
   ]
  },
  {
   "cell_type": "code",
   "execution_count": 9,
   "id": "7229b0ad",
   "metadata": {},
   "outputs": [
    {
     "name": "stdout",
     "output_type": "stream",
     "text": [
      "1\n",
      "2\n",
      "3\n",
      "4\n",
      "5\n",
      "6\n",
      "7\n",
      "8\n",
      "9\n"
     ]
    }
   ],
   "source": [
    "for i in x :\n",
    "    print(i)"
   ]
  },
  {
   "cell_type": "code",
   "execution_count": 35,
   "id": "2fcc4fd2",
   "metadata": {},
   "outputs": [
    {
     "name": "stdout",
     "output_type": "stream",
     "text": [
      "pleas enter a number for a\n",
      "23\n",
      "Pleas enter a number for b\n",
      "2\n",
      "529\n"
     ]
    }
   ],
   "source": [
    "a = int(input('pleas enter a number for a\\n'))\n",
    "b = int(input('Pleas enter a number for b\\n'))\n",
    "x = pow(a, b)\n",
    "print(x)"
   ]
  },
  {
   "cell_type": "code",
   "execution_count": 36,
   "id": "6fda66b6",
   "metadata": {},
   "outputs": [
    {
     "name": "stdout",
     "output_type": "stream",
     "text": [
      "12\n",
      "12.34\n"
     ]
    },
    {
     "data": {
      "text/plain": [
       "(None, None)"
      ]
     },
     "execution_count": 36,
     "metadata": {},
     "output_type": "execute_result"
    }
   ],
   "source": [
    "number = 12.344444\n",
    "print(round(number)), print(round(number, 2))"
   ]
  },
  {
   "cell_type": "code",
   "execution_count": 43,
   "id": "fc16aee0",
   "metadata": {},
   "outputs": [
    {
     "name": "stdout",
     "output_type": "stream",
     "text": [
      "Pleas enter a number\n",
      "12\n",
      "Pleas enter a number\n",
      "7\n",
      "1.71\n"
     ]
    }
   ],
   "source": [
    "a = float(input('Pleas enter a number\\n'))\n",
    "b = float(input('Pleas enter a number\\n'))\n",
    "result = a/b\n",
    "print(round(result, 2))"
   ]
  },
  {
   "cell_type": "code",
   "execution_count": 12,
   "id": "ddc953c5",
   "metadata": {},
   "outputs": [
    {
     "name": "stdout",
     "output_type": "stream",
     "text": [
      "Enter Title:\n",
      "ff\n",
      "2\n"
     ]
    }
   ],
   "source": [
    "txt = input('Enter Title:\\n')\n",
    "print(len(txt))"
   ]
  },
  {
   "cell_type": "code",
   "execution_count": 62,
   "id": "5528d803",
   "metadata": {},
   "outputs": [
    {
     "name": "stdout",
     "output_type": "stream",
     "text": [
      "Pleas enter a two digit number\n",
      "89\n",
      "This is your result 17\n"
     ]
    }
   ],
   "source": [
    "num = int(input('Pleas enter a two digit number\\n'))\n",
    "num = num /10\n",
    "num = str(num)\n",
    "x1, x2 = num.split('.')\n",
    "result = int(x1) + int(x2)\n",
    "print(f'This is your result {result}')"
   ]
  },
  {
   "cell_type": "code",
   "execution_count": 58,
   "id": "15b9e27d",
   "metadata": {},
   "outputs": [
    {
     "data": {
      "text/plain": [
       "1"
      ]
     },
     "execution_count": 58,
     "metadata": {},
     "output_type": "execute_result"
    }
   ],
   "source": [
    "num = list(range(101))\n",
    "x1, x2, x3, *other = num\n",
    "x2"
   ]
  },
  {
   "cell_type": "markdown",
   "id": "ab43f37b",
   "metadata": {},
   "source": [
    "## Python Lists\n",
    "\n",
    "### List\n",
    "Lists are used to store multiple items in a single variable.\n",
    "\n",
    "Lists are one of 4 built-in data types in Python used to store collections of data, the other 3 are Tuple, Set, and Dictionary, all with different qualities and usage.\n",
    "\n",
    "Lists are created using square brackets:\n",
    "\n",
    "### Example\n",
    "\n",
    "Create a List:"
   ]
  },
  {
   "cell_type": "code",
   "execution_count": 65,
   "id": "8ffa4678",
   "metadata": {},
   "outputs": [
    {
     "name": "stdout",
     "output_type": "stream",
     "text": [
      "['farid', 'babak', 'neda', 'zahra']\n",
      "<class 'list'>\n",
      "4\n"
     ]
    },
    {
     "data": {
      "text/plain": [
       "(None, None, None)"
      ]
     },
     "execution_count": 65,
     "metadata": {},
     "output_type": "execute_result"
    }
   ],
   "source": [
    "name = ['farid', 'babak', 'neda', 'zahra']\n",
    "print(name), print(type(name)), print(len(name))"
   ]
  },
  {
   "cell_type": "code",
   "execution_count": 15,
   "id": "2242444c",
   "metadata": {},
   "outputs": [
    {
     "name": "stdout",
     "output_type": "stream",
     "text": [
      "<class 'list'>\n"
     ]
    }
   ],
   "source": [
    "print(type(my_list))"
   ]
  },
  {
   "cell_type": "code",
   "execution_count": 16,
   "id": "78c7bf71",
   "metadata": {},
   "outputs": [
    {
     "name": "stdout",
     "output_type": "stream",
     "text": [
      "['farid', 'reza', 'amir']\n",
      "[1, 2, 3, 4, 5, 6]\n",
      "['farid', 3, 4.9, True, [1, 2, 3, 4]]\n"
     ]
    }
   ],
   "source": [
    "names=['farid', 'reza', 'amir']\n",
    "number=[1, 2, 3, 4, 5, 6]\n",
    "compolex = ['farid', 3, 4.9, True, [1, 2, 3, 4]]\n",
    "print(names)\n",
    "print(number)\n",
    "print(compolex)"
   ]
  },
  {
   "cell_type": "markdown",
   "id": "c92b3122",
   "metadata": {},
   "source": [
    "### Example\n",
    "A list with strings, integers and boolean values:"
   ]
  },
  {
   "cell_type": "code",
   "execution_count": 76,
   "id": "6ee738ae",
   "metadata": {},
   "outputs": [
    {
     "name": "stdout",
     "output_type": "stream",
     "text": [
      "True\n",
      "8\n",
      "22\n"
     ]
    }
   ],
   "source": [
    "name = ['farid', 'reza', 'ahmad', 1, 2, 3, True, [22, 33, 44]]\n",
    "print(name[6])\n",
    "print(len(name))\n",
    "print(name[7][0])"
   ]
  },
  {
   "cell_type": "code",
   "execution_count": 17,
   "id": "6dc14c22",
   "metadata": {},
   "outputs": [
    {
     "name": "stdout",
     "output_type": "stream",
     "text": [
      "luffy\n",
      "['farid', 'babak', 2, True]\n",
      "[1, 3, 'babak', True, ['luffy', 12]]\n",
      "[['luffy', 12]]\n"
     ]
    }
   ],
   "source": [
    "my_list = [1,2,3, 'farid', 'babak', 2, True, 19, ['luffy', 12]]\n",
    "print(my_list[8][0])\n",
    "print(my_list[3:7])\n",
    "print(my_list[::2])\n",
    "print(my_list[-1:])"
   ]
  },
  {
   "cell_type": "code",
   "execution_count": 82,
   "id": "f74a4045",
   "metadata": {},
   "outputs": [
    {
     "name": "stdout",
     "output_type": "stream",
     "text": [
      "6\n"
     ]
    }
   ],
   "source": [
    "matrix = [[[1, 2, 3], [4, 5, 6], [7, 8, 9]]]\n",
    "print(matrix[0][1][2])"
   ]
  },
  {
   "cell_type": "code",
   "execution_count": 18,
   "id": "7ff87379",
   "metadata": {},
   "outputs": [
    {
     "name": "stdout",
     "output_type": "stream",
     "text": [
      "24.89\n"
     ]
    }
   ],
   "source": [
    "number = 24.888888888\n",
    "print(round(number, 2))"
   ]
  },
  {
   "cell_type": "code",
   "execution_count": 19,
   "id": "f0556471",
   "metadata": {},
   "outputs": [
    {
     "name": "stdout",
     "output_type": "stream",
     "text": [
      "20736\n"
     ]
    }
   ],
   "source": [
    "number= 12\n",
    "print(number ** 4)"
   ]
  },
  {
   "cell_type": "code",
   "execution_count": 83,
   "id": "c6d5e9ea",
   "metadata": {},
   "outputs": [
    {
     "name": "stdout",
     "output_type": "stream",
     "text": [
      "[1, 2, 3, 4, 5, 6, 7, 1, 2, 3, 4, 5, 6, 7]\n"
     ]
    }
   ],
   "source": [
    "my_list = [1, 2, 3, 4, 5, 6, 7]\n",
    "print(my_list * 2)"
   ]
  },
  {
   "cell_type": "code",
   "execution_count": 93,
   "id": "6502ad39",
   "metadata": {},
   "outputs": [
    {
     "name": "stdout",
     "output_type": "stream",
     "text": [
      "[10, 15, 20, 25, 30, 35, 40, 45, 50, 55, 60, 65, 70, 75, 80, 85, 90, 95, 100]\n"
     ]
    }
   ],
   "source": [
    "num = list(range(101))\n",
    "print(num[10:101:5])"
   ]
  },
  {
   "cell_type": "code",
   "execution_count": 84,
   "id": "cbd6089f",
   "metadata": {},
   "outputs": [
    {
     "name": "stdout",
     "output_type": "stream",
     "text": [
      "2\n",
      "4\n",
      "6\n",
      "8\n",
      "10\n",
      "12\n",
      "14\n"
     ]
    }
   ],
   "source": [
    "for item in my_list:\n",
    "    print(item * 2)"
   ]
  },
  {
   "cell_type": "code",
   "execution_count": 98,
   "id": "4250dd3c",
   "metadata": {},
   "outputs": [
    {
     "name": "stdout",
     "output_type": "stream",
     "text": [
      "how much do you weight?\n",
      "78\n",
      "how tall are you?\n",
      "178\n",
      "this is your BMI ...:0.24618103774775912\n"
     ]
    }
   ],
   "source": [
    "weight = float(input('how much do you weight?\\n'))\n",
    "height = float(input('how tall are you?\\n'))\n",
    "result = weight/(height * height)\n",
    "print(f'this is your BMI ...:{result * 100}')\n"
   ]
  },
  {
   "cell_type": "code",
   "execution_count": null,
   "id": "d387c2b4",
   "metadata": {},
   "outputs": [],
   "source": []
  }
 ],
 "metadata": {
  "kernelspec": {
   "display_name": "Python 3 (ipykernel)",
   "language": "python",
   "name": "python3"
  },
  "language_info": {
   "codemirror_mode": {
    "name": "ipython",
    "version": 3
   },
   "file_extension": ".py",
   "mimetype": "text/x-python",
   "name": "python",
   "nbconvert_exporter": "python",
   "pygments_lexer": "ipython3",
   "version": "3.9.13"
  }
 },
 "nbformat": 4,
 "nbformat_minor": 5
}
