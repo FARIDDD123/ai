{
 "cells": [
  {
   "cell_type": "markdown",
   "id": "2fca85ff",
   "metadata": {},
   "source": [
    "# Python Tutorial"
   ]
  },
  {
   "cell_type": "markdown",
   "id": "b3d944e2",
   "metadata": {},
   "source": [
    "## What is Python?\n",
    "\n",
    "It is used for:\n",
    "\n",
    "* web development (server-side),\n",
    "* software development,\n",
    "* mathematics,\n",
    "* system scripting."
   ]
  },
  {
   "cell_type": "markdown",
   "id": "81f61d4e",
   "metadata": {},
   "source": [
    "### Example\n",
    "print(\"Hello, World!\")"
   ]
  },
  {
   "cell_type": "code",
   "execution_count": 1,
   "id": "5cb59e84",
   "metadata": {},
   "outputs": [
    {
     "name": "stdout",
     "output_type": "stream",
     "text": [
      "hello,world\n"
     ]
    }
   ],
   "source": [
    "print(\"hello,world\")"
   ]
  },
  {
   "cell_type": "markdown",
   "id": "0f33548d",
   "metadata": {},
   "source": [
    "## Python Data Types\n",
    "\n",
    "In programming, data type is an important concept.\n",
    "\n",
    "Variables can store data of different types, and different types can do different things.\n",
    "\n",
    "Python has the following data types built-in by default, in these categories:\n",
    "\n",
    "* Text Type:\t`str`\n",
    "* Numeric Types:\t`int, float, complex`\n",
    "* Sequence Types:\t`list, tuple, range`\n",
    "* Mapping Type:\t`dict`\n",
    "* Set Types:\t`set, frozenset`\n",
    "* Boolean Type:\t`bool`\n",
    "* Binary Types:\t`bytes, bytearray, memoryview`\n",
    "* None Type:\t`NoneType`"
   ]
  },
  {
   "cell_type": "markdown",
   "id": "dd7b1418",
   "metadata": {},
   "source": [
    "## str"
   ]
  },
  {
   "cell_type": "code",
   "execution_count": 2,
   "id": "52f18333",
   "metadata": {},
   "outputs": [
    {
     "name": "stdout",
     "output_type": "stream",
     "text": [
      "hello my name is farid kaki\n"
     ]
    }
   ],
   "source": [
    "print(\"hello my name is farid kaki\")"
   ]
  },
  {
   "cell_type": "markdown",
   "id": "6c9f6fb8",
   "metadata": {},
   "source": [
    "## Int"
   ]
  },
  {
   "cell_type": "code",
   "execution_count": 3,
   "id": "19f641e8",
   "metadata": {},
   "outputs": [
    {
     "name": "stdout",
     "output_type": "stream",
     "text": [
      "35667\n"
     ]
    }
   ],
   "source": [
    "print(35667)"
   ]
  },
  {
   "cell_type": "markdown",
   "id": "8aafe054",
   "metadata": {},
   "source": [
    "## Float"
   ]
  },
  {
   "cell_type": "code",
   "execution_count": 4,
   "id": "b1681684",
   "metadata": {},
   "outputs": [
    {
     "name": "stdout",
     "output_type": "stream",
     "text": [
      "17\n"
     ]
    }
   ],
   "source": [
    "print(17)"
   ]
  },
  {
   "cell_type": "markdown",
   "id": "d1a605fe",
   "metadata": {},
   "source": [
    "## Example\n",
    "\n",
    "* Example\tData Type\t\n",
    "* x = \"Hello World\"\t`str`\t\n",
    "* x = 20\t`int`\t\n",
    "* x = 20.5\t`float`\t\n",
    "* x = 1j\t`complex`\t\n",
    "* x = [\"apple\", \"banana\", \"cherry\"]\t`list`\t\n",
    "* x = (\"apple\", \"banana\", \"cherry\")\t`tuple`\t\n",
    "* x = range(6)\t`range`\t\n",
    "* x = {\"name\" : \"John\", \"age\" : 36}\t`dict`\t\n",
    "* x = {\"apple\", \"banana\", \"cherry\"}\t`set`\t\n",
    "* x = frozenset({\"apple\", \"banana\", \"cherry\"})\t`frozenset`\n",
    "* x = True\t`bool`\n",
    "* x = b\"Hello\"\t`bytes`\t\n",
    "* x = bytearray(5)\t`bytearray`\t\n",
    "* x = memoryview(bytes(5))\t`memoryview`\t\n",
    "* x = `None`"
   ]
  },
  {
   "cell_type": "markdown",
   "id": "f0c67637",
   "metadata": {},
   "source": [
    "## Variables\n",
    "\n",
    "Variables are containers for storing data values.\n",
    "\n",
    "### Creating Variables\n",
    "Python has no command for declaring a variable.\n",
    "\n",
    "A variable is created the moment you first assign a value to it.\n",
    "\n"
   ]
  },
  {
   "cell_type": "markdown",
   "id": "ae7fe2d2",
   "metadata": {},
   "source": [
    "### Example"
   ]
  },
  {
   "cell_type": "code",
   "execution_count": 5,
   "id": "e9ce441a",
   "metadata": {},
   "outputs": [
    {
     "name": "stdout",
     "output_type": "stream",
     "text": [
      "5\n",
      "farid\n"
     ]
    }
   ],
   "source": [
    "x = 5\n",
    "y = \"farid\"\n",
    "print(x)\n",
    "print(y)"
   ]
  },
  {
   "cell_type": "code",
   "execution_count": 18,
   "id": "e294fc6c",
   "metadata": {},
   "outputs": [
    {
     "name": "stdout",
     "output_type": "stream",
     "text": [
      "amir\n",
      "<class 'str'>\n"
     ]
    }
   ],
   "source": [
    "name = 'amir'\n",
    "print(name),\n",
    "print(type(name))"
   ]
  },
  {
   "cell_type": "code",
   "execution_count": 19,
   "id": "71547034",
   "metadata": {},
   "outputs": [
    {
     "name": "stdout",
     "output_type": "stream",
     "text": [
      "230\n",
      "<class 'int'>\n"
     ]
    }
   ],
   "source": [
    "number=230\n",
    "print(number),\n",
    "print(type(number))"
   ]
  },
  {
   "cell_type": "markdown",
   "id": "e8d7d074",
   "metadata": {},
   "source": [
    "> Variables do not need to be declared with any particular type, and can even change type after they have been set."
   ]
  },
  {
   "cell_type": "markdown",
   "id": "5ac859cb",
   "metadata": {},
   "source": [
    "### Example"
   ]
  },
  {
   "cell_type": "code",
   "execution_count": 7,
   "id": "8b3446bf",
   "metadata": {},
   "outputs": [
    {
     "name": "stdout",
     "output_type": "stream",
     "text": [
      "Sally\n"
     ]
    }
   ],
   "source": [
    "x = 4       # x is of type int\n",
    "x = \"Sally\" # x is now of type str\n",
    "print(x)"
   ]
  },
  {
   "cell_type": "markdown",
   "id": "c127dfde",
   "metadata": {},
   "source": [
    "## Casting\n",
    "If you want to specify the data type of a variable, this can be done with casting.\n",
    "\n",
    "### Example"
   ]
  },
  {
   "cell_type": "code",
   "execution_count": 8,
   "id": "fb0c6d9c",
   "metadata": {},
   "outputs": [
    {
     "name": "stdout",
     "output_type": "stream",
     "text": [
      "<class 'str'>\n"
     ]
    }
   ],
   "source": [
    "x ='12.6'\n",
    "z='farid'\n",
    "type(x)\n",
    "print(type(z))"
   ]
  },
  {
   "cell_type": "code",
   "execution_count": 9,
   "id": "a037d5e9",
   "metadata": {},
   "outputs": [
    {
     "name": "stdout",
     "output_type": "stream",
     "text": [
      "HELLO MY NAME IS babak\n",
      "babak\n"
     ]
    }
   ],
   "source": [
    "name = \"babak\"\n",
    "print(f'HELLO MY NAME IS {name}')\n",
    "print(name)"
   ]
  },
  {
   "cell_type": "code",
   "execution_count": 25,
   "id": "31e41b12",
   "metadata": {},
   "outputs": [
    {
     "name": "stdout",
     "output_type": "stream",
     "text": [
      "Hello my name is babak and i have a 20 years old\n"
     ]
    }
   ],
   "source": [
    "name = 'babak'\n",
    "age = 20\n",
    "print(f'Hello my name is {name} and i have a {age} years old')"
   ]
  },
  {
   "cell_type": "code",
   "execution_count": 26,
   "id": "c0f2fd85",
   "metadata": {},
   "outputs": [
    {
     "name": "stdout",
     "output_type": "stream",
     "text": [
      "15.4\n",
      "8.6\n",
      "40.8\n",
      "3.5294117647058822\n"
     ]
    }
   ],
   "source": [
    "x = 12\n",
    "y = 3.4\n",
    "print(x+y)\n",
    "print(x-y)\n",
    "print(x*y)\n",
    "print(x/y)"
   ]
  },
  {
   "cell_type": "code",
   "execution_count": 29,
   "id": "86cfa9d9",
   "metadata": {},
   "outputs": [
    {
     "name": "stdout",
     "output_type": "stream",
     "text": [
      "0.5217391304347826\n",
      "0\n",
      "1\n"
     ]
    }
   ],
   "source": [
    "x=12\n",
    "y=23\n",
    "print(x/y)\n",
    "print(x//y)\n",
    "print(y%2)"
   ]
  },
  {
   "cell_type": "code",
   "execution_count": 30,
   "id": "cfeb8c77",
   "metadata": {},
   "outputs": [
    {
     "name": "stdout",
     "output_type": "stream",
     "text": [
      "3\n",
      "3\n",
      "3.0\n"
     ]
    }
   ],
   "source": [
    "x = str(3)    # x will be '3'\n",
    "y = int(3)    # y will be 3\n",
    "z = float(3)  # z will be 3.0\n",
    "print(x)\n",
    "print(y)\n",
    "print(z)"
   ]
  },
  {
   "cell_type": "markdown",
   "id": "4743b6ce",
   "metadata": {},
   "source": [
    "## Variable Names\n",
    "\n",
    "A variable can have a short name (like x and y) or a more descriptive name (age, carname, total_volume). Rules for Python variables:\n",
    "* A variable name must start with a letter or the underscore character\n",
    "* A variable name cannot start with a number\n",
    "* A variable name can only contain alpha-numeric characters and underscores (A-z, 0-9, and _ )\n",
    "* Variable names are case-sensitive (age, Age and AGE are three different variables)\n",
    "* A variable name cannot be any of the Python keywords.\n",
    "\n",
    "### Example\n",
    "Legal variable names:"
   ]
  },
  {
   "cell_type": "code",
   "execution_count": 12,
   "id": "2324b448",
   "metadata": {},
   "outputs": [],
   "source": [
    "myvar = \"John\"\n",
    "my_var = \"John\"\n",
    "_my_var = \"John\"\n",
    "myVar = \"John\"\n",
    "MYVAR = \"John\"\n",
    "myvar2 = \"John\""
   ]
  },
  {
   "cell_type": "markdown",
   "id": "12ddc508",
   "metadata": {},
   "source": [
    "## Multi Words Variable Names\n",
    "Variable names with more than one word can be difficult to read.\n",
    "\n",
    "There are several techniques you can use to make them more readable:\n",
    "\n",
    "### Camel Case\n",
    "\n",
    "Each word, except the first, starts with a capital letter:\n",
    "\n",
    "myVariableName = \"John\"\n",
    "\n",
    "### Pascal Case\n",
    "\n",
    "Each word starts with a capital letter:\n",
    "\n",
    "MyVariableName = \"John\"\n",
    "\n",
    "### Snake Case\n",
    "\n",
    "Each word is separated by an underscore character:\n",
    "\n",
    "my_variable_name = \"John\""
   ]
  },
  {
   "cell_type": "markdown",
   "id": "80b383c7",
   "metadata": {},
   "source": [
    "## Python Variables - Assign Multiple Values\n",
    "\n",
    "Python allows you to assign values to multiple variables in one line:\n",
    "\n",
    "### Example"
   ]
  },
  {
   "cell_type": "code",
   "execution_count": 46,
   "id": "76e4bb8c",
   "metadata": {},
   "outputs": [
    {
     "name": "stdout",
     "output_type": "stream",
     "text": [
      "Orange\n",
      "34\n",
      "Cherry\n",
      "<class 'str'>\n",
      "<class 'str'>\n"
     ]
    }
   ],
   "source": [
    "x, y, z = \"Orange\", 34, \"Cherry\"\n",
    "print(x)\n",
    "print(y)\n",
    "print(z)\n",
    "print(type(x))\n",
    "print(type(z))"
   ]
  },
  {
   "cell_type": "markdown",
   "id": "1e3ef605",
   "metadata": {},
   "source": [
    "### One Value to Multiple Variables\n",
    "\n",
    "And you can assign the same value to multiple variables in one line:\n",
    "\n",
    "### Example\n"
   ]
  },
  {
   "cell_type": "code",
   "execution_count": 42,
   "id": "30c4b3b0",
   "metadata": {},
   "outputs": [
    {
     "name": "stdout",
     "output_type": "stream",
     "text": [
      "farid\n",
      "farid\n",
      "farid\n"
     ]
    }
   ],
   "source": [
    "x = y = z = \"farid\"\n",
    "print(x)\n",
    "print(y)\n",
    "print(z)"
   ]
  },
  {
   "cell_type": "markdown",
   "id": "f9f5d517",
   "metadata": {},
   "source": [
    "## Unpack a Collection\n",
    "\n",
    "If you have a collection of values in a list, tuple etc. Python allows you to extract the values into variables. This is called unpacking.\n",
    "\n",
    "### Example\n"
   ]
  },
  {
   "cell_type": "code",
   "execution_count": 39,
   "id": "0c4c4638",
   "metadata": {},
   "outputs": [
    {
     "name": "stdout",
     "output_type": "stream",
     "text": [
      "apple\n",
      "['banana', 'cherry', 'farid', 'amir', 23, True, False]\n"
     ]
    }
   ],
   "source": [
    "fruits = [\"apple\", \"banana\", \"cherry\", 'farid', 'amir', 23, True, False]\n",
    "x, *y= fruits\n",
    "print(x)\n",
    "print(y)\n"
   ]
  },
  {
   "cell_type": "markdown",
   "id": "4ef9b8c3",
   "metadata": {},
   "source": [
    "## `Input()`"
   ]
  },
  {
   "cell_type": "code",
   "execution_count": 51,
   "id": "bed0387f",
   "metadata": {},
   "outputs": [
    {
     "name": "stdout",
     "output_type": "stream",
     "text": [
      "What is your name?\n",
      "amir\n",
      "Hello amir\n"
     ]
    }
   ],
   "source": [
    "name = input('What is your name?\\n')\n",
    "print(f'Hello {name}')"
   ]
  },
  {
   "cell_type": "code",
   "execution_count": 57,
   "id": "bdeb2f19",
   "metadata": {},
   "outputs": [
    {
     "name": "stdout",
     "output_type": "stream",
     "text": [
      "Pleas enter anumber:\n",
      "12\n",
      "Pleas enter another number:\n",
      "12\n",
      "24\n"
     ]
    }
   ],
   "source": [
    "x = input('Pleas enter anumber:\\n')\n",
    "y = input('Pleas enter another number:\\n')\n",
    "z = int(x)\n",
    "w = int(y)\n",
    "print(z + w)"
   ]
  },
  {
   "cell_type": "code",
   "execution_count": 58,
   "id": "6ae12602",
   "metadata": {},
   "outputs": [
    {
     "name": "stdout",
     "output_type": "stream",
     "text": [
      "Pleas enter your name?\n",
      "babak\n",
      "Pleas enter your age?\n",
      "30\n",
      "Hello my name is babak and i have 30 years old\n"
     ]
    }
   ],
   "source": [
    "name = input('Pleas enter your name?\\n')\n",
    "age = input('Pleas enter your age?\\n')\n",
    "print(f'Hello my name is {name} and i have {age} years old')"
   ]
  },
  {
   "cell_type": "code",
   "execution_count": 64,
   "id": "5fb11543",
   "metadata": {},
   "outputs": [
    {
     "name": "stdout",
     "output_type": "stream",
     "text": [
      "Enter your name\n",
      "fawrid\n",
      "hello fawrid\n",
      "hello fawrid\n",
      "hello fawrid\n",
      "hello fawrid\n",
      "hello fawrid\n",
      "\n"
     ]
    }
   ],
   "source": [
    "name = input('Enter your name\\n')\n",
    "result = f'hello {name}\\n'\n",
    "print(result * 5)"
   ]
  },
  {
   "cell_type": "code",
   "execution_count": null,
   "id": "7ecb24a7",
   "metadata": {},
   "outputs": [],
   "source": []
  }
 ],
 "metadata": {
  "kernelspec": {
   "display_name": "Python 3 (ipykernel)",
   "language": "python",
   "name": "python3"
  },
  "language_info": {
   "codemirror_mode": {
    "name": "ipython",
    "version": 3
   },
   "file_extension": ".py",
   "mimetype": "text/x-python",
   "name": "python",
   "nbconvert_exporter": "python",
   "pygments_lexer": "ipython3",
   "version": "3.9.13"
  }
 },
 "nbformat": 4,
 "nbformat_minor": 5
}
