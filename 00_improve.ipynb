{
 "cells": [
  {
   "cell_type": "code",
   "execution_count": 1,
   "id": "09d443e3",
   "metadata": {},
   "outputs": [
    {
     "name": "stdout",
     "output_type": "stream",
     "text": [
      "Hello farid\n"
     ]
    }
   ],
   "source": [
    "print('Hello farid')"
   ]
  },
  {
   "cell_type": "code",
   "execution_count": 2,
   "id": "fc6f108e",
   "metadata": {},
   "outputs": [
    {
     "name": "stdout",
     "output_type": "stream",
     "text": [
      "['Farid', 'babak', [1, 2, 3, 4]]\n"
     ]
    }
   ],
   "source": [
    "name = ['Farid', 'babak', [1, 2, 3, 4]]\n",
    "print(name)"
   ]
  },
  {
   "cell_type": "code",
   "execution_count": 3,
   "id": "9bbb3da3",
   "metadata": {},
   "outputs": [
    {
     "name": "stdout",
     "output_type": "stream",
     "text": [
      "4\n"
     ]
    }
   ],
   "source": [
    "print(name[2][3])"
   ]
  },
  {
   "cell_type": "code",
   "execution_count": 4,
   "id": "cdb18c7b",
   "metadata": {},
   "outputs": [
    {
     "name": "stdout",
     "output_type": "stream",
     "text": [
      "[4, 6]\n"
     ]
    }
   ],
   "source": [
    "number = [1, 2, 3, 4, 5, 6, 7, 8, 9 ,10]\n",
    "print(number[3:7:2])"
   ]
  },
  {
   "cell_type": "code",
   "execution_count": 5,
   "id": "5d82f6c7",
   "metadata": {},
   "outputs": [
    {
     "name": "stdout",
     "output_type": "stream",
     "text": [
      "[0, 1, 2, 3, 4, 5, 6, 7, 8, 9, 10, 11, 12, 13, 14, 15, 16, 17, 18, 19, 20, 21, 22, 23, 24, 25, 26, 27, 28, 29, 30, 31, 32, 33, 34, 35, 36, 37, 38, 39, 40, 41, 42, 43, 44, 45, 46, 47, 48, 49, 50, 51, 52, 53, 54, 55, 56, 57, 58, 59, 60, 61, 62, 63, 64, 65, 66, 67, 68, 69, 70, 71, 72, 73, 74, 75, 76, 77, 78, 79, 80, 81, 82, 83, 84, 85, 86, 87, 88, 89, 90, 91, 92, 93, 94, 95, 96, 97, 98, 99, 100]\n"
     ]
    }
   ],
   "source": [
    "num = list(range(101))\n",
    "print(num)"
   ]
  },
  {
   "cell_type": "code",
   "execution_count": 6,
   "id": "4dba5d05",
   "metadata": {},
   "outputs": [
    {
     "name": "stdout",
     "output_type": "stream",
     "text": [
      "[0, 2, 4, 6, 8, 10, 12, 14, 16, 18, 20, 22, 24, 26, 28, 30, 32, 34, 36, 38, 40, 42, 44, 46, 48, 50, 52, 54, 56, 58, 60, 62, 64, 66, 68, 70, 72, 74, 76, 78, 80, 82, 84, 86, 88, 90, 92, 94, 96, 98, 100]\n"
     ]
    }
   ],
   "source": [
    "print(num[::2])"
   ]
  },
  {
   "cell_type": "code",
   "execution_count": 7,
   "id": "74172a11",
   "metadata": {},
   "outputs": [
    {
     "name": "stdout",
     "output_type": "stream",
     "text": [
      "hello. my name is. farid. and i have 39 years old\n",
      "<class 'str'>\n",
      "['hello', ' my name is', ' farid', ' and i have 39 years old']\n",
      "<class 'list'>\n"
     ]
    }
   ],
   "source": [
    "name = 'hello. my name is. farid. and i have 39 years old'\n",
    "print(name)\n",
    "print(type(name))\n",
    "x = name.split('.')\n",
    "print(x)\n",
    "print(type(x))"
   ]
  },
  {
   "cell_type": "code",
   "execution_count": 8,
   "id": "aa80bc13",
   "metadata": {},
   "outputs": [
    {
     "name": "stdout",
     "output_type": "stream",
     "text": [
      "hello my name is farid and i have 24 years old\n"
     ]
    }
   ],
   "source": [
    "name = 'farid'\n",
    "age = 24\n",
    "print(f\"hello my name is {name} and i have {age} years old\")"
   ]
  },
  {
   "cell_type": "code",
   "execution_count": 10,
   "id": "ada357a9",
   "metadata": {},
   "outputs": [
    {
     "name": "stdout",
     "output_type": "stream",
     "text": [
      "Waht is your name?\n",
      "farid\n",
      "How old are you?\n",
      "25\n",
      "Hello farid you are 25 years old\n"
     ]
    }
   ],
   "source": [
    "name = input('Waht is your name?\\n')\n",
    "age = input('How old are you?\\n')\n",
    "print(f'Hello {name} you are {age} years old')"
   ]
  },
  {
   "cell_type": "code",
   "execution_count": 15,
   "id": "6fcf0152",
   "metadata": {},
   "outputs": [
    {
     "name": "stdout",
     "output_type": "stream",
     "text": [
      "Pleas enter a number\n",
      "2.4\n",
      "5.76\n"
     ]
    }
   ],
   "source": [
    "x = float(input('Pleas enter a number\\n'))\n",
    "print(x**2)"
   ]
  },
  {
   "cell_type": "code",
   "execution_count": 16,
   "id": "a810a9f5",
   "metadata": {},
   "outputs": [
    {
     "name": "stdout",
     "output_type": "stream",
     "text": [
      "['farid', 1, 2, 3, 4, 5, 'last']\n"
     ]
    }
   ],
   "source": [
    "number = ['farid', 1,2,3,4,5, 'last']\n",
    "print(number)"
   ]
  },
  {
   "cell_type": "code",
   "execution_count": 17,
   "id": "874e49a9",
   "metadata": {},
   "outputs": [
    {
     "name": "stdout",
     "output_type": "stream",
     "text": [
      "farid\n",
      "[1, 2, 3, 4, 5]\n",
      "last\n"
     ]
    }
   ],
   "source": [
    "first, *other, last = number\n",
    "print(first)\n",
    "print(other)\n",
    "print(last)"
   ]
  },
  {
   "cell_type": "code",
   "execution_count": 23,
   "id": "96b9a68b",
   "metadata": {},
   "outputs": [
    {
     "name": "stdout",
     "output_type": "stream",
     "text": [
      "Enter z char and number of time\n",
      "g, 12\n",
      "gggggggggggg\n",
      "g          g\n",
      "g          g\n",
      "g          g\n",
      "g          g\n",
      "g          g\n",
      "g          g\n",
      "g          g\n",
      "g          g\n",
      "g          g\n",
      "g          g\n",
      "gggggggggggg\n"
     ]
    }
   ],
   "source": [
    "c, n = input(\"Enter a char and number of time\\n\").split(',')\n",
    "n = int(n)\n",
    "char = c * n\n",
    "space = ' ' * (n-2)\n",
    "new_space = f'{c}{space}{c}\\n'\n",
    "result = f'{char}\\n{new_space*(n-2)}{char}'\n",
    "print(result)"
   ]
  },
  {
   "cell_type": "code",
   "execution_count": 30,
   "id": "ed381d95",
   "metadata": {},
   "outputs": [
    {
     "name": "stdout",
     "output_type": "stream",
     "text": [
      "<class 'tuple'>\n"
     ]
    }
   ],
   "source": [
    "name = 'farid',\n",
    "print(type(name))"
   ]
  },
  {
   "cell_type": "code",
   "execution_count": 34,
   "id": "f3190679",
   "metadata": {},
   "outputs": [
    {
     "name": "stdout",
     "output_type": "stream",
     "text": [
      "{'name': 'farid', 'age': 24}\n",
      "dict_keys(['name', 'age'])\n",
      "dict_values(['farid', 24])\n"
     ]
    }
   ],
   "source": [
    "person = {\n",
    "    'name':'farid',\n",
    "    'age':24\n",
    "}\n",
    "\n",
    "print(person)\n",
    "print(person.keys())\n",
    "print(person.values())"
   ]
  },
  {
   "cell_type": "code",
   "execution_count": 44,
   "id": "66c66f2d",
   "metadata": {},
   "outputs": [
    {
     "name": "stdout",
     "output_type": "stream",
     "text": [
      "5\n",
      "3\n",
      "<class 'tuple'>\n",
      "11\n",
      "babak\n"
     ]
    }
   ],
   "source": [
    "x = ('farid', 'babak', 1, 3, 4, 2, 2, 2, True, 'farid', 'farid')\n",
    "print(x.index(2))\n",
    "print(x.count('farid'))\n",
    "print(type(x))\n",
    "print(len(x))\n",
    "print(x[1])\n"
   ]
  },
  {
   "cell_type": "code",
   "execution_count": 47,
   "id": "f7a7f540",
   "metadata": {},
   "outputs": [
    {
     "name": "stdout",
     "output_type": "stream",
     "text": [
      "[1, 2, 3, 4, 5]\n",
      "[1, 2, 'farid', 4, 5]\n"
     ]
    }
   ],
   "source": [
    "number = [1, 2, 3, 4, 5]\n",
    "print(number)\n",
    "number[2] = 'farid'\n",
    "print(number)"
   ]
  },
  {
   "cell_type": "code",
   "execution_count": 52,
   "id": "7f599eb2",
   "metadata": {},
   "outputs": [
    {
     "name": "stdout",
     "output_type": "stream",
     "text": [
      "[]\n"
     ]
    }
   ],
   "source": [
    "number.pop()\n",
    "print(number)"
   ]
  },
  {
   "cell_type": "code",
   "execution_count": 62,
   "id": "1173c69b",
   "metadata": {},
   "outputs": [
    {
     "name": "stdout",
     "output_type": "stream",
     "text": [
      "Pleas enter a password\n",
      "dccdd@!fcc\n",
      "**********\n"
     ]
    }
   ],
   "source": [
    "pass_user = input('Pleas enter a password\\n')\n",
    "print(len(pass_user) * '*')"
   ]
  },
  {
   "cell_type": "code",
   "execution_count": 59,
   "id": "25bc8093",
   "metadata": {},
   "outputs": [
    {
     "name": "stdout",
     "output_type": "stream",
     "text": [
      "Pleas ente ryour name\n",
      "farid\n",
      "How old are youe\n",
      "34\n",
      "farid\n",
      "34\n"
     ]
    }
   ],
   "source": [
    "name = input('Pleas ente ryour name\\n')\n",
    "age = input('How old are youe\\n')\n",
    "print(name)\n",
    "print(age)"
   ]
  },
  {
   "cell_type": "code",
   "execution_count": null,
   "id": "e6dc4552",
   "metadata": {},
   "outputs": [],
   "source": []
  },
  {
   "cell_type": "code",
   "execution_count": null,
   "id": "b888dac1",
   "metadata": {},
   "outputs": [],
   "source": []
  },
  {
   "cell_type": "code",
   "execution_count": null,
   "id": "415e675f",
   "metadata": {},
   "outputs": [],
   "source": []
  },
  {
   "cell_type": "code",
   "execution_count": null,
   "id": "5b956ead",
   "metadata": {},
   "outputs": [],
   "source": []
  },
  {
   "cell_type": "code",
   "execution_count": null,
   "id": "78d87f94",
   "metadata": {},
   "outputs": [],
   "source": []
  }
 ],
 "metadata": {
  "kernelspec": {
   "display_name": "Python 3 (ipykernel)",
   "language": "python",
   "name": "python3"
  },
  "language_info": {
   "codemirror_mode": {
    "name": "ipython",
    "version": 3
   },
   "file_extension": ".py",
   "mimetype": "text/x-python",
   "name": "python",
   "nbconvert_exporter": "python",
   "pygments_lexer": "ipython3",
   "version": "3.9.13"
  }
 },
 "nbformat": 4,
 "nbformat_minor": 5
}
