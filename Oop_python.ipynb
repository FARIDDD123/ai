{
 "cells": [
  {
   "cell_type": "markdown",
   "id": "e521c348",
   "metadata": {},
   "source": [
    "# Python Classes/Objects\n",
    "Python is an object oriented programming language.\n",
    "\n",
    "Almost everything in Python is an object, with its properties and methods.\n",
    "\n",
    "A Class is like an object constructor, or a \"blueprint\" for creating objects.\n",
    "\n",
    "## Example\n",
    "Create a class named MyClass, with a property named x:"
   ]
  },
  {
   "cell_type": "code",
   "execution_count": 1,
   "id": "cfd0f72c",
   "metadata": {},
   "outputs": [],
   "source": [
    "class MyClass:\n",
    "  x = 5"
   ]
  },
  {
   "cell_type": "code",
   "execution_count": 2,
   "id": "6740df15",
   "metadata": {},
   "outputs": [
    {
     "data": {
      "text/plain": [
       "<__main__.MyClass at 0x1a341fcce20>"
      ]
     },
     "execution_count": 2,
     "metadata": {},
     "output_type": "execute_result"
    }
   ],
   "source": [
    "MyClass()"
   ]
  },
  {
   "cell_type": "markdown",
   "id": "95bceec2",
   "metadata": {},
   "source": [
    "## Create Object\n",
    "Now we can use the class named MyClass to create objects:\n",
    "\n",
    "Example\n",
    "Create an object named p1, and print the value of x:"
   ]
  },
  {
   "cell_type": "code",
   "execution_count": 3,
   "id": "38118c0b",
   "metadata": {},
   "outputs": [
    {
     "name": "stdout",
     "output_type": "stream",
     "text": [
      "5\n"
     ]
    }
   ],
   "source": [
    "p1 = MyClass()\n",
    "print(p1.x)"
   ]
  },
  {
   "cell_type": "markdown",
   "id": "bf1d807c",
   "metadata": {},
   "source": [
    "## The __init__() Function\n",
    "The examples above are classes and objects in their simplest form, and are not really useful in real life applications.\n",
    "\n",
    "To understand the meaning of classes we have to understand the built-in __init__() function.\n",
    "\n",
    "All classes have a function called __init__(), which is always executed when the class is being initiated.\n",
    "\n",
    "Use the __init__() function to assign values to object properties, or other operations that are necessary to do when the object is being created:\n",
    "\n",
    "Example\n",
    "Create a class named Person, use the __init__() function to assign values for name and age:"
   ]
  },
  {
   "cell_type": "code",
   "execution_count": 4,
   "id": "84ac4cdd",
   "metadata": {},
   "outputs": [],
   "source": [
    "class Person:\n",
    "    def __init__(self, name, age):\n",
    "        self.name = name\n",
    "        self.age=age"
   ]
  },
  {
   "cell_type": "code",
   "execution_count": 5,
   "id": "498a3bd3",
   "metadata": {},
   "outputs": [],
   "source": [
    "p1=Person('farid', 29)"
   ]
  },
  {
   "cell_type": "code",
   "execution_count": 6,
   "id": "9fe91a7b",
   "metadata": {},
   "outputs": [
    {
     "name": "stdout",
     "output_type": "stream",
     "text": [
      "farid\n"
     ]
    }
   ],
   "source": [
    "print(p1.name)"
   ]
  },
  {
   "cell_type": "code",
   "execution_count": 7,
   "id": "a4f7d021",
   "metadata": {},
   "outputs": [
    {
     "name": "stdout",
     "output_type": "stream",
     "text": [
      "My name is farid, an i have 29 years old\n"
     ]
    }
   ],
   "source": [
    "print(f'My name is {p1.name}, an i have {p1.age} years old')"
   ]
  },
  {
   "cell_type": "markdown",
   "id": "e11532f1",
   "metadata": {},
   "source": [
    "## The `__str__()` Function\n",
    "\n"
   ]
  },
  {
   "cell_type": "code",
   "execution_count": 8,
   "id": "3e738047",
   "metadata": {},
   "outputs": [],
   "source": [
    "class Person:\n",
    "    def __init__(self, name, age):\n",
    "        self.name = name\n",
    "        self.age = age\n",
    "        \n",
    "    def __str__(self):\n",
    "        return f\"Hello my name is {self.name}, and i have {self.age}\"\n",
    "    "
   ]
  },
  {
   "cell_type": "code",
   "execution_count": 9,
   "id": "c5b72f62",
   "metadata": {},
   "outputs": [],
   "source": [
    "p1 = Person('farid', 19)"
   ]
  },
  {
   "cell_type": "code",
   "execution_count": 10,
   "id": "5222c579",
   "metadata": {},
   "outputs": [
    {
     "name": "stdout",
     "output_type": "stream",
     "text": [
      "Hello my name is farid, and i have 19\n"
     ]
    }
   ],
   "source": [
    "print(p1)"
   ]
  },
  {
   "cell_type": "markdown",
   "id": "2afd78ae",
   "metadata": {},
   "source": [
    "## Object Methods\n",
    "Objects can also contain methods. Methods in objects are functions that belong to the object.\n",
    "\n",
    "Let us create a method in the Person class:"
   ]
  },
  {
   "cell_type": "code",
   "execution_count": 11,
   "id": "c2307119",
   "metadata": {},
   "outputs": [],
   "source": [
    "class Person1:\n",
    "    def __init__(self, name, age, job):\n",
    "        self.name = name\n",
    "        self.age = age\n",
    "        self.job = job\n",
    "        \n",
    "    def myfunc(self):\n",
    "        print(f'Hi my name is {self.name} and i {self.age} years')\n",
    "        \n",
    "    def myJob(self):\n",
    "        print(f'My job is {self.job} programmer')\n",
    "    "
   ]
  },
  {
   "cell_type": "code",
   "execution_count": 12,
   "id": "a032dd06",
   "metadata": {},
   "outputs": [],
   "source": [
    "p1 = Person1('farid', 29, 'Python')"
   ]
  },
  {
   "cell_type": "code",
   "execution_count": 13,
   "id": "551bac4f",
   "metadata": {},
   "outputs": [
    {
     "name": "stdout",
     "output_type": "stream",
     "text": [
      "Hi my name is farid and i 29 years\n"
     ]
    }
   ],
   "source": [
    "p1.myfunc()"
   ]
  },
  {
   "cell_type": "code",
   "execution_count": 14,
   "id": "ced67343",
   "metadata": {},
   "outputs": [
    {
     "name": "stdout",
     "output_type": "stream",
     "text": [
      "My job is Python programmer\n"
     ]
    }
   ],
   "source": [
    "p1.myJob()"
   ]
  },
  {
   "cell_type": "code",
   "execution_count": 15,
   "id": "e5e79b67",
   "metadata": {},
   "outputs": [
    {
     "name": "stdout",
     "output_type": "stream",
     "text": [
      "12\n",
      "24\n"
     ]
    }
   ],
   "source": [
    "class Point:\n",
    "    def __init__(self, x, y):\n",
    "        self.x = x\n",
    "        self.y = y\n",
    "        \n",
    "    def add(self):\n",
    "        result = self.x + self.y\n",
    "        print(result)\n",
    "        \n",
    "p1 = Point(12, 12)\n",
    "print(p1.x)\n",
    "p1.add()"
   ]
  },
  {
   "cell_type": "markdown",
   "id": "48fb0923",
   "metadata": {},
   "source": [
    "## Example"
   ]
  },
  {
   "cell_type": "code",
   "execution_count": 16,
   "id": "f9a6a221",
   "metadata": {},
   "outputs": [],
   "source": [
    "class Account:\n",
    "    def __init__(self, name, balance, password):\n",
    "        self.name = name\n",
    "        self.balance = int(balance)\n",
    "        self.password = password\n",
    "        \n",
    "    def deposit(self, AmountToDeposit, password):\n",
    "        if password != self.password:\n",
    "            print('Sorry Incorrect pass')\n",
    "            return None\n",
    "        if AmountToDeposit < 0 :\n",
    "            print('You can Not Deposit Negative Amount')\n",
    "            return None\n",
    "        self.balance = self.balance + AmountToDeposit\n",
    "        return self.balance\n",
    "    \n",
    "    def withdrow(self, AmountToWithdrow, password):\n",
    "        if password != self.password:\n",
    "            print('Incorrect For this Password')\n",
    "            return None\n",
    "        if AmountToWithdrow < 0:\n",
    "            print('You Cant Withdrow Negative Aamount')\n",
    "            return None\n",
    "        if AmountToWithdrow > slef.balance:\n",
    "            print('You Can\\'t Withdrow more than Your Balance')\n",
    "            return None\n",
    "        self.balance = self.balance - self.AmountToWithdrow\n",
    "        return self.balance\n",
    "    def get_balance(self, password):\n",
    "        if password != self.password:\n",
    "            print('Sorry, Incorrect Password')\n",
    "            return None\n",
    "        return self.balance\n",
    "    def show(self):\n",
    "        print()\n",
    "        print('        Name:', self.name)\n",
    "        print('        Balance:', self.balance)\n",
    "        print('        Password', self.password)\n",
    "        print()"
   ]
  },
  {
   "cell_type": "code",
   "execution_count": 17,
   "id": "88b105da",
   "metadata": {},
   "outputs": [],
   "source": [
    "my_account = Account('farid', 10000000, 'dffe34')"
   ]
  },
  {
   "cell_type": "code",
   "execution_count": 18,
   "id": "a32d36d0",
   "metadata": {},
   "outputs": [
    {
     "name": "stdout",
     "output_type": "stream",
     "text": [
      "\n",
      "        Name: farid\n",
      "        Balance: 10000000\n",
      "        Password dffe34\n",
      "\n"
     ]
    }
   ],
   "source": [
    "my_account.show()"
   ]
  },
  {
   "cell_type": "code",
   "execution_count": 19,
   "id": "013805d4",
   "metadata": {},
   "outputs": [
    {
     "data": {
      "text/plain": [
       "'farid'"
      ]
     },
     "execution_count": 19,
     "metadata": {},
     "output_type": "execute_result"
    }
   ],
   "source": [
    "my_account.name"
   ]
  },
  {
   "cell_type": "code",
   "execution_count": 20,
   "id": "d4e64aa6",
   "metadata": {},
   "outputs": [
    {
     "name": "stdout",
     "output_type": "stream",
     "text": [
      "Sorry Incorrect pass\n"
     ]
    }
   ],
   "source": [
    "my_account.deposit(80000, 'dffe32')"
   ]
  },
  {
   "cell_type": "code",
   "execution_count": 21,
   "id": "dadcbc03",
   "metadata": {},
   "outputs": [
    {
     "data": {
      "text/plain": [
       "10080000"
      ]
     },
     "execution_count": 21,
     "metadata": {},
     "output_type": "execute_result"
    }
   ],
   "source": [
    "my_account.deposit(80000, 'dffe34')"
   ]
  },
  {
   "cell_type": "code",
   "execution_count": 22,
   "id": "f8243a80",
   "metadata": {},
   "outputs": [
    {
     "name": "stdout",
     "output_type": "stream",
     "text": [
      "\n",
      "        Name: farid\n",
      "        Balance: 10080000\n",
      "        Password dffe34\n",
      "\n"
     ]
    }
   ],
   "source": [
    "my_account.show()"
   ]
  },
  {
   "cell_type": "markdown",
   "id": "12bd724f",
   "metadata": {},
   "source": [
    "# Class"
   ]
  },
  {
   "cell_type": "code",
   "execution_count": 23,
   "id": "b6584133",
   "metadata": {},
   "outputs": [
    {
     "name": "stdout",
     "output_type": "stream",
     "text": [
      "<class '__main__.Point'>\n",
      "12\n",
      "3\n",
      "Drow point(12, 3)\n",
      "10\n",
      "Drow point(12, 300)\n",
      "Farid kaki\n",
      "Babak kaki\n"
     ]
    }
   ],
   "source": [
    "class Point:\n",
    "    defult_name = 'Farid kaki'\n",
    "    \n",
    "    def __init__(self, x, y):\n",
    "        self.x = x\n",
    "        self.y = y\n",
    "        \n",
    "    def drow(self):\n",
    "        print(f'Drow point({self.x}, {self.y})')\n",
    "    @classmethod \n",
    "    def zero(cls):\n",
    "        return cls(0, 0)\n",
    "        \n",
    "\n",
    "point2 = Point(12, 300)\n",
    "point2.defult_name = 'Babak kaki'\n",
    "\n",
    "\n",
    "point = Point(12, 3)\n",
    "print(type(point))\n",
    "isinstance(point, Point)\n",
    "print(point.x)\n",
    "print(point.y)\n",
    "point.drow()\n",
    "point.z = 10\n",
    "print(point.z)\n",
    "point2.drow()\n",
    "print(point.defult_name)\n",
    "print(point2.defult_name)"
   ]
  },
  {
   "cell_type": "code",
   "execution_count": 24,
   "id": "79ae742c",
   "metadata": {},
   "outputs": [
    {
     "name": "stdout",
     "output_type": "stream",
     "text": [
      "Drow point(0, 0)\n"
     ]
    }
   ],
   "source": [
    "point3 = Point.zero()\n",
    "point3.drow()"
   ]
  },
  {
   "cell_type": "code",
   "execution_count": 25,
   "id": "beb0837f",
   "metadata": {},
   "outputs": [
    {
     "name": "stdout",
     "output_type": "stream",
     "text": [
      "farid\n",
      "<class 'int'>\n",
      "Hello my name is farid and i have 29 years old\n",
      "<class 'str'>\n"
     ]
    }
   ],
   "source": [
    "class Person:\n",
    "    def __init__(self, name, age):\n",
    "        self.name = name\n",
    "        self.age = age\n",
    "        \n",
    "    def intro(self):\n",
    "        print(f'Hello my name is {self.name} and i have {self.age} years old')\n",
    "        \n",
    "    def __str__(self):\n",
    "        return f'{self.name}, {self.age}'\n",
    "        \n",
    "my_name = Person('farid', 29)\n",
    "print(my_name.name)\n",
    "print(type(my_name.age))\n",
    "my_name.intro()\n",
    "print(type(str(my_name.age)))"
   ]
  },
  {
   "cell_type": "markdown",
   "id": "6b33c37f",
   "metadata": {},
   "source": [
    "# compare the object"
   ]
  },
  {
   "cell_type": "code",
   "execution_count": 26,
   "id": "72821f0f",
   "metadata": {},
   "outputs": [],
   "source": [
    "class Point:\n",
    "    def __init__(self):\n",
    "        self.x = int(input('Pleas enter a number\\n'))\n",
    "        self.y = int(input('Pleas enter another number\\n'))\n",
    "        \n",
    "    def add(self):\n",
    "        result = self.x + self.y\n",
    "        print(f'this is your result i add your number togather {result}')"
   ]
  },
  {
   "cell_type": "code",
   "execution_count": 27,
   "id": "1ed3fdae",
   "metadata": {},
   "outputs": [
    {
     "name": "stdout",
     "output_type": "stream",
     "text": [
      "Pleas enter a number\n",
      "5\n",
      "Pleas enter another number\n",
      "6\n",
      "Pleas enter a number\n",
      "7\n",
      "Pleas enter another number\n",
      "9\n",
      "this is your result i add your number togather 11\n"
     ]
    }
   ],
   "source": [
    "point = Point()\n",
    "point1 = Point()\n",
    "point.add()"
   ]
  },
  {
   "cell_type": "code",
   "execution_count": 28,
   "id": "e1021b66",
   "metadata": {},
   "outputs": [
    {
     "name": "stdout",
     "output_type": "stream",
     "text": [
      "False\n"
     ]
    }
   ],
   "source": [
    "print(point1 == point)"
   ]
  },
  {
   "cell_type": "code",
   "execution_count": 29,
   "id": "7995f864",
   "metadata": {},
   "outputs": [
    {
     "name": "stdout",
     "output_type": "stream",
     "text": [
      "True\n"
     ]
    }
   ],
   "source": [
    "class Point:\n",
    "    def __init__(self, x, y):\n",
    "        self.x = x \n",
    "        self.y = y\n",
    "        \n",
    "    def __eq__(self, other):\n",
    "        return self.x == other.x and self.y == other.y\n",
    "    \n",
    "point=Point(1, 2)\n",
    "other = Point(1, 2)\n",
    "print(point == other)"
   ]
  },
  {
   "cell_type": "markdown",
   "id": "4ea44b48",
   "metadata": {},
   "source": [
    "## More OOP in Python"
   ]
  },
  {
   "cell_type": "code",
   "execution_count": 30,
   "id": "6c59bf8c",
   "metadata": {},
   "outputs": [
    {
     "name": "stdout",
     "output_type": "stream",
     "text": [
      "Pleas enter a password\n",
      "hhhh\n",
      "Your password is to short\n"
     ]
    }
   ],
   "source": [
    "class Password:\n",
    "    def __init__(self):\n",
    "        self.password = input('Pleas enter a password\\n')\n",
    "        \n",
    "    def check(self):\n",
    "        if len(self.password) < 8:\n",
    "            print('Your password is to short')\n",
    "        elif len(self.password) > 12:\n",
    "            print('Your password is to long') \n",
    "        else:\n",
    "            result = len(self.password) * '*'\n",
    "            print(result)\n",
    "            \n",
    "            \n",
    "p2 = Password()\n",
    "p2.check()"
   ]
  },
  {
   "cell_type": "code",
   "execution_count": null,
   "id": "0e2e9284",
   "metadata": {},
   "outputs": [],
   "source": []
  },
  {
   "cell_type": "code",
   "execution_count": null,
   "id": "6d6b71aa",
   "metadata": {},
   "outputs": [],
   "source": []
  },
  {
   "cell_type": "code",
   "execution_count": null,
   "id": "958c2e4b",
   "metadata": {},
   "outputs": [],
   "source": []
  },
  {
   "cell_type": "code",
   "execution_count": null,
   "id": "1c7a2395",
   "metadata": {},
   "outputs": [],
   "source": []
  },
  {
   "cell_type": "code",
   "execution_count": null,
   "id": "a06b9976",
   "metadata": {},
   "outputs": [],
   "source": []
  },
  {
   "cell_type": "code",
   "execution_count": null,
   "id": "3d39aa73",
   "metadata": {},
   "outputs": [],
   "source": []
  },
  {
   "cell_type": "code",
   "execution_count": null,
   "id": "997c50ef",
   "metadata": {},
   "outputs": [],
   "source": []
  },
  {
   "cell_type": "code",
   "execution_count": null,
   "id": "37793373",
   "metadata": {},
   "outputs": [],
   "source": []
  },
  {
   "cell_type": "code",
   "execution_count": null,
   "id": "38b51d5c",
   "metadata": {},
   "outputs": [],
   "source": []
  },
  {
   "cell_type": "code",
   "execution_count": null,
   "id": "88e2ab19",
   "metadata": {},
   "outputs": [],
   "source": []
  },
  {
   "cell_type": "code",
   "execution_count": null,
   "id": "f1233223",
   "metadata": {},
   "outputs": [],
   "source": []
  },
  {
   "cell_type": "code",
   "execution_count": null,
   "id": "8f517794",
   "metadata": {},
   "outputs": [],
   "source": []
  },
  {
   "cell_type": "code",
   "execution_count": null,
   "id": "31c019f4",
   "metadata": {},
   "outputs": [],
   "source": []
  },
  {
   "cell_type": "code",
   "execution_count": null,
   "id": "f076a3e5",
   "metadata": {},
   "outputs": [],
   "source": []
  },
  {
   "cell_type": "code",
   "execution_count": null,
   "id": "cf55b865",
   "metadata": {},
   "outputs": [],
   "source": []
  },
  {
   "cell_type": "code",
   "execution_count": null,
   "id": "9c0b83d2",
   "metadata": {},
   "outputs": [],
   "source": []
  },
  {
   "cell_type": "code",
   "execution_count": null,
   "id": "93d2dd0e",
   "metadata": {},
   "outputs": [],
   "source": []
  },
  {
   "cell_type": "code",
   "execution_count": null,
   "id": "091691c6",
   "metadata": {},
   "outputs": [],
   "source": []
  },
  {
   "cell_type": "code",
   "execution_count": null,
   "id": "d62ceadc",
   "metadata": {},
   "outputs": [],
   "source": []
  },
  {
   "cell_type": "code",
   "execution_count": null,
   "id": "8562b4a2",
   "metadata": {},
   "outputs": [],
   "source": []
  },
  {
   "cell_type": "code",
   "execution_count": null,
   "id": "3d96e9f4",
   "metadata": {},
   "outputs": [],
   "source": []
  },
  {
   "cell_type": "code",
   "execution_count": null,
   "id": "0ed07e4a",
   "metadata": {},
   "outputs": [],
   "source": []
  },
  {
   "cell_type": "code",
   "execution_count": null,
   "id": "f27e9286",
   "metadata": {},
   "outputs": [],
   "source": []
  },
  {
   "cell_type": "code",
   "execution_count": null,
   "id": "1b5b0c4a",
   "metadata": {},
   "outputs": [],
   "source": []
  },
  {
   "cell_type": "code",
   "execution_count": null,
   "id": "b0c29577",
   "metadata": {},
   "outputs": [],
   "source": []
  },
  {
   "cell_type": "code",
   "execution_count": null,
   "id": "18a38762",
   "metadata": {},
   "outputs": [],
   "source": []
  },
  {
   "cell_type": "code",
   "execution_count": null,
   "id": "e1e80c2b",
   "metadata": {},
   "outputs": [],
   "source": []
  },
  {
   "cell_type": "code",
   "execution_count": null,
   "id": "d50d0fc8",
   "metadata": {},
   "outputs": [],
   "source": []
  },
  {
   "cell_type": "code",
   "execution_count": null,
   "id": "d5ccc4c2",
   "metadata": {},
   "outputs": [],
   "source": []
  },
  {
   "cell_type": "code",
   "execution_count": null,
   "id": "1d403303",
   "metadata": {},
   "outputs": [],
   "source": []
  },
  {
   "cell_type": "code",
   "execution_count": null,
   "id": "5c81fca6",
   "metadata": {},
   "outputs": [],
   "source": []
  }
 ],
 "metadata": {
  "kernelspec": {
   "display_name": "Python 3 (ipykernel)",
   "language": "python",
   "name": "python3"
  },
  "language_info": {
   "codemirror_mode": {
    "name": "ipython",
    "version": 3
   },
   "file_extension": ".py",
   "mimetype": "text/x-python",
   "name": "python",
   "nbconvert_exporter": "python",
   "pygments_lexer": "ipython3",
   "version": "3.9.13"
  }
 },
 "nbformat": 4,
 "nbformat_minor": 5
}
